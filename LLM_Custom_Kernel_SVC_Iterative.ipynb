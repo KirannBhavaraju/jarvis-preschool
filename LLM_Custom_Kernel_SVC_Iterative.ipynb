{
 "nbformat": 4,
 "nbformat_minor": 0,
 "metadata": {
  "colab": {
   "name": "Kernelmatrix.ipynb",
   "provenance": [],
   "collapsed_sections": []
  },
  "kernelspec": {
   "name": "python3",
   "display_name": "Python 3"
  },
  "pycharm": {
   "stem_cell": {
    "cell_type": "raw",
    "source": [],
    "metadata": {
     "collapsed": false
    }
   }
  }
 },
 "cells": [
  {
   "cell_type": "code",
   "metadata": {
    "id": "fiegTA8iSheE",
    "colab_type": "code",
    "colab": {}
   },
   "source": [
    "import numpy as np\n",
    "from sklearn.metrics.pairwise import pairwise_kernels, polynomial_kernel\n",
    "from sklearn import svm"
   ],
   "execution_count": 0,
   "outputs": []
  },
  {
   "cell_type": "code",
   "metadata": {
    "id": "jYiYT_GSSmj1",
    "colab_type": "code",
    "colab": {}
   },
   "source": [
    "x = np.array([[-0.5,1],\n",
    "          [-1,-1.5],\n",
    "          [-1.5,1.5],[1.5,-0.5],[0.5,-0.5]])\n",
    "\n",
    "y = np.array([1,0,0,0,1])\n"
   ],
   "execution_count": 0,
   "outputs": []
  },
  {
   "cell_type": "code",
   "metadata": {
    "id": "ut6_jldFTM8d",
    "colab_type": "code",
    "outputId": "96910a50-84a7-4628-9c9e-d8a755546ebf",
    "executionInfo": {
     "status": "ok",
     "timestamp": 1589709768833,
     "user_tz": -120,
     "elapsed": 562,
     "user": {
      "displayName": "Kirann Bhavaraju",
      "photoUrl": "https://lh3.googleusercontent.com/a-/AOh14GgI_pWRFi5Jv8F5EgfOTpUwYaz9H7FMpB7iCnTDqUQ=s64",
      "userId": "01055382253313309158"
     }
    },
    "colab": {
     "base_uri": "https://localhost:8080/",
     "height": 265
    }
   },
   "source": [
    "print('Input vector:\\n', x)\n",
    "print('--------------------------------------------------------------')\n",
    "kernel_default = polynomial_kernel(x, degree=2)\n",
    "\n",
    "print('--------------------------------------------------------------')\n",
    "print('Kernel Matrix : \\n', kernel_default)\n",
    "\n",
    "kernel_default = np.array(np.matmul(kernel_default.T,kernel_default))"
   ],
   "execution_count": 9,
   "outputs": [
    {
     "output_type": "stream",
     "text": [
      "Input vector:\n",
      " [[-0.5  1. ]\n",
      " [-1.  -1.5]\n",
      " [-1.5  1.5]\n",
      " [ 1.5 -0.5]\n",
      " [ 0.5 -0.5]]\n",
      "--------------------------------------------------------------\n",
      "--------------------------------------------------------------\n",
      "Kernel Matrix : \n",
      " [[ 2.640625  0.25      4.515625  0.140625  0.390625]\n",
      " [ 0.25      6.890625  0.390625  0.390625  1.265625]\n",
      " [ 4.515625  0.390625 10.5625    0.25      0.0625  ]\n",
      " [ 0.140625  0.390625  0.25      5.0625    2.25    ]\n",
      " [ 0.390625  1.265625  0.0625    2.25      1.5625  ]]\n"
     ],
     "name": "stdout"
    }
   ]
  },
  {
   "cell_type": "code",
   "metadata": {
    "id": "FvltQ6YiKsHu",
    "colab_type": "code",
    "outputId": "844df9f1-8fcb-441d-d24c-c7fabd54e507",
    "executionInfo": {
     "status": "ok",
     "timestamp": 1589709891853,
     "user_tz": -120,
     "elapsed": 559,
     "user": {
      "displayName": "Kirann Bhavaraju",
      "photoUrl": "https://lh3.googleusercontent.com/a-/AOh14GgI_pWRFi5Jv8F5EgfOTpUwYaz9H7FMpB7iCnTDqUQ=s64",
      "userId": "01055382253313309158"
     }
    },
    "colab": {
     "base_uri": "https://localhost:8080/",
     "height": 1000
    },
    "pycharm": {
     "name": "#%%\n"
    }
   },
   "source": [
    "alpha = np.zeros(5)\n",
    "bias = 0\n",
    "\n",
    "def update_alpha(index):\n",
    "  global alpha\n",
    "  alpha[index] = alpha[index] + 1\n",
    "\n",
    "def update_bias(label,index):\n",
    "  global bias,x\n",
    "  tempmax = 0\n",
    "  for idx in range(0,len(x)):\n",
    "    if(np.linalg.norm(x[idx]) > tempmax): tempmax = np.linalg.norm(x[idx])\n",
    "  tempmax = label * (tempmax * tempmax)  \n",
    "  bias = bias + tempmax\n",
    "\n",
    "def kernel_default_test(row, label ,index):\n",
    "    constraint = 0\n",
    "    for inner_idx in range(0,len(row)):\n",
    "      costraint = constraint + (row[inner_idx] * alpha[inner_idx] * y[inner_idx])\n",
    "    constraint = y[index] * (constraint + bias)\n",
    "    if(constraint <= 0):\n",
    "      update_alpha(index)\n",
    "      update_bias(label,index)\n",
    "    print(\" Alpha is : \", alpha)\n",
    "    print(\" Bias is : \", bias)\n",
    "    \n",
    "\n",
    "epochs = 0\n",
    "while(epochs < 10):\n",
    "  print(\"-------------------------\")\n",
    "  print(\"\\n Epoch %d\" %epochs)\n",
    "  epochs = epochs + 1\n",
    "  i = 0\n",
    "  for element in kernel_default:\n",
    "      kernel_default_test(element, y[i] , i) \n",
    "      i = i+1\n",
    "  print(\"End of Epoch \\n\")"
   ],
   "execution_count": 11,
   "outputs": [
    {
     "output_type": "stream",
     "text": [
      "-------------------------\n",
      "\n",
      " Epoch 0\n",
      " Alpha is :  [1. 0. 0. 0. 0.]\n",
      " Bias is :  4.499999999999999\n",
      " Alpha is :  [1. 1. 0. 0. 0.]\n",
      " Bias is :  4.499999999999999\n",
      " Alpha is :  [1. 1. 1. 0. 0.]\n",
      " Bias is :  4.499999999999999\n",
      " Alpha is :  [1. 1. 1. 1. 0.]\n",
      " Bias is :  4.499999999999999\n",
      " Alpha is :  [1. 1. 1. 1. 0.]\n",
      " Bias is :  4.499999999999999\n",
      "End of Epoch \n",
      "\n",
      "-------------------------\n",
      "\n",
      " Epoch 1\n",
      " Alpha is :  [1. 1. 1. 1. 0.]\n",
      " Bias is :  4.499999999999999\n",
      " Alpha is :  [1. 2. 1. 1. 0.]\n",
      " Bias is :  4.499999999999999\n",
      " Alpha is :  [1. 2. 2. 1. 0.]\n",
      " Bias is :  4.499999999999999\n",
      " Alpha is :  [1. 2. 2. 2. 0.]\n",
      " Bias is :  4.499999999999999\n",
      " Alpha is :  [1. 2. 2. 2. 0.]\n",
      " Bias is :  4.499999999999999\n",
      "End of Epoch \n",
      "\n",
      "-------------------------\n",
      "\n",
      " Epoch 2\n",
      " Alpha is :  [1. 2. 2. 2. 0.]\n",
      " Bias is :  4.499999999999999\n",
      " Alpha is :  [1. 3. 2. 2. 0.]\n",
      " Bias is :  4.499999999999999\n",
      " Alpha is :  [1. 3. 3. 2. 0.]\n",
      " Bias is :  4.499999999999999\n",
      " Alpha is :  [1. 3. 3. 3. 0.]\n",
      " Bias is :  4.499999999999999\n",
      " Alpha is :  [1. 3. 3. 3. 0.]\n",
      " Bias is :  4.499999999999999\n",
      "End of Epoch \n",
      "\n",
      "-------------------------\n",
      "\n",
      " Epoch 3\n",
      " Alpha is :  [1. 3. 3. 3. 0.]\n",
      " Bias is :  4.499999999999999\n",
      " Alpha is :  [1. 4. 3. 3. 0.]\n",
      " Bias is :  4.499999999999999\n",
      " Alpha is :  [1. 4. 4. 3. 0.]\n",
      " Bias is :  4.499999999999999\n",
      " Alpha is :  [1. 4. 4. 4. 0.]\n",
      " Bias is :  4.499999999999999\n",
      " Alpha is :  [1. 4. 4. 4. 0.]\n",
      " Bias is :  4.499999999999999\n",
      "End of Epoch \n",
      "\n",
      "-------------------------\n",
      "\n",
      " Epoch 4\n",
      " Alpha is :  [1. 4. 4. 4. 0.]\n",
      " Bias is :  4.499999999999999\n",
      " Alpha is :  [1. 5. 4. 4. 0.]\n",
      " Bias is :  4.499999999999999\n",
      " Alpha is :  [1. 5. 5. 4. 0.]\n",
      " Bias is :  4.499999999999999\n",
      " Alpha is :  [1. 5. 5. 5. 0.]\n",
      " Bias is :  4.499999999999999\n",
      " Alpha is :  [1. 5. 5. 5. 0.]\n",
      " Bias is :  4.499999999999999\n",
      "End of Epoch \n",
      "\n",
      "-------------------------\n",
      "\n",
      " Epoch 5\n",
      " Alpha is :  [1. 5. 5. 5. 0.]\n",
      " Bias is :  4.499999999999999\n",
      " Alpha is :  [1. 6. 5. 5. 0.]\n",
      " Bias is :  4.499999999999999\n",
      " Alpha is :  [1. 6. 6. 5. 0.]\n",
      " Bias is :  4.499999999999999\n",
      " Alpha is :  [1. 6. 6. 6. 0.]\n",
      " Bias is :  4.499999999999999\n",
      " Alpha is :  [1. 6. 6. 6. 0.]\n",
      " Bias is :  4.499999999999999\n",
      "End of Epoch \n",
      "\n",
      "-------------------------\n",
      "\n",
      " Epoch 6\n",
      " Alpha is :  [1. 6. 6. 6. 0.]\n",
      " Bias is :  4.499999999999999\n",
      " Alpha is :  [1. 7. 6. 6. 0.]\n",
      " Bias is :  4.499999999999999\n",
      " Alpha is :  [1. 7. 7. 6. 0.]\n",
      " Bias is :  4.499999999999999\n",
      " Alpha is :  [1. 7. 7. 7. 0.]\n",
      " Bias is :  4.499999999999999\n",
      " Alpha is :  [1. 7. 7. 7. 0.]\n",
      " Bias is :  4.499999999999999\n",
      "End of Epoch \n",
      "\n",
      "-------------------------\n",
      "\n",
      " Epoch 7\n",
      " Alpha is :  [1. 7. 7. 7. 0.]\n",
      " Bias is :  4.499999999999999\n",
      " Alpha is :  [1. 8. 7. 7. 0.]\n",
      " Bias is :  4.499999999999999\n",
      " Alpha is :  [1. 8. 8. 7. 0.]\n",
      " Bias is :  4.499999999999999\n",
      " Alpha is :  [1. 8. 8. 8. 0.]\n",
      " Bias is :  4.499999999999999\n",
      " Alpha is :  [1. 8. 8. 8. 0.]\n",
      " Bias is :  4.499999999999999\n",
      "End of Epoch \n",
      "\n",
      "-------------------------\n",
      "\n",
      " Epoch 8\n",
      " Alpha is :  [1. 8. 8. 8. 0.]\n",
      " Bias is :  4.499999999999999\n",
      " Alpha is :  [1. 9. 8. 8. 0.]\n",
      " Bias is :  4.499999999999999\n",
      " Alpha is :  [1. 9. 9. 8. 0.]\n",
      " Bias is :  4.499999999999999\n",
      " Alpha is :  [1. 9. 9. 9. 0.]\n",
      " Bias is :  4.499999999999999\n",
      " Alpha is :  [1. 9. 9. 9. 0.]\n",
      " Bias is :  4.499999999999999\n",
      "End of Epoch \n",
      "\n",
      "-------------------------\n",
      "\n",
      " Epoch 9\n",
      " Alpha is :  [1. 9. 9. 9. 0.]\n",
      " Bias is :  4.499999999999999\n",
      " Alpha is :  [ 1. 10.  9.  9.  0.]\n",
      " Bias is :  4.499999999999999\n",
      " Alpha is :  [ 1. 10. 10.  9.  0.]\n",
      " Bias is :  4.499999999999999\n",
      " Alpha is :  [ 1. 10. 10. 10.  0.]\n",
      " Bias is :  4.499999999999999\n",
      " Alpha is :  [ 1. 10. 10. 10.  0.]\n",
      " Bias is :  4.499999999999999\n",
      "End of Epoch \n",
      "\n"
     ],
     "name": "stdout"
    }
   ]
  }
 ]
}