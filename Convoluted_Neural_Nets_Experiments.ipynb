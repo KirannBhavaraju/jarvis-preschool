{
 "nbformat": 4,
 "nbformat_minor": 0,
 "metadata": {
  "colab": {
   "name": "IDL_Assignmet_3_Sub.ipynb",
   "provenance": [
    {
     "file_id": "1tyBXKdjw85r_Qo7Tkux80DDwcoj5dkiU",
     "timestamp": 1589283915272
    }
   ],
   "collapsed_sections": [
    "flJyUEGHBOld",
    "OhXvHwuzBTia",
    "uZgJwJ7WCXlL",
    "nbEx3u7IBt98",
    "3sJ156DSCbQn",
    "oQ-rsVNJGWkF",
    "ViSZsJwZHwz4",
    "9i1DqF2cJk_c",
    "zgD4U9MFTZIZ",
    "OeaSya_RVgnC",
    "gJUoFSTEW2TB",
    "6SB38mjeY37E",
    "7NK3DEkTZrTn",
    "0MDbw3bMbEwW",
    "bdPqqM-giK4R"
   ]
  },
  "kernelspec": {
   "name": "python3",
   "display_name": "Python 3"
  },
  "accelerator": "GPU",
  "pycharm": {
   "stem_cell": {
    "cell_type": "raw",
    "source": [],
    "metadata": {
     "collapsed": false
    }
   }
  }
 },
 "cells": [
  {
   "cell_type": "markdown",
   "metadata": {
    "id": "Dl7KlV6cOQ7K",
    "colab_type": "text"
   },
   "source": [
    "# **CONVOLUTIONAL NEURAL NETWORK WITH BASIC KERAS**      "
   ]
  },
  {
   "cell_type": "markdown",
   "metadata": {
    "id": "flJyUEGHBOld",
    "colab_type": "text"
   },
   "source": [
    "## Loading Libraries"
   ]
  },
  {
   "cell_type": "code",
   "metadata": {
    "id": "kISdpgoc52qU",
    "colab_type": "code",
    "colab": {}
   },
   "source": [
    "from tensorflow.keras import datasets, layers, models\n",
    "import matplotlib.pyplot as plt\n",
    "import tensorflow as tf\n",
    "import numpy as np\n",
    "np.random.seed(42)"
   ],
   "execution_count": 0,
   "outputs": []
  },
  {
   "cell_type": "markdown",
   "metadata": {
    "id": "OhXvHwuzBTia",
    "colab_type": "text"
   },
   "source": [
    "## **Working on CIFAR10 Data**"
   ]
  },
  {
   "cell_type": "markdown",
   "metadata": {
    "id": "Xf-QGsHiBiFY",
    "colab_type": "text"
   },
   "source": [
    "Pipeline for all the experiments\n",
    "* Loading images                                        \n",
    "* Reshaping (Train images, labels) and (Test images, labels)               \n",
    "* Defining Batch Size                                    \n",
    "* Standardizing both Training and Testing data"
   ]
  },
  {
   "cell_type": "code",
   "metadata": {
    "id": "N3v_Kr_e8fZ0",
    "colab_type": "code",
    "colab": {}
   },
   "source": [
    "(train_images,train_labels), (test_images,test_labels) = datasets.cifar10.load_data()\n",
    "\n",
    "train_labels = train_labels.reshape((-1))\n",
    "train_data= tf.data.Dataset.from_tensor_slices((train_images.reshape([-1,32,32,3]).astype(np.float32)/255, train_labels.astype(np.int32)))\n",
    "\n",
    "train_data= train_data.shuffle(buffer_size=60000).batch(128).repeat()\n",
    "\n",
    "test_labels = test_labels.reshape((-1))\n",
    "test_data = tf.data.Dataset.from_tensor_slices((test_images.reshape([-1,32,32,3]).astype(np.float32)/255, test_labels.astype(np.int32))).batch(10000)\n"
   ],
   "execution_count": 0,
   "outputs": []
  },
  {
   "cell_type": "markdown",
   "metadata": {
    "id": "uZgJwJ7WCXlL",
    "colab_type": "text"
   },
   "source": [
    "## **Experiment1:**           \n",
    "Perimeters:\n",
    "1. Convolutional Layers: 3\n",
    "2. Filter size         : 3, 3, 3\n",
    "3. Number of Filters   : 16, 32, 64\n",
    "4. Padding             : valid\n",
    "5. Pooling size        : 2x2\n",
    "6. Optimizer           : Adam\n",
    "\n"
   ]
  },
  {
   "cell_type": "code",
   "metadata": {
    "id": "F3pRNpNNsAa7",
    "colab_type": "code",
    "outputId": "914f6620-b717-437b-da8b-f48d213cd25e",
    "colab": {
     "base_uri": "https://localhost:8080/",
     "height": 467
    }
   },
   "source": [
    "model1 = models.Sequential()\n",
    "model1.add(layers.Conv2D(16, kernel_size=3, padding ='valid', activation='relu', input_shape=(32,32,3)))\n",
    "model1.add(layers.MaxPool2D((2,2)))                                                     \n",
    "model1.add(layers.Conv2D(32, kernel_size=3, padding ='valid', activation='relu'))       \n",
    "model1.add(layers.MaxPool2D((2,2)))                                                     \n",
    "model1.add(layers.Conv2D(64, kernel_size=3, padding ='valid', activation='relu'))                  \n",
    "model1.add(layers.Flatten())                                                           \n",
    "model1.add(layers.Dense(64,activation='relu'))                                               \n",
    "model1.add(layers.Dense(10))                                                           \n",
    "\n",
    "model1.summary()"
   ],
   "execution_count": 0,
   "outputs": [
    {
     "output_type": "stream",
     "text": [
      "Model: \"sequential_2\"\n",
      "_________________________________________________________________\n",
      "Layer (type)                 Output Shape              Param #   \n",
      "=================================================================\n",
      "conv2d_3 (Conv2D)            (None, 30, 30, 16)        448       \n",
      "_________________________________________________________________\n",
      "max_pooling2d_2 (MaxPooling2 (None, 15, 15, 16)        0         \n",
      "_________________________________________________________________\n",
      "conv2d_4 (Conv2D)            (None, 13, 13, 32)        4640      \n",
      "_________________________________________________________________\n",
      "max_pooling2d_3 (MaxPooling2 (None, 6, 6, 32)          0         \n",
      "_________________________________________________________________\n",
      "conv2d_5 (Conv2D)            (None, 4, 4, 64)          18496     \n",
      "_________________________________________________________________\n",
      "flatten_1 (Flatten)          (None, 1024)              0         \n",
      "_________________________________________________________________\n",
      "dense_2 (Dense)              (None, 64)                65600     \n",
      "_________________________________________________________________\n",
      "dense_3 (Dense)              (None, 10)                650       \n",
      "=================================================================\n",
      "Total params: 89,834\n",
      "Trainable params: 89,834\n",
      "Non-trainable params: 0\n",
      "_________________________________________________________________\n"
     ],
     "name": "stdout"
    }
   ]
  },
  {
   "cell_type": "code",
   "metadata": {
    "id": "8oqHmBrSEmrX",
    "colab_type": "code",
    "colab": {}
   },
   "source": [
    "train_steps = 5000\n",
    "opt = tf.optimizers.Adam()\n",
    "loss_fn = tf.losses.SparseCategoricalCrossentropy(from_logits=True)"
   ],
   "execution_count": 0,
   "outputs": []
  },
  {
   "cell_type": "markdown",
   "metadata": {
    "id": "BZwRVBzqBigG",
    "colab_type": "text"
   },
   "source": [
    "Training the model and checking accuracy"
   ]
  },
  {
   "cell_type": "code",
   "metadata": {
    "id": "1CjxvbS_7MGb",
    "colab_type": "code",
    "outputId": "4752664a-9363-43fe-b5bc-c799cc8887dd",
    "colab": {
     "base_uri": "https://localhost:8080/",
     "height": 972
    }
   },
   "source": [
    "varis = model1.trainable_variables\n",
    "for step,(img_batch, lbl_batch) in enumerate(train_data):\n",
    "  if step > train_steps:\n",
    "    break\n",
    "  \n",
    "  with tf.GradientTape() as tape:\n",
    "    logits = model1(img_batch)\n",
    "    xent   = loss_fn(lbl_batch, logits) \n",
    "  grads = tape.gradient(xent,varis)\n",
    "  opt.apply_gradients(zip(grads, varis))\n",
    "\n",
    "  if not step%100:\n",
    "    train_preds = tf.argmax(logits, axis = 1, output_type = tf.int32)\n",
    "    train_acc   = tf.reduce_mean(tf.cast(tf.equal(train_preds, lbl_batch), tf.float32))\n",
    "    print(\"Loss: {} , Training Accuracy: {}\".format(xent, train_acc))"
   ],
   "execution_count": 0,
   "outputs": [
    {
     "output_type": "stream",
     "text": [
      "Loss: 2.300624370574951 , Training Accuracy: 0.1171875\n",
      "Loss: 1.9667110443115234 , Training Accuracy: 0.28125\n",
      "Loss: 1.604838252067566 , Training Accuracy: 0.4609375\n",
      "Loss: 1.4557592868804932 , Training Accuracy: 0.453125\n",
      "Loss: 1.4034475088119507 , Training Accuracy: 0.4765625\n",
      "Loss: 1.4471840858459473 , Training Accuracy: 0.46875\n",
      "Loss: 1.3984029293060303 , Training Accuracy: 0.4375\n",
      "Loss: 1.3106766939163208 , Training Accuracy: 0.5234375\n",
      "Loss: 1.306623935699463 , Training Accuracy: 0.53125\n",
      "Loss: 1.29557204246521 , Training Accuracy: 0.5546875\n",
      "Loss: 1.2981810569763184 , Training Accuracy: 0.5859375\n",
      "Loss: 1.2226500511169434 , Training Accuracy: 0.5625\n",
      "Loss: 1.1770005226135254 , Training Accuracy: 0.5703125\n",
      "Loss: 1.3250458240509033 , Training Accuracy: 0.609375\n",
      "Loss: 1.1014833450317383 , Training Accuracy: 0.5625\n",
      "Loss: 1.0155524015426636 , Training Accuracy: 0.6640625\n",
      "Loss: 1.024159550666809 , Training Accuracy: 0.6796875\n",
      "Loss: 1.0783638954162598 , Training Accuracy: 0.6015625\n",
      "Loss: 1.0526838302612305 , Training Accuracy: 0.640625\n",
      "Loss: 1.2045735120773315 , Training Accuracy: 0.6015625\n",
      "Loss: 1.1266077756881714 , Training Accuracy: 0.6328125\n",
      "Loss: 1.0184704065322876 , Training Accuracy: 0.703125\n",
      "Loss: 0.9758678674697876 , Training Accuracy: 0.6953125\n",
      "Loss: 1.1591942310333252 , Training Accuracy: 0.6015625\n",
      "Loss: 0.9847007989883423 , Training Accuracy: 0.6171875\n",
      "Loss: 0.9494360089302063 , Training Accuracy: 0.6328125\n",
      "Loss: 1.1565474271774292 , Training Accuracy: 0.609375\n",
      "Loss: 1.0118415355682373 , Training Accuracy: 0.6640625\n",
      "Loss: 1.02101469039917 , Training Accuracy: 0.640625\n",
      "Loss: 1.1295610666275024 , Training Accuracy: 0.6328125\n",
      "Loss: 0.9467834830284119 , Training Accuracy: 0.65625\n",
      "Loss: 0.9747826457023621 , Training Accuracy: 0.6484375\n",
      "Loss: 1.1732693910598755 , Training Accuracy: 0.5625\n",
      "Loss: 0.796004056930542 , Training Accuracy: 0.7265625\n",
      "Loss: 0.8970746994018555 , Training Accuracy: 0.6328125\n",
      "Loss: 0.9195423126220703 , Training Accuracy: 0.6640625\n",
      "Loss: 0.7166692018508911 , Training Accuracy: 0.7265625\n",
      "Loss: 1.091537594795227 , Training Accuracy: 0.6171875\n",
      "Loss: 0.9095913171768188 , Training Accuracy: 0.671875\n",
      "Loss: 0.9896849393844604 , Training Accuracy: 0.640625\n",
      "Loss: 0.8615346550941467 , Training Accuracy: 0.703125\n",
      "Loss: 0.7963253259658813 , Training Accuracy: 0.6875\n",
      "Loss: 0.7437869906425476 , Training Accuracy: 0.734375\n",
      "Loss: 0.8729648590087891 , Training Accuracy: 0.6499999761581421\n",
      "Loss: 0.9440121054649353 , Training Accuracy: 0.65625\n",
      "Loss: 0.8247942924499512 , Training Accuracy: 0.6484375\n",
      "Loss: 0.9479333162307739 , Training Accuracy: 0.6328125\n",
      "Loss: 0.6691101789474487 , Training Accuracy: 0.7578125\n",
      "Loss: 0.8424124717712402 , Training Accuracy: 0.6875\n",
      "Loss: 0.9742471575737 , Training Accuracy: 0.65625\n",
      "Loss: 0.7932391166687012 , Training Accuracy: 0.6953125\n"
     ],
     "name": "stdout"
    }
   ]
  },
  {
   "cell_type": "markdown",
   "metadata": {
    "id": "S_JbtB62Bopw",
    "colab_type": "text"
   },
   "source": [
    "Checking Testing Accuracy"
   ]
  },
  {
   "cell_type": "code",
   "metadata": {
    "id": "UKLXe3TEHKEH",
    "colab_type": "code",
    "outputId": "efb16ec5-ef52-45a7-8cd3-5a3d9605daad",
    "colab": {
     "base_uri": "https://localhost:8080/",
     "height": 36
    }
   },
   "source": [
    "big_test_batch = next(iter(test_data))\n",
    "test_preds = tf.argmax(model1(big_test_batch[0]), axis=1,\n",
    "                       output_type=tf.int32)\n",
    "test_acc   = tf.reduce_mean(tf.cast(tf.equal(test_preds, big_test_batch[1]),\n",
    "                             tf.float32))\n",
    "print('Testing Accuracy: {}'.format(test_acc))"
   ],
   "execution_count": 0,
   "outputs": [
    {
     "output_type": "stream",
     "text": [
      "Testing Accuracy: 0.6657999753952026\n"
     ],
     "name": "stdout"
    }
   ]
  },
  {
   "cell_type": "markdown",
   "metadata": {
    "id": "nbEx3u7IBt98",
    "colab_type": "text"
   },
   "source": [
    "## PLotting Feature Map"
   ]
  },
  {
   "cell_type": "code",
   "metadata": {
    "id": "1bzzhq2ramPV",
    "colab_type": "code",
    "outputId": "248a5f75-6c98-4727-d7cc-63af8bd59368",
    "colab": {
     "base_uri": "https://localhost:8080/",
     "height": 1000
    }
   },
   "source": [
    "# layers = [layer.output for layer in model.layers]\n",
    "#print(model)\n",
    "layers =  (model1.layers[0]).output\n",
    "\n",
    "activation_model = models.Model(inputs = model1.input, outputs = layers)\n",
    "\n",
    "for step, (img_batch, lbl_batch) in enumerate(train_data):\n",
    "    act_map_batch = activation_model.predict_on_batch(img_batch)\n",
    "    for idx in range(0, 15):\n",
    "      plt.matshow(act_map_batch[0, :, :, idx])\n",
    "    break\n",
    "  "
   ],
   "execution_count": 0,
   "outputs": [
    {
     "output_type": "display_data",
     "data": {
      "image/png": "[encoded data removed]",
      "text/plain": [
       "<Figure size 288x288 with 1 Axes>"
      ]
     },
     "metadata": {
      "tags": [],
      "needs_background": "light"
     }
    },
    {
     "output_type": "display_data",
     "data": {
      "image/png": "[encoded data removed]",
      "text/plain": [
       "<Figure size 288x288 with 1 Axes>"
      ]
     },
     "metadata": {
      "tags": [],
      "needs_background": "light"
     }
    },
    {
     "output_type": "display_data",
     "data": {
      "image/png": "[encoded data removed]",
      "text/plain": [
       "<Figure size 288x288 with 1 Axes>"
      ]
     },
     "metadata": {
      "tags": [],
      "needs_background": "light"
     }
    },
    {
     "output_type": "display_data",
     "data": {
      "image/png": "[encoded data removed]",
      "text/plain": [
       "<Figure size 288x288 with 1 Axes>"
      ]
     },
     "metadata": {
      "tags": [],
      "needs_background": "light"
     }
    },
    {
     "output_type": "display_data",
     "data": {
      "image/png": "[encoded data removed]",
      "text/plain": [
       "<Figure size 288x288 with 1 Axes>"
      ]
     },
     "metadata": {
      "tags": [],
      "needs_background": "light"
     }
    },
    {
     "output_type": "display_data",
     "data": {
      "image/png": "[encoded data removed]",
      "text/plain": [
       "<Figure size 288x288 with 1 Axes>"
      ]
     },
     "metadata": {
      "tags": [],
      "needs_background": "light"
     }
    },
    {
     "output_type": "display_data",
     "data": {
      "image/png": "[encoded data removed]",
      "text/plain": [
       "<Figure size 288x288 with 1 Axes>"
      ]
     },
     "metadata": {
      "tags": [],
      "needs_background": "light"
     }
    },
    {
     "output_type": "display_data",
     "data": {
      "image/png": "[encoded data removed]",
      "text/plain": [
       "<Figure size 288x288 with 1 Axes>"
      ]
     },
     "metadata": {
      "tags": [],
      "needs_background": "light"
     }
    },
    {
     "output_type": "display_data",
     "data": {
      "image/png": "[encoded data removed]",
      "text/plain": [
       "<Figure size 288x288 with 1 Axes>"
      ]
     },
     "metadata": {
      "tags": [],
      "needs_background": "light"
     }
    },
    {
     "output_type": "display_data",
     "data": {
      "image/png": "[encoded data removed]",
      "text/plain": [
       "<Figure size 288x288 with 1 Axes>"
      ]
     },
     "metadata": {
      "tags": [],
      "needs_background": "light"
     }
    },
    {
     "output_type": "display_data",
     "data": {
      "image/png": "[encoded data removed]",
      "text/plain": [
       "<Figure size 288x288 with 1 Axes>"
      ]
     },
     "metadata": {
      "tags": [],
      "needs_background": "light"
     }
    },
    {
     "output_type": "display_data",
     "data": {
      "image/png": "[encoded data removed]",
      "text/plain": [
       "<Figure size 288x288 with 1 Axes>"
      ]
     },
     "metadata": {
      "tags": [],
      "needs_background": "light"
     }
    },
    {
     "output_type": "display_data",
     "data": {
      "image/png": "[encoded data removed]",
      "text/plain": [
       "<Figure size 288x288 with 1 Axes>"
      ]
     },
     "metadata": {
      "tags": [],
      "needs_background": "light"
     }
    },
    {
     "output_type": "display_data",
     "data": {
      "image/png": "[encoded data removed]",
      "text/plain": [
       "<Figure size 288x288 with 1 Axes>"
      ]
     },
     "metadata": {
      "tags": [],
      "needs_background": "light"
     }
    },
    {
     "output_type": "display_data",
     "data": {
      "image/png": "[encoded data removed]",
      "text/plain": [
       "<Figure size 288x288 with 1 Axes>"
      ]
     },
     "metadata": {
      "tags": [],
      "needs_background": "light"
     }
    }
   ]
  },
  {
   "cell_type": "markdown",
   "metadata": {
    "id": "3sJ156DSCbQn",
    "colab_type": "text"
   },
   "source": [
    "## **Experiment2:**           \n",
    "Perimeters:\n",
    "1. Convolutional Layers: 4\n",
    "2. Filter size         : 2, 3, 4, 5\n",
    "3. Number of Filters   : 8, 16, 32, 64\n",
    "4. Padding             : valid\n",
    "5. Pooling size        : 2x2\n",
    "6. Optimizer           : Adam\n"
   ]
  },
  {
   "cell_type": "code",
   "metadata": {
    "id": "kO9YIonx0m1-",
    "colab_type": "code",
    "outputId": "feb4d9a3-abf7-43e6-83b4-d7cef5cdb2eb",
    "colab": {
     "base_uri": "https://localhost:8080/",
     "height": 504
    }
   },
   "source": [
    "model2 = models.Sequential()\n",
    "model2.add(layers.Conv2D(8, kernel_size=2, activation='relu', input_shape=(32,32,3)))\n",
    "#model2.add(layers.MaxPool2D((2,2)))                                                     \n",
    "model2.add(layers.Conv2D(16, kernel_size=3, activation='relu'))       \n",
    "model2.add(layers.MaxPool2D((2,2)))                                                     \n",
    "model2.add(layers.Conv2D(32, kernel_size=4, activation='relu'))     \n",
    "model2.add(layers.MaxPool2D((2,2)))      \n",
    "model2.add(layers.Conv2D(64, kernel_size=5,  activation='relu'))        \n",
    "model2.add(layers.Flatten())                                                           \n",
    "model2.add(layers.Dense(64,activation='relu'))                                               \n",
    "model2.add(layers.Dense(10))                                                           \n",
    "\n",
    "model2.summary()\n"
   ],
   "execution_count": 0,
   "outputs": [
    {
     "output_type": "stream",
     "text": [
      "Model: \"sequential_1\"\n",
      "_________________________________________________________________\n",
      "Layer (type)                 Output Shape              Param #   \n",
      "=================================================================\n",
      "conv2d_4 (Conv2D)            (None, 31, 31, 8)         104       \n",
      "_________________________________________________________________\n",
      "conv2d_5 (Conv2D)            (None, 29, 29, 16)        1168      \n",
      "_________________________________________________________________\n",
      "max_pooling2d_3 (MaxPooling2 (None, 14, 14, 16)        0         \n",
      "_________________________________________________________________\n",
      "conv2d_6 (Conv2D)            (None, 11, 11, 32)        8224      \n",
      "_________________________________________________________________\n",
      "max_pooling2d_4 (MaxPooling2 (None, 5, 5, 32)          0         \n",
      "_________________________________________________________________\n",
      "conv2d_7 (Conv2D)            (None, 1, 1, 64)          51264     \n",
      "_________________________________________________________________\n",
      "flatten (Flatten)            (None, 64)                0         \n",
      "_________________________________________________________________\n",
      "dense (Dense)                (None, 64)                4160      \n",
      "_________________________________________________________________\n",
      "dense_1 (Dense)              (None, 10)                650       \n",
      "=================================================================\n",
      "Total params: 65,570\n",
      "Trainable params: 65,570\n",
      "Non-trainable params: 0\n",
      "_________________________________________________________________\n"
     ],
     "name": "stdout"
    }
   ]
  },
  {
   "cell_type": "code",
   "metadata": {
    "id": "iZbFmuZQDW6l",
    "colab_type": "code",
    "outputId": "639e4789-7ad6-463b-9376-f09992f050e1",
    "colab": {
     "base_uri": "https://localhost:8080/",
     "height": 991
    }
   },
   "source": [
    "train_steps = 5000\n",
    "opt = tf.optimizers.Adam()\n",
    "loss_fn = tf.losses.SparseCategoricalCrossentropy(from_logits=True)\n",
    "\n",
    "varis = model2.trainable_variables\n",
    "for step,(img_batch, lbl_batch) in enumerate(train_data):\n",
    "  if step > train_steps:\n",
    "    break\n",
    "  \n",
    "  with tf.GradientTape() as tape:\n",
    "    logits = model2(img_batch)\n",
    "    xent   = loss_fn(lbl_batch, logits) \n",
    "  grads = tape.gradient(xent,varis)\n",
    "  opt.apply_gradients(zip(grads, varis))\n",
    "\n",
    "  if not step%100:\n",
    "    train_preds = tf.argmax(logits, axis = 1, output_type = tf.int32)\n",
    "    train_acc   = tf.reduce_mean(tf.cast(tf.equal(train_preds, lbl_batch), tf.float32))\n",
    "    print(\"Loss: {} , Training Accuracy: {}\".format(xent, train_acc))\n",
    "\n",
    "big_test_batch = next(iter(test_data))\n",
    "test_preds = tf.argmax(model2(big_test_batch[0]), axis=1,\n",
    "                       output_type=tf.int32)\n",
    "test_acc   = tf.reduce_mean(tf.cast(tf.equal(test_preds, big_test_batch[1]),\n",
    "                             tf.float32))\n",
    "print('Testing Accuracy: {}'.format(test_acc))"
   ],
   "execution_count": 0,
   "outputs": [
    {
     "output_type": "stream",
     "text": [
      "Loss: 2.3075156211853027 , Training Accuracy: 0.09375\n",
      "Loss: 1.6337770223617554 , Training Accuracy: 0.421875\n",
      "Loss: 1.7234519720077515 , Training Accuracy: 0.375\n",
      "Loss: 1.5476269721984863 , Training Accuracy: 0.4296875\n",
      "Loss: 1.489339828491211 , Training Accuracy: 0.421875\n",
      "Loss: 1.355763554573059 , Training Accuracy: 0.5078125\n",
      "Loss: 1.137675404548645 , Training Accuracy: 0.6015625\n",
      "Loss: 1.3502293825149536 , Training Accuracy: 0.5546875\n",
      "Loss: 1.3263591527938843 , Training Accuracy: 0.53125\n",
      "Loss: 1.1676212549209595 , Training Accuracy: 0.5625\n",
      "Loss: 1.1910139322280884 , Training Accuracy: 0.5078125\n",
      "Loss: 1.3311299085617065 , Training Accuracy: 0.5625\n",
      "Loss: 1.1991400718688965 , Training Accuracy: 0.5390625\n",
      "Loss: 1.1371492147445679 , Training Accuracy: 0.59375\n",
      "Loss: 1.0729364156723022 , Training Accuracy: 0.6328125\n",
      "Loss: 1.0934991836547852 , Training Accuracy: 0.6015625\n",
      "Loss: 1.030316710472107 , Training Accuracy: 0.6796875\n",
      "Loss: 1.110168218612671 , Training Accuracy: 0.5859375\n",
      "Loss: 1.0737450122833252 , Training Accuracy: 0.6328125\n",
      "Loss: 1.0223559141159058 , Training Accuracy: 0.6171875\n",
      "Loss: 1.1827960014343262 , Training Accuracy: 0.6484375\n",
      "Loss: 0.9812832474708557 , Training Accuracy: 0.671875\n",
      "Loss: 0.9196439981460571 , Training Accuracy: 0.671875\n",
      "Loss: 1.0058684349060059 , Training Accuracy: 0.6484375\n",
      "Loss: 0.8768103122711182 , Training Accuracy: 0.6796875\n",
      "Loss: 1.1621429920196533 , Training Accuracy: 0.5859375\n",
      "Loss: 1.0597379207611084 , Training Accuracy: 0.65625\n",
      "Loss: 0.7831101417541504 , Training Accuracy: 0.7265625\n",
      "Loss: 0.8512027263641357 , Training Accuracy: 0.6953125\n",
      "Loss: 0.9275690317153931 , Training Accuracy: 0.6640625\n",
      "Loss: 0.9181984066963196 , Training Accuracy: 0.7109375\n",
      "Loss: 0.8821038007736206 , Training Accuracy: 0.6953125\n",
      "Loss: 0.9085934162139893 , Training Accuracy: 0.671875\n",
      "Loss: 0.9017297029495239 , Training Accuracy: 0.6484375\n",
      "Loss: 0.6546468734741211 , Training Accuracy: 0.75\n",
      "Loss: 0.8947250843048096 , Training Accuracy: 0.65625\n",
      "Loss: 1.0580087900161743 , Training Accuracy: 0.6171875\n",
      "Loss: 1.012529730796814 , Training Accuracy: 0.65625\n",
      "Loss: 0.8694741725921631 , Training Accuracy: 0.6484375\n",
      "Loss: 1.0202949047088623 , Training Accuracy: 0.671875\n",
      "Loss: 0.8415309190750122 , Training Accuracy: 0.6875\n",
      "Loss: 0.6927786469459534 , Training Accuracy: 0.78125\n",
      "Loss: 0.6983321905136108 , Training Accuracy: 0.703125\n",
      "Loss: 0.9753979444503784 , Training Accuracy: 0.6499999761581421\n",
      "Loss: 0.7476989030838013 , Training Accuracy: 0.7265625\n",
      "Loss: 0.8600672483444214 , Training Accuracy: 0.7265625\n",
      "Loss: 0.9210859537124634 , Training Accuracy: 0.671875\n",
      "Loss: 0.7499587535858154 , Training Accuracy: 0.703125\n",
      "Loss: 0.7079365253448486 , Training Accuracy: 0.7109375\n",
      "Loss: 0.7432359457015991 , Training Accuracy: 0.7421875\n",
      "Loss: 0.8586868643760681 , Training Accuracy: 0.7109375\n",
      "Testing Accuracy: 0.6855000257492065\n"
     ],
     "name": "stdout"
    }
   ]
  },
  {
   "cell_type": "markdown",
   "metadata": {
    "id": "oQ-rsVNJGWkF",
    "colab_type": "text"
   },
   "source": [
    "## **Experiment3:**           \n",
    "Perimeters:\n",
    "1. Convolutional Layers: 3\n",
    "2. Filter size         : 3, 3, 3\n",
    "3. Number of Filters   : 64, 128, 256\n",
    "4. Padding             : valid\n",
    "5. Pooling size        : 2x2\n",
    "6. MLP                 : 128,64,32\n",
    "6. Optimizer           : Adam"
   ]
  },
  {
   "cell_type": "code",
   "metadata": {
    "id": "cZvsLbSIFm-E",
    "colab_type": "code",
    "outputId": "96f8e786-d1ba-4766-a106-606ac737efff",
    "colab": {
     "base_uri": "https://localhost:8080/",
     "height": 504
    }
   },
   "source": [
    "model3 = models.Sequential()\n",
    "model3.add(layers.Conv2D(64, kernel_size=3, activation='relu', input_shape=(32,32,3)))\n",
    "model3.add(layers.MaxPool2D((2,2)))                                                     \n",
    "model3.add(layers.Conv2D(128, kernel_size=3, activation='relu'))       \n",
    "model3.add(layers.MaxPool2D((2,2)))                                                     \n",
    "model3.add(layers.Conv2D(256, kernel_size=3, activation='relu'))             \n",
    "model3.add(layers.Flatten())                                                           \n",
    "model3.add(layers.Dense(128,activation='relu')) \n",
    "model3.add(layers.Dense(64,activation='relu')) \n",
    "model2.add(layers.Dense(32,activation='relu'))                                               \n",
    "model3.add(layers.Dense(10))                                                           \n",
    "\n",
    "model3.summary()\n"
   ],
   "execution_count": 0,
   "outputs": [
    {
     "output_type": "stream",
     "text": [
      "Model: \"sequential_2\"\n",
      "_________________________________________________________________\n",
      "Layer (type)                 Output Shape              Param #   \n",
      "=================================================================\n",
      "conv2d_8 (Conv2D)            (None, 30, 30, 64)        1792      \n",
      "_________________________________________________________________\n",
      "max_pooling2d_5 (MaxPooling2 (None, 15, 15, 64)        0         \n",
      "_________________________________________________________________\n",
      "conv2d_9 (Conv2D)            (None, 13, 13, 128)       73856     \n",
      "_________________________________________________________________\n",
      "max_pooling2d_6 (MaxPooling2 (None, 6, 6, 128)         0         \n",
      "_________________________________________________________________\n",
      "conv2d_10 (Conv2D)           (None, 4, 4, 256)         295168    \n",
      "_________________________________________________________________\n",
      "flatten_1 (Flatten)          (None, 4096)              0         \n",
      "_________________________________________________________________\n",
      "dense_2 (Dense)              (None, 128)               524416    \n",
      "_________________________________________________________________\n",
      "dense_3 (Dense)              (None, 64)                8256      \n",
      "_________________________________________________________________\n",
      "dense_5 (Dense)              (None, 10)                650       \n",
      "=================================================================\n",
      "Total params: 904,138\n",
      "Trainable params: 904,138\n",
      "Non-trainable params: 0\n",
      "_________________________________________________________________\n"
     ],
     "name": "stdout"
    }
   ]
  },
  {
   "cell_type": "code",
   "metadata": {
    "id": "giu5_0vRG-9d",
    "colab_type": "code",
    "outputId": "f53d2458-ca7f-4d83-944c-b68fded0f739",
    "colab": {
     "base_uri": "https://localhost:8080/",
     "height": 991
    }
   },
   "source": [
    "train_steps = 5000\n",
    "opt = tf.optimizers.Adam()\n",
    "loss_fn = tf.losses.SparseCategoricalCrossentropy(from_logits=True)\n",
    "\n",
    "varis = model3.trainable_variables\n",
    "for step,(img_batch, lbl_batch) in enumerate(train_data):\n",
    "  if step > train_steps:\n",
    "    break\n",
    "  \n",
    "  with tf.GradientTape() as tape:\n",
    "    logits = model3(img_batch)\n",
    "    xent   = loss_fn(lbl_batch, logits) \n",
    "  grads = tape.gradient(xent,varis)\n",
    "  opt.apply_gradients(zip(grads, varis))\n",
    "\n",
    "  if not step%100:\n",
    "    train_preds = tf.argmax(logits, axis = 1, output_type = tf.int32)\n",
    "    train_acc   = tf.reduce_mean(tf.cast(tf.equal(train_preds, lbl_batch), tf.float32))\n",
    "    print(\"Loss: {} , Training Accuracy: {}\".format(xent, train_acc))\n",
    "\n",
    "big_test_batch = next(iter(test_data))\n",
    "test_preds = tf.argmax(model3(big_test_batch[0]), axis=1,\n",
    "                       output_type=tf.int32)\n",
    "test_acc   = tf.reduce_mean(tf.cast(tf.equal(test_preds, big_test_batch[1]),\n",
    "                             tf.float32))\n",
    "print('Testing Accuracy: {}'.format(test_acc))"
   ],
   "execution_count": 0,
   "outputs": [
    {
     "output_type": "stream",
     "text": [
      "Loss: 2.3031864166259766 , Training Accuracy: 0.09375\n",
      "Loss: 1.7866015434265137 , Training Accuracy: 0.3359375\n",
      "Loss: 1.4832905530929565 , Training Accuracy: 0.4453125\n",
      "Loss: 1.3184196949005127 , Training Accuracy: 0.5078125\n",
      "Loss: 1.355057716369629 , Training Accuracy: 0.484375\n",
      "Loss: 1.2606264352798462 , Training Accuracy: 0.5625\n",
      "Loss: 1.123429775238037 , Training Accuracy: 0.6328125\n",
      "Loss: 1.1823571920394897 , Training Accuracy: 0.546875\n",
      "Loss: 1.1997740268707275 , Training Accuracy: 0.6328125\n",
      "Loss: 1.147373080253601 , Training Accuracy: 0.6171875\n",
      "Loss: 1.0497307777404785 , Training Accuracy: 0.640625\n",
      "Loss: 0.9330858588218689 , Training Accuracy: 0.6875\n",
      "Loss: 1.0080128908157349 , Training Accuracy: 0.65625\n",
      "Loss: 0.9583643674850464 , Training Accuracy: 0.6484375\n",
      "Loss: 1.1143784523010254 , Training Accuracy: 0.6171875\n",
      "Loss: 0.9737110137939453 , Training Accuracy: 0.6171875\n",
      "Loss: 0.7304037809371948 , Training Accuracy: 0.7734375\n",
      "Loss: 0.8357278108596802 , Training Accuracy: 0.71875\n",
      "Loss: 0.746281623840332 , Training Accuracy: 0.75\n",
      "Loss: 0.9635805487632751 , Training Accuracy: 0.671875\n",
      "Loss: 0.6301445960998535 , Training Accuracy: 0.7421875\n",
      "Loss: 0.8585110902786255 , Training Accuracy: 0.6953125\n",
      "Loss: 0.7348763942718506 , Training Accuracy: 0.734375\n",
      "Loss: 0.5881856083869934 , Training Accuracy: 0.78125\n",
      "Loss: 0.6315529942512512 , Training Accuracy: 0.765625\n",
      "Loss: 0.6960628628730774 , Training Accuracy: 0.7890625\n",
      "Loss: 0.672392725944519 , Training Accuracy: 0.75\n",
      "Loss: 0.6024653911590576 , Training Accuracy: 0.8125\n",
      "Loss: 0.6324440240859985 , Training Accuracy: 0.765625\n",
      "Loss: 0.4630013108253479 , Training Accuracy: 0.875\n",
      "Loss: 0.6863523125648499 , Training Accuracy: 0.7578125\n",
      "Loss: 0.5707969665527344 , Training Accuracy: 0.78125\n",
      "Loss: 0.48992919921875 , Training Accuracy: 0.796875\n",
      "Loss: 0.3967195749282837 , Training Accuracy: 0.8515625\n",
      "Loss: 0.5222575068473816 , Training Accuracy: 0.828125\n",
      "Loss: 0.5035219192504883 , Training Accuracy: 0.8125\n",
      "Loss: 0.5286986827850342 , Training Accuracy: 0.8359375\n",
      "Loss: 0.43764346837997437 , Training Accuracy: 0.875\n",
      "Loss: 0.406652569770813 , Training Accuracy: 0.859375\n",
      "Loss: 0.6107733249664307 , Training Accuracy: 0.8046875\n",
      "Loss: 0.30219388008117676 , Training Accuracy: 0.8984375\n",
      "Loss: 0.34766194224357605 , Training Accuracy: 0.8984375\n",
      "Loss: 0.39927029609680176 , Training Accuracy: 0.8671875\n",
      "Loss: 0.624839186668396 , Training Accuracy: 0.824999988079071\n",
      "Loss: 0.39643800258636475 , Training Accuracy: 0.8828125\n",
      "Loss: 0.45041152834892273 , Training Accuracy: 0.8671875\n",
      "Loss: 0.3693227171897888 , Training Accuracy: 0.875\n",
      "Loss: 0.24922946095466614 , Training Accuracy: 0.9296875\n",
      "Loss: 0.4167613983154297 , Training Accuracy: 0.84375\n",
      "Loss: 0.36399972438812256 , Training Accuracy: 0.859375\n",
      "Loss: 0.4186389446258545 , Training Accuracy: 0.828125\n",
      "Testing Accuracy: 0.7301999926567078\n"
     ],
     "name": "stdout"
    }
   ]
  },
  {
   "cell_type": "markdown",
   "metadata": {
    "id": "ViSZsJwZHwz4",
    "colab_type": "text"
   },
   "source": [
    "## **Experiment4:**           \n",
    "Perimeters:\n",
    "1. Convolutional Layers: 3\n",
    "2. Filter size         : 2, 2, 2\n",
    "3. Number of Filters   : 128, 256, 512\n",
    "4. Padding             : valid\n",
    "5. Pooling size        : 2x2\n",
    "6. MLP                 : 128,64,32\n",
    "6. Optimizer           : Adam"
   ]
  },
  {
   "cell_type": "code",
   "metadata": {
    "id": "CLMqZmSjHGkf",
    "colab_type": "code",
    "outputId": "04b96486-f136-4345-bd9e-02c1bbb76ca2",
    "colab": {
     "base_uri": "https://localhost:8080/",
     "height": 542
    }
   },
   "source": [
    "model4 = models.Sequential()\n",
    "model4.add(layers.Conv2D(128, kernel_size=2, activation='relu', input_shape=(32,32,3)))\n",
    "model4.add(layers.MaxPool2D((2,2)))                                                     \n",
    "model4.add(layers.Conv2D(256, kernel_size=2, activation='relu'))       \n",
    "model4.add(layers.MaxPool2D((2,2)))                                                     \n",
    "model4.add(layers.Conv2D(512, kernel_size=2, activation='relu'))             \n",
    "model4.add(layers.Flatten())                                                           \n",
    "model4.add(layers.Dense(128,activation='relu')) \n",
    "model4.add(layers.Dense(64,activation='relu')) \n",
    "model4.add(layers.Dense(32,activation='relu'))                                               \n",
    "model4.add(layers.Dense(10))                                                           \n",
    "\n",
    "model4.summary()\n"
   ],
   "execution_count": 0,
   "outputs": [
    {
     "output_type": "stream",
     "text": [
      "Model: \"sequential_3\"\n",
      "_________________________________________________________________\n",
      "Layer (type)                 Output Shape              Param #   \n",
      "=================================================================\n",
      "conv2d_11 (Conv2D)           (None, 31, 31, 128)       1664      \n",
      "_________________________________________________________________\n",
      "max_pooling2d_7 (MaxPooling2 (None, 15, 15, 128)       0         \n",
      "_________________________________________________________________\n",
      "conv2d_12 (Conv2D)           (None, 14, 14, 256)       131328    \n",
      "_________________________________________________________________\n",
      "max_pooling2d_8 (MaxPooling2 (None, 7, 7, 256)         0         \n",
      "_________________________________________________________________\n",
      "conv2d_13 (Conv2D)           (None, 6, 6, 512)         524800    \n",
      "_________________________________________________________________\n",
      "flatten_2 (Flatten)          (None, 18432)             0         \n",
      "_________________________________________________________________\n",
      "dense_6 (Dense)              (None, 128)               2359424   \n",
      "_________________________________________________________________\n",
      "dense_7 (Dense)              (None, 64)                8256      \n",
      "_________________________________________________________________\n",
      "dense_8 (Dense)              (None, 32)                2080      \n",
      "_________________________________________________________________\n",
      "dense_9 (Dense)              (None, 10)                330       \n",
      "=================================================================\n",
      "Total params: 3,027,882\n",
      "Trainable params: 3,027,882\n",
      "Non-trainable params: 0\n",
      "_________________________________________________________________\n"
     ],
     "name": "stdout"
    }
   ]
  },
  {
   "cell_type": "code",
   "metadata": {
    "id": "g7yo-wBaITVu",
    "colab_type": "code",
    "outputId": "7c120346-28bf-4f4f-f0e8-81288bd7bc7b",
    "colab": {
     "base_uri": "https://localhost:8080/",
     "height": 991
    }
   },
   "source": [
    "train_steps = 5000\n",
    "opt = tf.optimizers.Adam()\n",
    "loss_fn = tf.losses.SparseCategoricalCrossentropy(from_logits=True)\n",
    "\n",
    "varis = model4.trainable_variables\n",
    "for step,(img_batch, lbl_batch) in enumerate(train_data):\n",
    "  if step > train_steps:\n",
    "    break\n",
    "  \n",
    "  with tf.GradientTape() as tape:\n",
    "    logits = model4(img_batch)\n",
    "    xent   = loss_fn(lbl_batch, logits) \n",
    "  grads = tape.gradient(xent,varis)\n",
    "  opt.apply_gradients(zip(grads, varis))\n",
    "\n",
    "  if not step%100:\n",
    "    train_preds = tf.argmax(logits, axis = 1, output_type = tf.int32)\n",
    "    train_acc   = tf.reduce_mean(tf.cast(tf.equal(train_preds, lbl_batch), tf.float32))\n",
    "    print(\"Loss: {} , Training Accuracy: {}\".format(xent, train_acc))\n",
    "\n",
    "big_test_batch = next(iter(test_data))\n",
    "test_preds = tf.argmax(model4(big_test_batch[0]), axis=1,\n",
    "                       output_type=tf.int32)\n",
    "test_acc   = tf.reduce_mean(tf.cast(tf.equal(test_preds, big_test_batch[1]),\n",
    "                             tf.float32))\n",
    "print('Testing Accuracy: {}'.format(test_acc))"
   ],
   "execution_count": 0,
   "outputs": [
    {
     "output_type": "stream",
     "text": [
      "Loss: 2.3014087677001953 , Training Accuracy: 0.1015625\n",
      "Loss: 1.7238237857818604 , Training Accuracy: 0.4375\n",
      "Loss: 1.5466251373291016 , Training Accuracy: 0.4375\n",
      "Loss: 1.4181641340255737 , Training Accuracy: 0.5234375\n",
      "Loss: 1.0148266553878784 , Training Accuracy: 0.6640625\n",
      "Loss: 1.156887412071228 , Training Accuracy: 0.6015625\n",
      "Loss: 0.976675808429718 , Training Accuracy: 0.6953125\n",
      "Loss: 1.2331790924072266 , Training Accuracy: 0.5625\n",
      "Loss: 0.9183098673820496 , Training Accuracy: 0.671875\n",
      "Loss: 0.8889359831809998 , Training Accuracy: 0.7265625\n",
      "Loss: 0.8481247425079346 , Training Accuracy: 0.671875\n",
      "Loss: 0.8209285736083984 , Training Accuracy: 0.71875\n",
      "Loss: 0.8249791264533997 , Training Accuracy: 0.6953125\n",
      "Loss: 0.797888994216919 , Training Accuracy: 0.7265625\n",
      "Loss: 0.6289613246917725 , Training Accuracy: 0.765625\n",
      "Loss: 0.8374896049499512 , Training Accuracy: 0.6875\n",
      "Loss: 0.7075105905532837 , Training Accuracy: 0.7578125\n",
      "Loss: 0.5898147821426392 , Training Accuracy: 0.78125\n",
      "Loss: 0.6731350421905518 , Training Accuracy: 0.78125\n",
      "Loss: 0.63078373670578 , Training Accuracy: 0.765625\n",
      "Loss: 0.5961849093437195 , Training Accuracy: 0.7734375\n",
      "Loss: 0.4863535761833191 , Training Accuracy: 0.8515625\n",
      "Loss: 0.5136727094650269 , Training Accuracy: 0.828125\n",
      "Loss: 0.5058684349060059 , Training Accuracy: 0.7890625\n",
      "Loss: 0.3964918255805969 , Training Accuracy: 0.8671875\n",
      "Loss: 0.4098842740058899 , Training Accuracy: 0.8515625\n",
      "Loss: 0.48993051052093506 , Training Accuracy: 0.8203125\n",
      "Loss: 0.33563682436943054 , Training Accuracy: 0.8828125\n",
      "Loss: 0.4597609043121338 , Training Accuracy: 0.859375\n",
      "Loss: 0.38652747869491577 , Training Accuracy: 0.8671875\n",
      "Loss: 0.4606039524078369 , Training Accuracy: 0.84375\n",
      "Loss: 0.4223434329032898 , Training Accuracy: 0.8359375\n",
      "Loss: 0.33610641956329346 , Training Accuracy: 0.875\n",
      "Loss: 0.20682914555072784 , Training Accuracy: 0.8984375\n",
      "Loss: 0.3932538330554962 , Training Accuracy: 0.890625\n",
      "Loss: 0.22094956040382385 , Training Accuracy: 0.9296875\n",
      "Loss: 0.270027220249176 , Training Accuracy: 0.890625\n",
      "Loss: 0.16946469247341156 , Training Accuracy: 0.9375\n",
      "Loss: 0.30919286608695984 , Training Accuracy: 0.90625\n",
      "Loss: 0.2546923756599426 , Training Accuracy: 0.90625\n",
      "Loss: 0.20215001702308655 , Training Accuracy: 0.9296875\n",
      "Loss: 0.07744313776493073 , Training Accuracy: 0.96875\n",
      "Loss: 0.3107477128505707 , Training Accuracy: 0.8828125\n",
      "Loss: 0.3278450667858124 , Training Accuracy: 0.875\n",
      "Loss: 0.09286960959434509 , Training Accuracy: 0.9609375\n",
      "Loss: 0.10938385874032974 , Training Accuracy: 0.9609375\n",
      "Loss: 0.1891692727804184 , Training Accuracy: 0.90625\n",
      "Loss: 0.06723874807357788 , Training Accuracy: 0.9765625\n",
      "Loss: 0.06811889261007309 , Training Accuracy: 0.9765625\n",
      "Loss: 0.3021358251571655 , Training Accuracy: 0.8984375\n",
      "Loss: 0.0833359807729721 , Training Accuracy: 0.96875\n",
      "Testing Accuracy: 0.7235000133514404\n"
     ],
     "name": "stdout"
    }
   ]
  },
  {
   "cell_type": "markdown",
   "metadata": {
    "id": "9i1DqF2cJk_c",
    "colab_type": "text"
   },
   "source": [
    "## **Experiment5:**           \n",
    "Perimeters:\n",
    "1. Convolutional Layers: 6\n",
    "2. Filter size         : 5, 5, 5, 5, 5, 5\n",
    "3. Number of Filters   : 8, 16, 32, 64, 128, 256\n",
    "4. Padding             : valid\n",
    "5. Pooling size        : None\n",
    "6. MLP                 : 64\n",
    "6. Optimizer           : Adam"
   ]
  },
  {
   "cell_type": "code",
   "metadata": {
    "id": "adZLphPRI8NC",
    "colab_type": "code",
    "outputId": "5cbf391d-d3f3-4967-caee-5751d89fe979",
    "colab": {
     "base_uri": "https://localhost:8080/",
     "height": 504
    }
   },
   "source": [
    "model5 = models.Sequential()\n",
    "model5.add(layers.Conv2D(8, kernel_size=5, activation='relu', input_shape=(32,32,3)))                                                    \n",
    "model5.add(layers.Conv2D(16, kernel_size=5, activation='relu'))                                                         \n",
    "model5.add(layers.Conv2D(32, kernel_size=5, activation='relu'))  \n",
    "model5.add(layers.Conv2D(64, kernel_size=5, activation='relu')) \n",
    "model5.add(layers.Conv2D(128, kernel_size=5, activation='relu'))\n",
    "model5.add(layers.Conv2D(256, kernel_size=5, activation='relu'))\n",
    "\n",
    "model5.add(layers.Flatten())                                                           \n",
    "model5.add(layers.Dense(64,activation='relu'))                                               \n",
    "model5.add(layers.Dense(10))                                                           \n",
    "\n",
    "model5.summary()\n"
   ],
   "execution_count": 0,
   "outputs": [
    {
     "output_type": "stream",
     "text": [
      "Model: \"sequential\"\n",
      "_________________________________________________________________\n",
      "Layer (type)                 Output Shape              Param #   \n",
      "=================================================================\n",
      "conv2d (Conv2D)              (None, 28, 28, 8)         608       \n",
      "_________________________________________________________________\n",
      "conv2d_1 (Conv2D)            (None, 24, 24, 16)        3216      \n",
      "_________________________________________________________________\n",
      "conv2d_2 (Conv2D)            (None, 20, 20, 32)        12832     \n",
      "_________________________________________________________________\n",
      "conv2d_3 (Conv2D)            (None, 16, 16, 64)        51264     \n",
      "_________________________________________________________________\n",
      "conv2d_4 (Conv2D)            (None, 12, 12, 128)       204928    \n",
      "_________________________________________________________________\n",
      "conv2d_5 (Conv2D)            (None, 8, 8, 256)         819456    \n",
      "_________________________________________________________________\n",
      "flatten (Flatten)            (None, 16384)             0         \n",
      "_________________________________________________________________\n",
      "dense (Dense)                (None, 64)                1048640   \n",
      "_________________________________________________________________\n",
      "dense_1 (Dense)              (None, 10)                650       \n",
      "=================================================================\n",
      "Total params: 2,141,594\n",
      "Trainable params: 2,141,594\n",
      "Non-trainable params: 0\n",
      "_________________________________________________________________\n"
     ],
     "name": "stdout"
    }
   ]
  },
  {
   "cell_type": "code",
   "metadata": {
    "id": "DnhFuqXGJ-0T",
    "colab_type": "code",
    "outputId": "e789e5af-cd8a-4c6a-f2f6-d99b77c2266f",
    "colab": {
     "base_uri": "https://localhost:8080/",
     "height": 991
    }
   },
   "source": [
    "train_steps = 5000\n",
    "opt = tf.optimizers.Adam()\n",
    "loss_fn = tf.losses.SparseCategoricalCrossentropy(from_logits=True)\n",
    "\n",
    "varis = model5.trainable_variables\n",
    "for step,(img_batch, lbl_batch) in enumerate(train_data):\n",
    "  if step > train_steps:\n",
    "    break\n",
    "  \n",
    "  with tf.GradientTape() as tape:\n",
    "    logits = model5(img_batch)\n",
    "    xent   = loss_fn(lbl_batch, logits) \n",
    "  grads = tape.gradient(xent,varis)\n",
    "  opt.apply_gradients(zip(grads, varis))\n",
    "\n",
    "  if not step%100:\n",
    "    train_preds = tf.argmax(logits, axis = 1, output_type = tf.int32)\n",
    "    train_acc   = tf.reduce_mean(tf.cast(tf.equal(train_preds, lbl_batch), tf.float32))\n",
    "    print(\"Loss: {} , Training Accuracy: {}\".format(xent, train_acc))\n",
    "\n",
    "big_test_batch = next(iter(test_data))\n",
    "test_preds = tf.argmax(model5(big_test_batch[0]), axis=1,\n",
    "                       output_type=tf.int32)\n",
    "test_acc   = tf.reduce_mean(tf.cast(tf.equal(test_preds, big_test_batch[1]),\n",
    "                             tf.float32))\n",
    "print('Testing Accuracy: {}'.format(test_acc))"
   ],
   "execution_count": 0,
   "outputs": [
    {
     "output_type": "stream",
     "text": [
      "Loss: 2.3027544021606445 , Training Accuracy: 0.0703125\n",
      "Loss: 1.9622952938079834 , Training Accuracy: 0.3125\n",
      "Loss: 1.717214584350586 , Training Accuracy: 0.28125\n",
      "Loss: 1.6381325721740723 , Training Accuracy: 0.3203125\n",
      "Loss: 1.56148099899292 , Training Accuracy: 0.4296875\n",
      "Loss: 1.446455955505371 , Training Accuracy: 0.5078125\n",
      "Loss: 1.447513222694397 , Training Accuracy: 0.4140625\n",
      "Loss: 1.536813735961914 , Training Accuracy: 0.4453125\n",
      "Loss: 1.4874175786972046 , Training Accuracy: 0.4296875\n",
      "Loss: 1.3586819171905518 , Training Accuracy: 0.5078125\n",
      "Loss: 1.4726195335388184 , Training Accuracy: 0.453125\n",
      "Loss: 1.3651080131530762 , Training Accuracy: 0.515625\n",
      "Loss: 1.119334101676941 , Training Accuracy: 0.6171875\n",
      "Loss: 1.2461879253387451 , Training Accuracy: 0.5390625\n",
      "Loss: 1.3954963684082031 , Training Accuracy: 0.5\n",
      "Loss: 1.2642841339111328 , Training Accuracy: 0.5390625\n",
      "Loss: 1.1781227588653564 , Training Accuracy: 0.5625\n",
      "Loss: 1.0405137538909912 , Training Accuracy: 0.6328125\n",
      "Loss: 1.2760003805160522 , Training Accuracy: 0.515625\n",
      "Loss: 1.0379658937454224 , Training Accuracy: 0.625\n",
      "Loss: 1.072263240814209 , Training Accuracy: 0.6171875\n",
      "Loss: 0.9246931076049805 , Training Accuracy: 0.6484375\n",
      "Loss: 0.9963520765304565 , Training Accuracy: 0.671875\n",
      "Loss: 1.2285451889038086 , Training Accuracy: 0.5390625\n",
      "Loss: 1.1320538520812988 , Training Accuracy: 0.6171875\n",
      "Loss: 1.005255937576294 , Training Accuracy: 0.6484375\n",
      "Loss: 1.1425224542617798 , Training Accuracy: 0.640625\n",
      "Loss: 1.1708396673202515 , Training Accuracy: 0.609375\n",
      "Loss: 1.0508670806884766 , Training Accuracy: 0.578125\n",
      "Loss: 1.1754751205444336 , Training Accuracy: 0.5625\n",
      "Loss: 0.8905212879180908 , Training Accuracy: 0.6953125\n",
      "Loss: 0.8919690847396851 , Training Accuracy: 0.6640625\n",
      "Loss: 1.127678632736206 , Training Accuracy: 0.59375\n",
      "Loss: 0.8489376306533813 , Training Accuracy: 0.671875\n",
      "Loss: 0.8878834843635559 , Training Accuracy: 0.671875\n",
      "Loss: 1.0591570138931274 , Training Accuracy: 0.6171875\n",
      "Loss: 0.9539583921432495 , Training Accuracy: 0.6328125\n",
      "Loss: 1.1187705993652344 , Training Accuracy: 0.6171875\n",
      "Loss: 1.0421773195266724 , Training Accuracy: 0.6328125\n",
      "Loss: 0.7708691358566284 , Training Accuracy: 0.734375\n",
      "Loss: 0.8266667127609253 , Training Accuracy: 0.7109375\n",
      "Loss: 0.748124897480011 , Training Accuracy: 0.734375\n",
      "Loss: 0.8036636710166931 , Training Accuracy: 0.71875\n",
      "Loss: 0.9125610589981079 , Training Accuracy: 0.6875\n",
      "Loss: 0.736591637134552 , Training Accuracy: 0.75\n",
      "Loss: 0.9634926319122314 , Training Accuracy: 0.6484375\n",
      "Loss: 0.7141926288604736 , Training Accuracy: 0.75\n",
      "Loss: 0.8397507667541504 , Training Accuracy: 0.7421875\n",
      "Loss: 0.8553161025047302 , Training Accuracy: 0.7421875\n",
      "Loss: 0.6428816914558411 , Training Accuracy: 0.7734375\n",
      "Loss: 0.7515053749084473 , Training Accuracy: 0.734375\n",
      "Testing Accuracy: 0.6337000131607056\n"
     ],
     "name": "stdout"
    }
   ]
  },
  {
   "cell_type": "markdown",
   "metadata": {
    "id": "zgD4U9MFTZIZ",
    "colab_type": "text"
   },
   "source": [
    "## **Experiment6:**           \n",
    "Perimeters:\n",
    "1. Convolutional Layers: 3\n",
    "2. Filter size         : 2, 2, 2\n",
    "3. Number of Filters   : 64, 128, 256\n",
    "4. Padding             : same\n",
    "5. Pooling size        : 2x2\n",
    "6. MLP                 : 64\n",
    "6. Optimizer           : Adam"
   ]
  },
  {
   "cell_type": "code",
   "metadata": {
    "id": "jL_scse3KK92",
    "colab_type": "code",
    "outputId": "a8f12779-968a-40ba-954d-f2d52f2e310a",
    "colab": {
     "base_uri": "https://localhost:8080/",
     "height": 467
    }
   },
   "source": [
    "model6 = models.Sequential()\n",
    "model6.add(layers.Conv2D(64, kernel_size=3, activation='relu', input_shape=(32,32,3),padding='SAME'))\n",
    "model6.add(layers.MaxPool2D((2,2)))                                                     \n",
    "model6.add(layers.Conv2D(128, kernel_size=3,padding='SAME', activation='relu'))       \n",
    "model6.add(layers.MaxPool2D((2,2)))                                                     \n",
    "model6.add(layers.Conv2D(256, kernel_size=3,padding='SAME' ,activation='relu'))             \n",
    "model6.add(layers.Flatten())                                                            \n",
    "model6.add(layers.Dense(64,activation='relu'))                                              \n",
    "model6.add(layers.Dense(10))                                                           \n",
    "\n",
    "model6.summary()\n"
   ],
   "execution_count": 0,
   "outputs": [
    {
     "output_type": "stream",
     "text": [
      "Model: \"sequential_2\"\n",
      "_________________________________________________________________\n",
      "Layer (type)                 Output Shape              Param #   \n",
      "=================================================================\n",
      "conv2d_9 (Conv2D)            (None, 32, 32, 64)        1792      \n",
      "_________________________________________________________________\n",
      "max_pooling2d_2 (MaxPooling2 (None, 16, 16, 64)        0         \n",
      "_________________________________________________________________\n",
      "conv2d_10 (Conv2D)           (None, 16, 16, 128)       73856     \n",
      "_________________________________________________________________\n",
      "max_pooling2d_3 (MaxPooling2 (None, 8, 8, 128)         0         \n",
      "_________________________________________________________________\n",
      "conv2d_11 (Conv2D)           (None, 8, 8, 256)         295168    \n",
      "_________________________________________________________________\n",
      "flatten_1 (Flatten)          (None, 16384)             0         \n",
      "_________________________________________________________________\n",
      "dense_2 (Dense)              (None, 64)                1048640   \n",
      "_________________________________________________________________\n",
      "dense_3 (Dense)              (None, 10)                650       \n",
      "=================================================================\n",
      "Total params: 1,420,106\n",
      "Trainable params: 1,420,106\n",
      "Non-trainable params: 0\n",
      "_________________________________________________________________\n"
     ],
     "name": "stdout"
    }
   ]
  },
  {
   "cell_type": "code",
   "metadata": {
    "id": "kEJScAE6U8d3",
    "colab_type": "code",
    "outputId": "b04a6ff0-9bdd-4d3c-d1db-63a64c1414ee",
    "colab": {
     "base_uri": "https://localhost:8080/",
     "height": 991
    }
   },
   "source": [
    "train_steps = 5000\n",
    "opt = tf.optimizers.Adam()\n",
    "loss_fn = tf.losses.SparseCategoricalCrossentropy(from_logits=True)\n",
    "\n",
    "varis = model6.trainable_variables\n",
    "for step,(img_batch, lbl_batch) in enumerate(train_data):\n",
    "  if step > train_steps:\n",
    "    break\n",
    "  \n",
    "  with tf.GradientTape() as tape:\n",
    "    logits = model6(img_batch)\n",
    "    xent   = loss_fn(lbl_batch, logits) \n",
    "  grads = tape.gradient(xent,varis)\n",
    "  opt.apply_gradients(zip(grads, varis))\n",
    "\n",
    "  if not step%100:\n",
    "    train_preds = tf.argmax(logits, axis = 1, output_type = tf.int32)\n",
    "    train_acc   = tf.reduce_mean(tf.cast(tf.equal(train_preds, lbl_batch), tf.float32))\n",
    "    print(\"Loss: {} , Training Accuracy: {}\".format(xent, train_acc))\n",
    "\n",
    "big_test_batch = next(iter(test_data))\n",
    "test_preds = tf.argmax(model6(big_test_batch[0]), axis=1,\n",
    "                       output_type=tf.int32)\n",
    "test_acc   = tf.reduce_mean(tf.cast(tf.equal(test_preds, big_test_batch[1]),\n",
    "                             tf.float32))\n",
    "print('Testing Accuracy: {}'.format(test_acc))"
   ],
   "execution_count": 0,
   "outputs": [
    {
     "output_type": "stream",
     "text": [
      "Loss: 2.305060863494873 , Training Accuracy: 0.078125\n",
      "Loss: 1.6385430097579956 , Training Accuracy: 0.4140625\n",
      "Loss: 1.4642360210418701 , Training Accuracy: 0.5\n",
      "Loss: 1.2100908756256104 , Training Accuracy: 0.59375\n",
      "Loss: 1.2779568433761597 , Training Accuracy: 0.53125\n",
      "Loss: 1.0192108154296875 , Training Accuracy: 0.6484375\n",
      "Loss: 0.7934401631355286 , Training Accuracy: 0.71875\n",
      "Loss: 1.1108875274658203 , Training Accuracy: 0.5703125\n",
      "Loss: 0.7610743045806885 , Training Accuracy: 0.7421875\n",
      "Loss: 0.7489714622497559 , Training Accuracy: 0.7265625\n",
      "Loss: 0.8186100125312805 , Training Accuracy: 0.71875\n",
      "Loss: 0.8211299180984497 , Training Accuracy: 0.703125\n",
      "Loss: 0.5839905142784119 , Training Accuracy: 0.8125\n",
      "Loss: 0.7122930288314819 , Training Accuracy: 0.7265625\n",
      "Loss: 0.7642565965652466 , Training Accuracy: 0.734375\n",
      "Loss: 0.6516357660293579 , Training Accuracy: 0.796875\n",
      "Loss: 0.5799968838691711 , Training Accuracy: 0.7578125\n",
      "Loss: 0.6711187958717346 , Training Accuracy: 0.734375\n",
      "Loss: 0.6592891216278076 , Training Accuracy: 0.7734375\n",
      "Loss: 0.669028103351593 , Training Accuracy: 0.7734375\n",
      "Loss: 0.6453014612197876 , Training Accuracy: 0.7578125\n",
      "Loss: 0.705449104309082 , Training Accuracy: 0.7109375\n",
      "Loss: 0.5649437308311462 , Training Accuracy: 0.7734375\n",
      "Loss: 0.508568286895752 , Training Accuracy: 0.84375\n",
      "Loss: 0.2717883586883545 , Training Accuracy: 0.8828125\n",
      "Loss: 0.5630170702934265 , Training Accuracy: 0.7890625\n",
      "Loss: 0.3924463391304016 , Training Accuracy: 0.859375\n",
      "Loss: 0.3291759192943573 , Training Accuracy: 0.890625\n",
      "Loss: 0.30837148427963257 , Training Accuracy: 0.8828125\n",
      "Loss: 0.3757774233818054 , Training Accuracy: 0.859375\n",
      "Loss: 0.34520748257637024 , Training Accuracy: 0.8515625\n",
      "Loss: 0.4805904030799866 , Training Accuracy: 0.828125\n",
      "Loss: 0.18152564764022827 , Training Accuracy: 0.9453125\n",
      "Loss: 0.2109682261943817 , Training Accuracy: 0.9453125\n",
      "Loss: 0.19885626435279846 , Training Accuracy: 0.90625\n",
      "Loss: 0.28988999128341675 , Training Accuracy: 0.9296875\n",
      "Loss: 0.2963006794452667 , Training Accuracy: 0.890625\n",
      "Loss: 0.2473321557044983 , Training Accuracy: 0.9375\n",
      "Loss: 0.20593589544296265 , Training Accuracy: 0.9375\n",
      "Loss: 0.22538021206855774 , Training Accuracy: 0.90625\n",
      "Loss: 0.0963468998670578 , Training Accuracy: 0.984375\n",
      "Loss: 0.17422600090503693 , Training Accuracy: 0.9375\n",
      "Loss: 0.25707992911338806 , Training Accuracy: 0.90625\n",
      "Loss: 0.21222186088562012 , Training Accuracy: 0.9125000238418579\n",
      "Loss: 0.0721842423081398 , Training Accuracy: 0.96875\n",
      "Loss: 0.10556001216173172 , Training Accuracy: 0.953125\n",
      "Loss: 0.1500316709280014 , Training Accuracy: 0.9375\n",
      "Loss: 0.053699348121881485 , Training Accuracy: 0.9765625\n",
      "Loss: 0.12655815482139587 , Training Accuracy: 0.9609375\n",
      "Loss: 0.06231915205717087 , Training Accuracy: 0.9765625\n",
      "Loss: 0.058883167803287506 , Training Accuracy: 0.9765625\n",
      "Testing Accuracy: 0.7541000247001648\n"
     ],
     "name": "stdout"
    }
   ]
  },
  {
   "cell_type": "markdown",
   "metadata": {
    "id": "OeaSya_RVgnC",
    "colab_type": "text"
   },
   "source": [
    "## **Experiment7:**           \n",
    "Perimeters:\n",
    "1. Convolutional Layers: 4\n",
    "2. Filter size         : 3\n",
    "3. Number of Filters   : 64,128,256,256\n",
    "4. Padding             : same\n",
    "5. Pooling size        : 2x2\n",
    "6. MLP                 : 64\n",
    "6. Optimizer           : Adam"
   ]
  },
  {
   "cell_type": "code",
   "metadata": {
    "id": "xS5u46TjVL8j",
    "colab_type": "code",
    "outputId": "25f1d3b1-c73b-44b9-a8b3-301be224626b",
    "colab": {
     "base_uri": "https://localhost:8080/",
     "height": 542
    }
   },
   "source": [
    "model7 = models.Sequential()\n",
    "model7.add(layers.Conv2D(64, kernel_size=3, activation='relu', input_shape=(32,32,3),padding='SAME'))\n",
    "model7.add(layers.MaxPool2D((2,2)))                                                     \n",
    "model7.add(layers.Conv2D(128, kernel_size=3,padding='SAME', activation='relu'))       \n",
    "model7.add(layers.MaxPool2D((2,2)))                                                     \n",
    "model7.add(layers.Conv2D(256, kernel_size=3,padding='SAME' ,activation='relu')) \n",
    "model7.add(layers.MaxPool2D((2,2)))  \n",
    "model7.add(layers.Conv2D(256, kernel_size=3,padding='SAME', activation='relu'))        \n",
    "model7.add(layers.Flatten())                                                            \n",
    "model7.add(layers.Dense(64,activation='relu'))                                              \n",
    "model7.add(layers.Dense(10))                                                           \n",
    "\n",
    "model7.summary()\n"
   ],
   "execution_count": 0,
   "outputs": [
    {
     "output_type": "stream",
     "text": [
      "Model: \"sequential_3\"\n",
      "_________________________________________________________________\n",
      "Layer (type)                 Output Shape              Param #   \n",
      "=================================================================\n",
      "conv2d_12 (Conv2D)           (None, 32, 32, 64)        1792      \n",
      "_________________________________________________________________\n",
      "max_pooling2d_4 (MaxPooling2 (None, 16, 16, 64)        0         \n",
      "_________________________________________________________________\n",
      "conv2d_13 (Conv2D)           (None, 16, 16, 128)       73856     \n",
      "_________________________________________________________________\n",
      "max_pooling2d_5 (MaxPooling2 (None, 8, 8, 128)         0         \n",
      "_________________________________________________________________\n",
      "conv2d_14 (Conv2D)           (None, 8, 8, 256)         295168    \n",
      "_________________________________________________________________\n",
      "max_pooling2d_6 (MaxPooling2 (None, 4, 4, 256)         0         \n",
      "_________________________________________________________________\n",
      "conv2d_15 (Conv2D)           (None, 4, 4, 256)         590080    \n",
      "_________________________________________________________________\n",
      "flatten_2 (Flatten)          (None, 4096)              0         \n",
      "_________________________________________________________________\n",
      "dense_4 (Dense)              (None, 64)                262208    \n",
      "_________________________________________________________________\n",
      "dense_5 (Dense)              (None, 10)                650       \n",
      "=================================================================\n",
      "Total params: 1,223,754\n",
      "Trainable params: 1,223,754\n",
      "Non-trainable params: 0\n",
      "_________________________________________________________________\n"
     ],
     "name": "stdout"
    }
   ]
  },
  {
   "cell_type": "code",
   "metadata": {
    "id": "HmORomoSWDDE",
    "colab_type": "code",
    "outputId": "a3535f32-d8d9-40fc-bda2-5fe17c742345",
    "colab": {
     "base_uri": "https://localhost:8080/",
     "height": 991
    }
   },
   "source": [
    "train_steps = 5000\n",
    "opt = tf.optimizers.Adam()\n",
    "loss_fn = tf.losses.SparseCategoricalCrossentropy(from_logits=True)\n",
    "\n",
    "varis = model7.trainable_variables\n",
    "for step,(img_batch, lbl_batch) in enumerate(train_data):\n",
    "  if step > train_steps:\n",
    "    break\n",
    "  \n",
    "  with tf.GradientTape() as tape:\n",
    "    logits = model7(img_batch)\n",
    "    xent   = loss_fn(lbl_batch, logits) \n",
    "  grads = tape.gradient(xent,varis)\n",
    "  opt.apply_gradients(zip(grads, varis))\n",
    "\n",
    "  if not step%100:\n",
    "    train_preds = tf.argmax(logits, axis = 1, output_type = tf.int32)\n",
    "    train_acc   = tf.reduce_mean(tf.cast(tf.equal(train_preds, lbl_batch), tf.float32))\n",
    "    print(\"Loss: {} , Training Accuracy: {}\".format(xent, train_acc))\n",
    "\n",
    "big_test_batch = next(iter(test_data))\n",
    "test_preds = tf.argmax(model7(big_test_batch[0]), axis=1,\n",
    "                       output_type=tf.int32)\n",
    "test_acc   = tf.reduce_mean(tf.cast(tf.equal(test_preds, big_test_batch[1]),\n",
    "                             tf.float32))\n",
    "print('Testing Accuracy: {}'.format(test_acc))"
   ],
   "execution_count": 0,
   "outputs": [
    {
     "output_type": "stream",
     "text": [
      "Loss: 2.3073935508728027 , Training Accuracy: 0.0625\n",
      "Loss: 1.5296231508255005 , Training Accuracy: 0.421875\n",
      "Loss: 1.625436782836914 , Training Accuracy: 0.4140625\n",
      "Loss: 1.4409584999084473 , Training Accuracy: 0.515625\n",
      "Loss: 1.121029019355774 , Training Accuracy: 0.6640625\n",
      "Loss: 1.0493897199630737 , Training Accuracy: 0.6328125\n",
      "Loss: 0.8511364459991455 , Training Accuracy: 0.6875\n",
      "Loss: 0.9488412141799927 , Training Accuracy: 0.640625\n",
      "Loss: 1.1390575170516968 , Training Accuracy: 0.5703125\n",
      "Loss: 0.8113158345222473 , Training Accuracy: 0.6640625\n",
      "Loss: 0.7070416808128357 , Training Accuracy: 0.7578125\n",
      "Loss: 0.9397412538528442 , Training Accuracy: 0.6796875\n",
      "Loss: 0.7565799951553345 , Training Accuracy: 0.7421875\n",
      "Loss: 0.8679108023643494 , Training Accuracy: 0.671875\n",
      "Loss: 0.680148720741272 , Training Accuracy: 0.7421875\n",
      "Loss: 0.6920697093009949 , Training Accuracy: 0.78125\n",
      "Loss: 0.6281121373176575 , Training Accuracy: 0.78125\n",
      "Loss: 0.5232665538787842 , Training Accuracy: 0.8125\n",
      "Loss: 0.4779413342475891 , Training Accuracy: 0.8671875\n",
      "Loss: 0.5665898323059082 , Training Accuracy: 0.828125\n",
      "Loss: 0.3705965280532837 , Training Accuracy: 0.8515625\n",
      "Loss: 0.558038592338562 , Training Accuracy: 0.7890625\n",
      "Loss: 0.43686267733573914 , Training Accuracy: 0.84375\n",
      "Loss: 0.5766527652740479 , Training Accuracy: 0.78125\n",
      "Loss: 0.3388463258743286 , Training Accuracy: 0.8828125\n",
      "Loss: 0.37750044465065 , Training Accuracy: 0.8828125\n",
      "Loss: 0.4602632522583008 , Training Accuracy: 0.8359375\n",
      "Loss: 0.43691813945770264 , Training Accuracy: 0.84375\n",
      "Loss: 0.3502446413040161 , Training Accuracy: 0.890625\n",
      "Loss: 0.2250363826751709 , Training Accuracy: 0.9140625\n",
      "Loss: 0.42482686042785645 , Training Accuracy: 0.84375\n",
      "Loss: 0.32185184955596924 , Training Accuracy: 0.8984375\n",
      "Loss: 0.2539770007133484 , Training Accuracy: 0.8984375\n",
      "Loss: 0.17823895812034607 , Training Accuracy: 0.9453125\n",
      "Loss: 0.28996893763542175 , Training Accuracy: 0.9140625\n",
      "Loss: 0.3289969563484192 , Training Accuracy: 0.890625\n",
      "Loss: 0.17492029070854187 , Training Accuracy: 0.9375\n",
      "Loss: 0.19954511523246765 , Training Accuracy: 0.921875\n",
      "Loss: 0.261320561170578 , Training Accuracy: 0.90625\n",
      "Loss: 0.15805651247501373 , Training Accuracy: 0.9609375\n",
      "Loss: 0.13136431574821472 , Training Accuracy: 0.9609375\n",
      "Loss: 0.14201095700263977 , Training Accuracy: 0.953125\n",
      "Loss: 0.20514574646949768 , Training Accuracy: 0.9296875\n",
      "Loss: 0.153993621468544 , Training Accuracy: 0.949999988079071\n",
      "Loss: 0.17638111114501953 , Training Accuracy: 0.921875\n",
      "Loss: 0.19351324439048767 , Training Accuracy: 0.9375\n",
      "Loss: 0.22080571949481964 , Training Accuracy: 0.9375\n",
      "Loss: 0.06572519242763519 , Training Accuracy: 0.9921875\n",
      "Loss: 0.20589178800582886 , Training Accuracy: 0.953125\n",
      "Loss: 0.1419195830821991 , Training Accuracy: 0.9609375\n",
      "Loss: 0.025072583928704262 , Training Accuracy: 1.0\n",
      "Testing Accuracy: 0.7551000118255615\n"
     ],
     "name": "stdout"
    }
   ]
  },
  {
   "cell_type": "markdown",
   "metadata": {
    "id": "gJUoFSTEW2TB",
    "colab_type": "text"
   },
   "source": [
    "## **Experiment8:**           \n",
    "Perimeters:\n",
    "1. Convolutional Layers: 4\n",
    "2. Filter size         : 3, 3, 3, 3\n",
    "3. Number of Filters   : 54,128,256, 256\n",
    "4. Padding             : same\n",
    "5. Strides             : 2\n",
    "5. Pooling size        : 2x2\n",
    "6. MLP                 : 64\n",
    "6. Optimizer           : Adam"
   ]
  },
  {
   "cell_type": "code",
   "metadata": {
    "id": "95g2tt26W00L",
    "colab_type": "code",
    "outputId": "91ebc0f3-79dc-4337-a4c9-e161233563b5",
    "colab": {
     "base_uri": "https://localhost:8080/",
     "height": 542
    }
   },
   "source": [
    "model8 = models.Sequential()\n",
    "model8.add(layers.Conv2D(64, kernel_size=3, activation='relu', input_shape=(32,32,3),padding='SAME',strides=2))\n",
    "model8.add(layers.MaxPool2D((2,2)))                                                     \n",
    "model8.add(layers.Conv2D(128, kernel_size=3,padding='SAME', activation='relu'))       \n",
    "model8.add(layers.MaxPool2D((2,2)))                                                     \n",
    "model8.add(layers.Conv2D(256, kernel_size=3,padding='SAME' ,activation='relu')) \n",
    "model8.add(layers.MaxPool2D((2,2)))  \n",
    "model8.add(layers.Conv2D(256, kernel_size=3,padding='SAME', activation='relu'))        \n",
    "model8.add(layers.Flatten())                                                            \n",
    "model8.add(layers.Dense(64,activation='relu'))                                              \n",
    "model8.add(layers.Dense(10))                                                           \n",
    "\n",
    "model8.summary()\n"
   ],
   "execution_count": 0,
   "outputs": [
    {
     "output_type": "stream",
     "text": [
      "Model: \"sequential_5\"\n",
      "_________________________________________________________________\n",
      "Layer (type)                 Output Shape              Param #   \n",
      "=================================================================\n",
      "conv2d_17 (Conv2D)           (None, 16, 16, 64)        1792      \n",
      "_________________________________________________________________\n",
      "max_pooling2d_7 (MaxPooling2 (None, 8, 8, 64)          0         \n",
      "_________________________________________________________________\n",
      "conv2d_18 (Conv2D)           (None, 8, 8, 128)         73856     \n",
      "_________________________________________________________________\n",
      "max_pooling2d_8 (MaxPooling2 (None, 4, 4, 128)         0         \n",
      "_________________________________________________________________\n",
      "conv2d_19 (Conv2D)           (None, 4, 4, 256)         295168    \n",
      "_________________________________________________________________\n",
      "max_pooling2d_9 (MaxPooling2 (None, 2, 2, 256)         0         \n",
      "_________________________________________________________________\n",
      "conv2d_20 (Conv2D)           (None, 2, 2, 256)         590080    \n",
      "_________________________________________________________________\n",
      "flatten_3 (Flatten)          (None, 1024)              0         \n",
      "_________________________________________________________________\n",
      "dense_6 (Dense)              (None, 64)                65600     \n",
      "_________________________________________________________________\n",
      "dense_7 (Dense)              (None, 10)                650       \n",
      "=================================================================\n",
      "Total params: 1,027,146\n",
      "Trainable params: 1,027,146\n",
      "Non-trainable params: 0\n",
      "_________________________________________________________________\n"
     ],
     "name": "stdout"
    }
   ]
  },
  {
   "cell_type": "code",
   "metadata": {
    "id": "18lNDog_WI8C",
    "colab_type": "code",
    "outputId": "84861a5e-036a-411a-9acb-aaebcde608f3",
    "colab": {
     "base_uri": "https://localhost:8080/",
     "height": 991
    }
   },
   "source": [
    "train_steps = 5000\n",
    "opt = tf.optimizers.Adam()\n",
    "loss_fn = tf.losses.SparseCategoricalCrossentropy(from_logits=True)\n",
    "\n",
    "varis = model8.trainable_variables\n",
    "for step,(img_batch, lbl_batch) in enumerate(train_data):\n",
    "  if step > train_steps:\n",
    "    break\n",
    "  \n",
    "  with tf.GradientTape() as tape:\n",
    "    logits = model8(img_batch)\n",
    "    xent   = loss_fn(lbl_batch, logits) \n",
    "  grads = tape.gradient(xent,varis)\n",
    "  opt.apply_gradients(zip(grads, varis))\n",
    "\n",
    "  if not step%100:\n",
    "    train_preds = tf.argmax(logits, axis = 1, output_type = tf.int32)\n",
    "    train_acc   = tf.reduce_mean(tf.cast(tf.equal(train_preds, lbl_batch), tf.float32))\n",
    "    print(\"Loss: {} , Training Accuracy: {}\".format(xent, train_acc))\n",
    "\n",
    "big_test_batch = next(iter(test_data))\n",
    "test_preds = tf.argmax(model8(big_test_batch[0]), axis=1,\n",
    "                       output_type=tf.int32)\n",
    "test_acc   = tf.reduce_mean(tf.cast(tf.equal(test_preds, big_test_batch[1]),\n",
    "                             tf.float32))\n",
    "print('Testing Accuracy: {}'.format(test_acc))"
   ],
   "execution_count": 0,
   "outputs": [
    {
     "output_type": "stream",
     "text": [
      "Loss: 2.3022735118865967 , Training Accuracy: 0.125\n",
      "Loss: 1.70900297164917 , Training Accuracy: 0.3359375\n",
      "Loss: 1.5670043230056763 , Training Accuracy: 0.375\n",
      "Loss: 1.3495638370513916 , Training Accuracy: 0.5390625\n",
      "Loss: 1.3622633218765259 , Training Accuracy: 0.515625\n",
      "Loss: 1.2661454677581787 , Training Accuracy: 0.59375\n",
      "Loss: 1.3007421493530273 , Training Accuracy: 0.5234375\n",
      "Loss: 1.204768419265747 , Training Accuracy: 0.5703125\n",
      "Loss: 1.158031940460205 , Training Accuracy: 0.59375\n",
      "Loss: 1.1684603691101074 , Training Accuracy: 0.5859375\n",
      "Loss: 0.8541824221611023 , Training Accuracy: 0.71875\n",
      "Loss: 0.8433650135993958 , Training Accuracy: 0.703125\n",
      "Loss: 0.781155526638031 , Training Accuracy: 0.734375\n",
      "Loss: 0.8145654201507568 , Training Accuracy: 0.7109375\n",
      "Loss: 0.8051390647888184 , Training Accuracy: 0.7109375\n",
      "Loss: 0.7331868410110474 , Training Accuracy: 0.75\n",
      "Loss: 0.7036746740341187 , Training Accuracy: 0.765625\n",
      "Loss: 0.6529586315155029 , Training Accuracy: 0.765625\n",
      "Loss: 0.6504294872283936 , Training Accuracy: 0.7890625\n",
      "Loss: 0.5824260711669922 , Training Accuracy: 0.8125\n",
      "Loss: 0.7284773588180542 , Training Accuracy: 0.7421875\n",
      "Loss: 0.6133776903152466 , Training Accuracy: 0.7578125\n",
      "Loss: 0.6658068299293518 , Training Accuracy: 0.7890625\n",
      "Loss: 0.6584543585777283 , Training Accuracy: 0.8046875\n",
      "Loss: 0.5017271637916565 , Training Accuracy: 0.796875\n",
      "Loss: 0.520868182182312 , Training Accuracy: 0.84375\n",
      "Loss: 0.5669422149658203 , Training Accuracy: 0.796875\n",
      "Loss: 0.6575819253921509 , Training Accuracy: 0.7890625\n",
      "Loss: 0.4252898693084717 , Training Accuracy: 0.8203125\n",
      "Loss: 0.4224388003349304 , Training Accuracy: 0.8203125\n",
      "Loss: 0.4081633388996124 , Training Accuracy: 0.828125\n",
      "Loss: 0.5968695878982544 , Training Accuracy: 0.828125\n",
      "Loss: 0.35998308658599854 , Training Accuracy: 0.8671875\n",
      "Loss: 0.3390205502510071 , Training Accuracy: 0.8984375\n",
      "Loss: 0.4248020350933075 , Training Accuracy: 0.8515625\n",
      "Loss: 0.3433115482330322 , Training Accuracy: 0.875\n",
      "Loss: 0.3418647050857544 , Training Accuracy: 0.890625\n",
      "Loss: 0.2964839041233063 , Training Accuracy: 0.90625\n",
      "Loss: 0.2515821158885956 , Training Accuracy: 0.890625\n",
      "Loss: 0.35646486282348633 , Training Accuracy: 0.8671875\n",
      "Loss: 0.4483952522277832 , Training Accuracy: 0.8359375\n",
      "Loss: 0.23642787337303162 , Training Accuracy: 0.921875\n",
      "Loss: 0.36119920015335083 , Training Accuracy: 0.8671875\n",
      "Loss: 0.41608962416648865 , Training Accuracy: 0.8500000238418579\n",
      "Loss: 0.15459683537483215 , Training Accuracy: 0.9609375\n",
      "Loss: 0.15977835655212402 , Training Accuracy: 0.9453125\n",
      "Loss: 0.16101834177970886 , Training Accuracy: 0.953125\n",
      "Loss: 0.16148550808429718 , Training Accuracy: 0.953125\n",
      "Loss: 0.1276291310787201 , Training Accuracy: 0.96875\n",
      "Loss: 0.15557675063610077 , Training Accuracy: 0.9375\n",
      "Loss: 0.08269855380058289 , Training Accuracy: 0.9765625\n",
      "Testing Accuracy: 0.7170000076293945\n"
     ],
     "name": "stdout"
    }
   ]
  },
  {
   "cell_type": "markdown",
   "metadata": {
    "id": "6SB38mjeY37E",
    "colab_type": "text"
   },
   "source": [
    "## **Experiment9:**           \n",
    "Perimeters:\n",
    "1. Convolutional Layers: 2\n",
    "2. Filter size         : 3, 3\n",
    "3. Number of Filters   : 64,128\n",
    "4. Padding             : valid\n",
    "5. Strides             : 2\n",
    "5. Pooling size        : 2x2\n",
    "6. MLP                 : 64\n",
    "6. Optimizer           : Adam"
   ]
  },
  {
   "cell_type": "code",
   "metadata": {
    "id": "qILQ242MYJW8",
    "colab_type": "code",
    "outputId": "baefb8ea-484e-46f7-d2e8-9b0a0338e8e3",
    "colab": {
     "base_uri": "https://localhost:8080/",
     "height": 392
    }
   },
   "source": [
    "model9 = models.Sequential()\n",
    "model9.add(layers.Conv2D(64, kernel_size=3, activation='relu', input_shape=(32,32,3),strides=2))\n",
    "model9.add(layers.MaxPool2D((2,2)))                                                     \n",
    "model9.add(layers.Conv2D(128, kernel_size=3, activation='relu'))               \n",
    "model9.add(layers.Flatten())                                                            \n",
    "model9.add(layers.Dense(64,activation='relu'))                                              \n",
    "model9.add(layers.Dense(10))                                                           \n",
    "\n",
    "model9.summary()\n"
   ],
   "execution_count": 0,
   "outputs": [
    {
     "output_type": "stream",
     "text": [
      "Model: \"sequential_8\"\n",
      "_________________________________________________________________\n",
      "Layer (type)                 Output Shape              Param #   \n",
      "=================================================================\n",
      "conv2d_27 (Conv2D)           (None, 15, 15, 64)        1792      \n",
      "_________________________________________________________________\n",
      "max_pooling2d_14 (MaxPooling (None, 7, 7, 64)          0         \n",
      "_________________________________________________________________\n",
      "conv2d_28 (Conv2D)           (None, 5, 5, 128)         73856     \n",
      "_________________________________________________________________\n",
      "flatten_4 (Flatten)          (None, 3200)              0         \n",
      "_________________________________________________________________\n",
      "dense_8 (Dense)              (None, 64)                204864    \n",
      "_________________________________________________________________\n",
      "dense_9 (Dense)              (None, 10)                650       \n",
      "=================================================================\n",
      "Total params: 281,162\n",
      "Trainable params: 281,162\n",
      "Non-trainable params: 0\n",
      "_________________________________________________________________\n"
     ],
     "name": "stdout"
    }
   ]
  },
  {
   "cell_type": "code",
   "metadata": {
    "id": "QikDz6_CZJbN",
    "colab_type": "code",
    "outputId": "7e3af5fe-af19-4287-98ff-07701f4934cd",
    "colab": {
     "base_uri": "https://localhost:8080/",
     "height": 991
    }
   },
   "source": [
    "train_steps = 5000\n",
    "opt = tf.optimizers.Adam()\n",
    "loss_fn = tf.losses.SparseCategoricalCrossentropy(from_logits=True)\n",
    "\n",
    "varis = model9.trainable_variables\n",
    "for step,(img_batch, lbl_batch) in enumerate(train_data):\n",
    "  if step > train_steps:\n",
    "    break\n",
    "  \n",
    "  with tf.GradientTape() as tape:\n",
    "    logits = model9(img_batch)\n",
    "    xent   = loss_fn(lbl_batch, logits) \n",
    "  grads = tape.gradient(xent,varis)\n",
    "  opt.apply_gradients(zip(grads, varis))\n",
    "\n",
    "  if not step%100:\n",
    "    train_preds = tf.argmax(logits, axis = 1, output_type = tf.int32)\n",
    "    train_acc   = tf.reduce_mean(tf.cast(tf.equal(train_preds, lbl_batch), tf.float32))\n",
    "    print(\"Loss: {} , Training Accuracy: {}\".format(xent, train_acc))\n",
    "\n",
    "big_test_batch = next(iter(test_data))\n",
    "test_preds = tf.argmax(model9(big_test_batch[0]), axis=1,\n",
    "                       output_type=tf.int32)\n",
    "test_acc   = tf.reduce_mean(tf.cast(tf.equal(test_preds, big_test_batch[1]),\n",
    "                             tf.float32))\n",
    "print('Testing Accuracy: {}'.format(test_acc))"
   ],
   "execution_count": 0,
   "outputs": [
    {
     "output_type": "stream",
     "text": [
      "Loss: 2.306058645248413 , Training Accuracy: 0.1015625\n",
      "Loss: 1.9168498516082764 , Training Accuracy: 0.28125\n",
      "Loss: 1.530848503112793 , Training Accuracy: 0.4453125\n",
      "Loss: 1.5145246982574463 , Training Accuracy: 0.46875\n",
      "Loss: 1.2831971645355225 , Training Accuracy: 0.5546875\n",
      "Loss: 1.3941478729248047 , Training Accuracy: 0.4453125\n",
      "Loss: 1.4657349586486816 , Training Accuracy: 0.453125\n",
      "Loss: 1.2969887256622314 , Training Accuracy: 0.5625\n",
      "Loss: 1.1166893243789673 , Training Accuracy: 0.609375\n",
      "Loss: 1.1351597309112549 , Training Accuracy: 0.59375\n",
      "Loss: 1.1608309745788574 , Training Accuracy: 0.5390625\n",
      "Loss: 1.2535851001739502 , Training Accuracy: 0.546875\n",
      "Loss: 1.0549650192260742 , Training Accuracy: 0.6015625\n",
      "Loss: 1.1254420280456543 , Training Accuracy: 0.6015625\n",
      "Loss: 0.9132726192474365 , Training Accuracy: 0.6953125\n",
      "Loss: 0.8692132234573364 , Training Accuracy: 0.703125\n",
      "Loss: 1.0963664054870605 , Training Accuracy: 0.6796875\n",
      "Loss: 1.0112707614898682 , Training Accuracy: 0.609375\n",
      "Loss: 0.9855912327766418 , Training Accuracy: 0.6953125\n",
      "Loss: 0.932270884513855 , Training Accuracy: 0.6875\n",
      "Loss: 0.9957408308982849 , Training Accuracy: 0.6875\n",
      "Loss: 1.01969575881958 , Training Accuracy: 0.65625\n",
      "Loss: 0.9427810907363892 , Training Accuracy: 0.703125\n",
      "Loss: 0.901424765586853 , Training Accuracy: 0.7109375\n",
      "Loss: 0.9264318943023682 , Training Accuracy: 0.6875\n",
      "Loss: 0.9715960025787354 , Training Accuracy: 0.7109375\n",
      "Loss: 0.8690862655639648 , Training Accuracy: 0.7109375\n",
      "Loss: 1.08516526222229 , Training Accuracy: 0.6796875\n",
      "Loss: 0.8450822830200195 , Training Accuracy: 0.6875\n",
      "Loss: 0.8643492460250854 , Training Accuracy: 0.6640625\n",
      "Loss: 0.8377623558044434 , Training Accuracy: 0.7265625\n",
      "Loss: 0.8398892879486084 , Training Accuracy: 0.671875\n",
      "Loss: 0.8932790756225586 , Training Accuracy: 0.7109375\n",
      "Loss: 0.9057253003120422 , Training Accuracy: 0.7265625\n",
      "Loss: 0.8653392791748047 , Training Accuracy: 0.65625\n",
      "Loss: 0.7679791450500488 , Training Accuracy: 0.734375\n",
      "Loss: 0.7617019414901733 , Training Accuracy: 0.75\n",
      "Loss: 0.7439130544662476 , Training Accuracy: 0.734375\n",
      "Loss: 0.8076180815696716 , Training Accuracy: 0.7109375\n",
      "Loss: 0.6593971252441406 , Training Accuracy: 0.765625\n",
      "Loss: 0.7332557439804077 , Training Accuracy: 0.7109375\n",
      "Loss: 0.626105546951294 , Training Accuracy: 0.78125\n",
      "Loss: 0.7925356030464172 , Training Accuracy: 0.75\n",
      "Loss: 0.8396856188774109 , Training Accuracy: 0.7250000238418579\n",
      "Loss: 0.7215563654899597 , Training Accuracy: 0.75\n",
      "Loss: 0.7195944786071777 , Training Accuracy: 0.7265625\n",
      "Loss: 0.735938549041748 , Training Accuracy: 0.75\n",
      "Loss: 0.5804025530815125 , Training Accuracy: 0.8125\n",
      "Loss: 0.8465864658355713 , Training Accuracy: 0.734375\n",
      "Loss: 0.7700187563896179 , Training Accuracy: 0.734375\n",
      "Loss: 0.6280164122581482 , Training Accuracy: 0.78125\n",
      "Testing Accuracy: 0.6959999799728394\n"
     ],
     "name": "stdout"
    }
   ]
  },
  {
   "cell_type": "markdown",
   "metadata": {
    "id": "7NK3DEkTZrTn",
    "colab_type": "text"
   },
   "source": [
    "## **Experiment10:**           \n",
    "Perimeters:\n",
    "1. Convolutional Layers: 1\n",
    "2. Filter size         : same as input\n",
    "3. Number of Filters   : 512\n",
    "4. Padding             : valid\n",
    "5. Strides             : none\n",
    "5. Pooling size        : none\n",
    "6. MLP                 : 64\n",
    "6. Optimizer           : Adam"
   ]
  },
  {
   "cell_type": "code",
   "metadata": {
    "id": "bGEToOXpZWks",
    "colab_type": "code",
    "outputId": "ae866195-412a-48fe-de22-164243382f53",
    "colab": {
     "base_uri": "https://localhost:8080/",
     "height": 317
    }
   },
   "source": [
    "model10 = models.Sequential()\n",
    "model10.add(layers.Conv2D(512, kernel_size=32, activation='relu', input_shape=(32,32,3)))               \n",
    "model10.add(layers.Flatten())                                                            \n",
    "model10.add(layers.Dense(64,activation='relu'))                                              \n",
    "model10.add(layers.Dense(10))                                                           \n",
    "\n",
    "model10.summary()\n"
   ],
   "execution_count": 0,
   "outputs": [
    {
     "output_type": "stream",
     "text": [
      "Model: \"sequential_11\"\n",
      "_________________________________________________________________\n",
      "Layer (type)                 Output Shape              Param #   \n",
      "=================================================================\n",
      "conv2d_31 (Conv2D)           (None, 1, 1, 512)         1573376   \n",
      "_________________________________________________________________\n",
      "flatten_7 (Flatten)          (None, 512)               0         \n",
      "_________________________________________________________________\n",
      "dense_14 (Dense)             (None, 64)                32832     \n",
      "_________________________________________________________________\n",
      "dense_15 (Dense)             (None, 10)                650       \n",
      "=================================================================\n",
      "Total params: 1,606,858\n",
      "Trainable params: 1,606,858\n",
      "Non-trainable params: 0\n",
      "_________________________________________________________________\n"
     ],
     "name": "stdout"
    }
   ]
  },
  {
   "cell_type": "code",
   "metadata": {
    "id": "OuiiQNGcZ06e",
    "colab_type": "code",
    "outputId": "1aa7e3e1-6fe0-4a96-99bd-3de9a77525ae",
    "colab": {
     "base_uri": "https://localhost:8080/",
     "height": 991
    }
   },
   "source": [
    "train_steps = 5000\n",
    "opt = tf.optimizers.Adam()\n",
    "loss_fn = tf.losses.SparseCategoricalCrossentropy(from_logits=True)\n",
    "\n",
    "varis = model10.trainable_variables\n",
    "for step,(img_batch, lbl_batch) in enumerate(train_data):\n",
    "  if step > train_steps:\n",
    "    break\n",
    "  \n",
    "  with tf.GradientTape() as tape:\n",
    "    logits = model10(img_batch)\n",
    "    xent   = loss_fn(lbl_batch, logits) \n",
    "  grads = tape.gradient(xent,varis)\n",
    "  opt.apply_gradients(zip(grads, varis))\n",
    "\n",
    "  if not step%100:\n",
    "    train_preds = tf.argmax(logits, axis = 1, output_type = tf.int32)\n",
    "    train_acc   = tf.reduce_mean(tf.cast(tf.equal(train_preds, lbl_batch), tf.float32))\n",
    "    print(\"Loss: {} , Training Accuracy: {}\".format(xent, train_acc))\n",
    "\n",
    "big_test_batch = next(iter(test_data))\n",
    "test_preds = tf.argmax(model10(big_test_batch[0]), axis=1,\n",
    "                       output_type=tf.int32)\n",
    "test_acc   = tf.reduce_mean(tf.cast(tf.equal(test_preds, big_test_batch[1]),\n",
    "                             tf.float32))\n",
    "print('Testing Accuracy: {}'.format(test_acc))\n"
   ],
   "execution_count": 0,
   "outputs": [
    {
     "output_type": "stream",
     "text": [
      "Loss: 2.2988972663879395 , Training Accuracy: 0.140625\n",
      "Loss: 1.9658962488174438 , Training Accuracy: 0.2890625\n",
      "Loss: 1.8931949138641357 , Training Accuracy: 0.2890625\n",
      "Loss: 1.7864571809768677 , Training Accuracy: 0.3515625\n",
      "Loss: 1.6433165073394775 , Training Accuracy: 0.3359375\n",
      "Loss: 1.7078461647033691 , Training Accuracy: 0.3671875\n",
      "Loss: 1.6511478424072266 , Training Accuracy: 0.4375\n",
      "Loss: 1.705479621887207 , Training Accuracy: 0.359375\n",
      "Loss: 1.7426717281341553 , Training Accuracy: 0.4453125\n",
      "Loss: 1.5524719953536987 , Training Accuracy: 0.4765625\n",
      "Loss: 1.6888538599014282 , Training Accuracy: 0.4296875\n",
      "Loss: 1.5717694759368896 , Training Accuracy: 0.4453125\n",
      "Loss: 1.7127866744995117 , Training Accuracy: 0.359375\n",
      "Loss: 1.601914644241333 , Training Accuracy: 0.4375\n",
      "Loss: 1.6689512729644775 , Training Accuracy: 0.3671875\n",
      "Loss: 1.543769359588623 , Training Accuracy: 0.5078125\n",
      "Loss: 1.7052122354507446 , Training Accuracy: 0.4140625\n",
      "Loss: 1.634873628616333 , Training Accuracy: 0.421875\n",
      "Loss: 1.446772813796997 , Training Accuracy: 0.5\n",
      "Loss: 1.5939950942993164 , Training Accuracy: 0.453125\n",
      "Loss: 1.572986364364624 , Training Accuracy: 0.421875\n",
      "Loss: 1.3975212574005127 , Training Accuracy: 0.5\n",
      "Loss: 1.5367918014526367 , Training Accuracy: 0.4296875\n",
      "Loss: 1.6618849039077759 , Training Accuracy: 0.4140625\n",
      "Loss: 1.5484166145324707 , Training Accuracy: 0.375\n",
      "Loss: 1.5672197341918945 , Training Accuracy: 0.5078125\n",
      "Loss: 1.3473987579345703 , Training Accuracy: 0.5\n",
      "Loss: 1.488313913345337 , Training Accuracy: 0.4140625\n",
      "Loss: 1.639582633972168 , Training Accuracy: 0.3984375\n",
      "Loss: 1.6236214637756348 , Training Accuracy: 0.40625\n",
      "Loss: 1.3382632732391357 , Training Accuracy: 0.5234375\n",
      "Loss: 1.5656538009643555 , Training Accuracy: 0.453125\n",
      "Loss: 1.4822099208831787 , Training Accuracy: 0.4375\n",
      "Loss: 1.437199592590332 , Training Accuracy: 0.453125\n",
      "Loss: 1.5490026473999023 , Training Accuracy: 0.4609375\n",
      "Loss: 1.3986707925796509 , Training Accuracy: 0.5078125\n",
      "Loss: 1.480868935585022 , Training Accuracy: 0.484375\n",
      "Loss: 1.4525761604309082 , Training Accuracy: 0.4765625\n",
      "Loss: 1.4798344373703003 , Training Accuracy: 0.5078125\n",
      "Loss: 1.396012306213379 , Training Accuracy: 0.4609375\n",
      "Loss: 1.454601526260376 , Training Accuracy: 0.453125\n",
      "Loss: 1.3277771472930908 , Training Accuracy: 0.484375\n",
      "Loss: 1.3450260162353516 , Training Accuracy: 0.53125\n",
      "Loss: 1.2632601261138916 , Training Accuracy: 0.48750001192092896\n",
      "Loss: 1.422001600265503 , Training Accuracy: 0.5390625\n",
      "Loss: 1.2808668613433838 , Training Accuracy: 0.578125\n",
      "Loss: 1.3669195175170898 , Training Accuracy: 0.4921875\n",
      "Loss: 1.467674732208252 , Training Accuracy: 0.4453125\n",
      "Loss: 1.281156301498413 , Training Accuracy: 0.5390625\n",
      "Loss: 1.4920802116394043 , Training Accuracy: 0.484375\n",
      "Loss: 1.379079818725586 , Training Accuracy: 0.5234375\n",
      "Testing Accuracy: 0.4788999855518341\n"
     ],
     "name": "stdout"
    }
   ]
  },
  {
   "cell_type": "markdown",
   "metadata": {
    "id": "0MDbw3bMbEwW",
    "colab_type": "text"
   },
   "source": [
    "## **Experiment11:**           \n",
    "Perimeters:\n",
    "1. Convolutional Layers: 1\n",
    "2. Filter size         : 1\n",
    "3. Number of Filters   : 32\n",
    "4. Padding             : valid\n",
    "5. Strides             : none\n",
    "5. Pooling size        : none\n",
    "6. MLP                 : 64\n",
    "6. Optimizer           : Adam"
   ]
  },
  {
   "cell_type": "code",
   "metadata": {
    "id": "xpnIgRz5aSEP",
    "colab_type": "code",
    "outputId": "c8930b03-1966-4dff-ec33-0f7473fc5012",
    "colab": {
     "base_uri": "https://localhost:8080/",
     "height": 317
    }
   },
   "source": [
    "model11 = models.Sequential()\n",
    "model11.add(layers.Conv2D(32, kernel_size=1, activation='relu', input_shape=(32,32,3)))               \n",
    "model11.add(layers.Flatten())                                                            \n",
    "model11.add(layers.Dense(64,activation='relu'))                                              \n",
    "model11.add(layers.Dense(10))                                                           \n",
    "\n",
    "model11.summary()\n"
   ],
   "execution_count": 0,
   "outputs": [
    {
     "output_type": "stream",
     "text": [
      "Model: \"sequential_16\"\n",
      "_________________________________________________________________\n",
      "Layer (type)                 Output Shape              Param #   \n",
      "=================================================================\n",
      "conv2d_36 (Conv2D)           (None, 32, 32, 32)        128       \n",
      "_________________________________________________________________\n",
      "flatten_12 (Flatten)         (None, 32768)             0         \n",
      "_________________________________________________________________\n",
      "dense_24 (Dense)             (None, 64)                2097216   \n",
      "_________________________________________________________________\n",
      "dense_25 (Dense)             (None, 10)                650       \n",
      "=================================================================\n",
      "Total params: 2,097,994\n",
      "Trainable params: 2,097,994\n",
      "Non-trainable params: 0\n",
      "_________________________________________________________________\n"
     ],
     "name": "stdout"
    }
   ]
  },
  {
   "cell_type": "code",
   "metadata": {
    "id": "CKgI2ea1bUOQ",
    "colab_type": "code",
    "outputId": "a7734b38-4036-4717-8397-65e02d594e69",
    "colab": {
     "base_uri": "https://localhost:8080/",
     "height": 991
    }
   },
   "source": [
    "train_steps = 5000\n",
    "opt = tf.optimizers.Adam()\n",
    "loss_fn = tf.losses.SparseCategoricalCrossentropy(from_logits=True)\n",
    "\n",
    "varis = model11.trainable_variables\n",
    "for step,(img_batch, lbl_batch) in enumerate(train_data):\n",
    "  if step > train_steps:\n",
    "    break\n",
    "  \n",
    "  with tf.GradientTape() as tape:\n",
    "    logits = model11(img_batch)\n",
    "    xent   = loss_fn(lbl_batch, logits) \n",
    "  grads = tape.gradient(xent,varis)\n",
    "  opt.apply_gradients(zip(grads, varis))\n",
    "\n",
    "  if not step%100:\n",
    "    train_preds = tf.argmax(logits, axis = 1, output_type = tf.int32)\n",
    "    train_acc   = tf.reduce_mean(tf.cast(tf.equal(train_preds, lbl_batch), tf.float32))\n",
    "    print(\"Loss: {} , Training Accuracy: {}\".format(xent, train_acc))\n",
    "\n",
    "big_test_batch = next(iter(test_data))\n",
    "test_preds = tf.argmax(model11(big_test_batch[0]), axis=1,\n",
    "                       output_type=tf.int32)\n",
    "test_acc   = tf.reduce_mean(tf.cast(tf.equal(test_preds, big_test_batch[1]),\n",
    "                             tf.float32))\n",
    "print('Testing Accuracy: {}'.format(test_acc))\n"
   ],
   "execution_count": 0,
   "outputs": [
    {
     "output_type": "stream",
     "text": [
      "Loss: 2.3291096687316895 , Training Accuracy: 0.1015625\n",
      "Loss: 2.0208239555358887 , Training Accuracy: 0.2578125\n",
      "Loss: 1.754199504852295 , Training Accuracy: 0.359375\n",
      "Loss: 1.7402793169021606 , Training Accuracy: 0.359375\n",
      "Loss: 1.7443790435791016 , Training Accuracy: 0.3671875\n",
      "Loss: 1.6664469242095947 , Training Accuracy: 0.421875\n",
      "Loss: 1.649550437927246 , Training Accuracy: 0.40625\n",
      "Loss: 1.6223154067993164 , Training Accuracy: 0.4453125\n",
      "Loss: 1.6268258094787598 , Training Accuracy: 0.375\n",
      "Loss: 1.6494320631027222 , Training Accuracy: 0.3671875\n",
      "Loss: 1.5538921356201172 , Training Accuracy: 0.3984375\n",
      "Loss: 1.5219794511795044 , Training Accuracy: 0.3828125\n",
      "Loss: 1.681654453277588 , Training Accuracy: 0.421875\n",
      "Loss: 1.5997419357299805 , Training Accuracy: 0.453125\n",
      "Loss: 1.7121191024780273 , Training Accuracy: 0.421875\n",
      "Loss: 1.5039198398590088 , Training Accuracy: 0.46875\n",
      "Loss: 1.3756216764450073 , Training Accuracy: 0.5546875\n",
      "Loss: 1.6321089267730713 , Training Accuracy: 0.453125\n",
      "Loss: 1.469880223274231 , Training Accuracy: 0.46875\n",
      "Loss: 1.2861864566802979 , Training Accuracy: 0.5546875\n",
      "Loss: 1.464903712272644 , Training Accuracy: 0.4765625\n",
      "Loss: 1.4383633136749268 , Training Accuracy: 0.53125\n",
      "Loss: 1.4026556015014648 , Training Accuracy: 0.484375\n",
      "Loss: 1.4536583423614502 , Training Accuracy: 0.4375\n",
      "Loss: 1.581197738647461 , Training Accuracy: 0.421875\n",
      "Loss: 1.4722236394882202 , Training Accuracy: 0.4765625\n",
      "Loss: 1.481864333152771 , Training Accuracy: 0.453125\n",
      "Loss: 1.4930360317230225 , Training Accuracy: 0.5390625\n",
      "Loss: 1.355943202972412 , Training Accuracy: 0.5\n",
      "Loss: 1.545876383781433 , Training Accuracy: 0.40625\n",
      "Loss: 1.3974292278289795 , Training Accuracy: 0.4609375\n",
      "Loss: 1.3861457109451294 , Training Accuracy: 0.53125\n",
      "Loss: 1.3728647232055664 , Training Accuracy: 0.46875\n",
      "Loss: 1.5850263833999634 , Training Accuracy: 0.4765625\n",
      "Loss: 1.451237440109253 , Training Accuracy: 0.484375\n",
      "Loss: 1.365584373474121 , Training Accuracy: 0.484375\n",
      "Loss: 1.2639446258544922 , Training Accuracy: 0.609375\n",
      "Loss: 1.4286367893218994 , Training Accuracy: 0.5234375\n",
      "Loss: 1.3292086124420166 , Training Accuracy: 0.5390625\n",
      "Loss: 1.3777897357940674 , Training Accuracy: 0.546875\n",
      "Loss: 1.4285454750061035 , Training Accuracy: 0.4609375\n",
      "Loss: 1.2969162464141846 , Training Accuracy: 0.546875\n",
      "Loss: 1.5220738649368286 , Training Accuracy: 0.4921875\n",
      "Loss: 1.4975156784057617 , Training Accuracy: 0.4375\n",
      "Loss: 1.1493090391159058 , Training Accuracy: 0.5703125\n",
      "Loss: 1.2332931756973267 , Training Accuracy: 0.578125\n",
      "Loss: 1.2831170558929443 , Training Accuracy: 0.4609375\n",
      "Loss: 1.2833867073059082 , Training Accuracy: 0.5703125\n",
      "Loss: 1.321664810180664 , Training Accuracy: 0.4921875\n",
      "Loss: 1.400297999382019 , Training Accuracy: 0.5703125\n",
      "Loss: 1.495981216430664 , Training Accuracy: 0.5\n",
      "Testing Accuracy: 0.489300012588501\n"
     ],
     "name": "stdout"
    }
   ]
  },
  {
   "cell_type": "markdown",
   "metadata": {
    "id": "bdPqqM-giK4R",
    "colab_type": "text"
   },
   "source": [
    "## **Experiment12:**           \n",
    "Perimeters:\n",
    "1. Convolutional Layers: 6\n",
    "2. Filter size         : 3, 3, 3, 3, 3, 3\n",
    "3. Number of Filters   : 32, 32, 64, 64 , 256, 256\n",
    "4. Padding             : Same\n",
    "5. Strides             : none\n",
    "5. Pooling size        : (2x2)x3\n",
    "6. MLP                 : 128\n",
    "6. Optimizer           : Adam"
   ]
  },
  {
   "cell_type": "code",
   "metadata": {
    "id": "6hcRJD-biRPb",
    "colab_type": "code",
    "outputId": "43202870-5b00-44ec-d20c-cfb49a2bc77a",
    "colab": {
     "base_uri": "https://localhost:8080/",
     "height": 616
    }
   },
   "source": [
    "model12 = models.Sequential()\n",
    "model12.add(layers.Conv2D(32, kernel_size=3, activation='relu', input_shape=(32,32,3),padding='SAME'))\n",
    "model12.add(layers.Conv2D(32, kernel_size=3, activation='relu',padding='SAME'))\n",
    "model12.add(layers.MaxPool2D((2,2)))                                                     \n",
    "model12.add(layers.Conv2D(64, kernel_size=3, activation='relu',padding='SAME'))\n",
    "model12.add(layers.Conv2D(64, kernel_size=3, activation='relu',padding='SAME'))\n",
    "model12.add(layers.MaxPool2D((2,2))) \n",
    "model12.add(layers.Conv2D(256, kernel_size=3, activation='relu',padding='SAME'))\n",
    "model12.add(layers.Conv2D(256, kernel_size=3, activation='relu',padding='SAME'))\n",
    "model12.add(layers.MaxPool2D((2,2)))               \n",
    "model12.add(layers.Flatten())                                                            \n",
    "model12.add(layers.Dense(128,activation='relu'))                                              \n",
    "model12.add(layers.Dense(10))                                                           \n",
    "\n",
    "model12.summary()\n"
   ],
   "execution_count": 0,
   "outputs": [
    {
     "output_type": "stream",
     "text": [
      "Model: \"sequential_21\"\n",
      "_________________________________________________________________\n",
      "Layer (type)                 Output Shape              Param #   \n",
      "=================================================================\n",
      "conv2d_61 (Conv2D)           (None, 32, 32, 32)        896       \n",
      "_________________________________________________________________\n",
      "conv2d_62 (Conv2D)           (None, 32, 32, 32)        9248      \n",
      "_________________________________________________________________\n",
      "max_pooling2d_27 (MaxPooling (None, 16, 16, 32)        0         \n",
      "_________________________________________________________________\n",
      "conv2d_63 (Conv2D)           (None, 16, 16, 64)        18496     \n",
      "_________________________________________________________________\n",
      "conv2d_64 (Conv2D)           (None, 16, 16, 64)        36928     \n",
      "_________________________________________________________________\n",
      "max_pooling2d_28 (MaxPooling (None, 8, 8, 64)          0         \n",
      "_________________________________________________________________\n",
      "conv2d_65 (Conv2D)           (None, 8, 8, 256)         147712    \n",
      "_________________________________________________________________\n",
      "conv2d_66 (Conv2D)           (None, 8, 8, 256)         590080    \n",
      "_________________________________________________________________\n",
      "max_pooling2d_29 (MaxPooling (None, 4, 4, 256)         0         \n",
      "_________________________________________________________________\n",
      "flatten_17 (Flatten)         (None, 4096)              0         \n",
      "_________________________________________________________________\n",
      "dense_34 (Dense)             (None, 128)               524416    \n",
      "_________________________________________________________________\n",
      "dense_35 (Dense)             (None, 10)                1290      \n",
      "=================================================================\n",
      "Total params: 1,329,066\n",
      "Trainable params: 1,329,066\n",
      "Non-trainable params: 0\n",
      "_________________________________________________________________\n"
     ],
     "name": "stdout"
    }
   ]
  },
  {
   "cell_type": "code",
   "metadata": {
    "id": "_nJCDJg5jWHL",
    "colab_type": "code",
    "outputId": "9840ee4e-ea5f-431a-e03e-3b8ddfef5f32",
    "colab": {
     "base_uri": "https://localhost:8080/",
     "height": 991
    }
   },
   "source": [
    "train_steps = 5000\n",
    "opt = tf.optimizers.Adam()\n",
    "loss_fn = tf.losses.SparseCategoricalCrossentropy(from_logits=True)\n",
    "\n",
    "varis = model12.trainable_variables\n",
    "for step,(img_batch, lbl_batch) in enumerate(train_data):\n",
    "  if step > train_steps:\n",
    "    break\n",
    "  \n",
    "  with tf.GradientTape() as tape:\n",
    "    logits = model12(img_batch)\n",
    "    xent   = loss_fn(lbl_batch, logits) \n",
    "  grads = tape.gradient(xent,varis)\n",
    "  opt.apply_gradients(zip(grads, varis))\n",
    "\n",
    "  if not step%100:\n",
    "    train_preds = tf.argmax(logits, axis = 1, output_type = tf.int32)\n",
    "    train_acc   = tf.reduce_mean(tf.cast(tf.equal(train_preds, lbl_batch), tf.float32))\n",
    "    print(\"Loss: {} , Training Accuracy: {}\".format(xent, train_acc))\n",
    "\n",
    "big_test_batch = next(iter(test_data))\n",
    "test_preds = tf.argmax(model12(big_test_batch[0]), axis=1,\n",
    "                       output_type=tf.int32)\n",
    "test_acc   = tf.reduce_mean(tf.cast(tf.equal(test_preds, big_test_batch[1]),\n",
    "                             tf.float32))\n",
    "print('Testing Accuracy: {}'.format(test_acc))\n"
   ],
   "execution_count": 0,
   "outputs": [
    {
     "output_type": "stream",
     "text": [
      "Loss: 2.303126811981201 , Training Accuracy: 0.1328125\n",
      "Loss: 1.6696815490722656 , Training Accuracy: 0.3828125\n",
      "Loss: 1.3683395385742188 , Training Accuracy: 0.515625\n",
      "Loss: 1.149886965751648 , Training Accuracy: 0.5859375\n",
      "Loss: 1.152062177658081 , Training Accuracy: 0.578125\n",
      "Loss: 0.9867528080940247 , Training Accuracy: 0.6484375\n",
      "Loss: 0.9579265117645264 , Training Accuracy: 0.6640625\n",
      "Loss: 1.0198173522949219 , Training Accuracy: 0.671875\n",
      "Loss: 1.0386528968811035 , Training Accuracy: 0.6484375\n",
      "Loss: 0.6826795935630798 , Training Accuracy: 0.75\n",
      "Loss: 0.6753023862838745 , Training Accuracy: 0.765625\n",
      "Loss: 0.7563391923904419 , Training Accuracy: 0.7109375\n",
      "Loss: 0.7444609999656677 , Training Accuracy: 0.75\n",
      "Loss: 0.7185227870941162 , Training Accuracy: 0.7421875\n",
      "Loss: 0.675014853477478 , Training Accuracy: 0.765625\n",
      "Loss: 0.6253034472465515 , Training Accuracy: 0.78125\n",
      "Loss: 0.7299389243125916 , Training Accuracy: 0.7265625\n",
      "Loss: 0.4688880741596222 , Training Accuracy: 0.828125\n",
      "Loss: 0.49456238746643066 , Training Accuracy: 0.8515625\n",
      "Loss: 0.5700441002845764 , Training Accuracy: 0.765625\n",
      "Loss: 0.27809834480285645 , Training Accuracy: 0.8984375\n",
      "Loss: 0.3592957556247711 , Training Accuracy: 0.8671875\n",
      "Loss: 0.7499960064888 , Training Accuracy: 0.7578125\n",
      "Loss: 0.5349647998809814 , Training Accuracy: 0.7890625\n",
      "Loss: 0.2991892099380493 , Training Accuracy: 0.8515625\n",
      "Loss: 0.2351599484682083 , Training Accuracy: 0.9140625\n",
      "Loss: 0.3811251223087311 , Training Accuracy: 0.8515625\n",
      "Loss: 0.2683677077293396 , Training Accuracy: 0.921875\n",
      "Loss: 0.2988888919353485 , Training Accuracy: 0.90625\n",
      "Loss: 0.2787899076938629 , Training Accuracy: 0.8984375\n",
      "Loss: 0.26020294427871704 , Training Accuracy: 0.9140625\n",
      "Loss: 0.4450571537017822 , Training Accuracy: 0.8515625\n",
      "Loss: 0.20028087496757507 , Training Accuracy: 0.921875\n",
      "Loss: 0.2749045491218567 , Training Accuracy: 0.90625\n",
      "Loss: 0.2595924437046051 , Training Accuracy: 0.9375\n",
      "Loss: 0.24417491257190704 , Training Accuracy: 0.9140625\n",
      "Loss: 0.09718026220798492 , Training Accuracy: 0.9609375\n",
      "Loss: 0.23606958985328674 , Training Accuracy: 0.8828125\n",
      "Loss: 0.17393764853477478 , Training Accuracy: 0.9375\n",
      "Loss: 0.2100561410188675 , Training Accuracy: 0.9140625\n",
      "Loss: 0.15635333955287933 , Training Accuracy: 0.9453125\n",
      "Loss: 0.09195034950971603 , Training Accuracy: 0.9765625\n",
      "Loss: 0.19468383491039276 , Training Accuracy: 0.9296875\n",
      "Loss: 0.1592053920030594 , Training Accuracy: 0.9375\n",
      "Loss: 0.1075403168797493 , Training Accuracy: 0.9765625\n",
      "Loss: 0.19165357947349548 , Training Accuracy: 0.9296875\n",
      "Loss: 0.18571488559246063 , Training Accuracy: 0.9296875\n",
      "Loss: 0.04708308354020119 , Training Accuracy: 0.9765625\n",
      "Loss: 0.08828742802143097 , Training Accuracy: 0.96875\n",
      "Loss: 0.10253623872995377 , Training Accuracy: 0.953125\n",
      "Loss: 0.13866817951202393 , Training Accuracy: 0.9609375\n",
      "Testing Accuracy: 0.7760999798774719\n"
     ],
     "name": "stdout"
    }
   ]
  },
  {
   "cell_type": "markdown",
   "metadata": {
    "id": "DILziOBKqkkE",
    "colab_type": "text"
   },
   "source": [
    "## All model's Parameters and performance are mentioned below:-"
   ]
  },
  {
   "cell_type": "markdown",
   "metadata": {
    "id": "nnstV9nib1oZ",
    "colab_type": "text"
   },
   "source": [
    "Model | Conv Layer | No. of Filters | Filter Size| MLP| Pooling_size | Padding | Strides |Training Acc | Testing Acc\n",
    "--- | --- | --- | --- | --- | --- | --- | --- | --- | --- \n",
    "1 | 3 | 16-32-64 | 3-3-3 | 64-10 | (2x2)x2 | VALID | None | 0.69 | 0.66\n",
    "2 | 4 | 8-16-32-64 | 2-3-4-5 | 64-10 |(2x2)x1 | VALID | None | 0.71 | 0.68\n",
    "3 | 3 | 64-128-256 | 3-3-3 | 128-64-32-10 | (2x2)x2 | VALID | None | 0.82 | 0.73\n",
    "4 | 4 | 128-256-512 | 2-2-2 |128-64-32-10 | (2x2)x2 | VALID | None | 0.96 | 0.72\n",
    "5 | 6 | 8-16-32-64-128-256 | 5-5-5-5-5-5 | 64-10 | None | VALID | None | 0.73 | 0.63\n",
    "6 | 3 | 64-128-256 | 3-3-3 | 64-10 | (2x2)x2 | SAME | None | 0.97 | 0.75\n",
    "7 | 4 | 64-128-256-256 | 3-3-3-3 | 64-10 | (2x2)x3 | SAME | None | 1.0 | 0.75\n",
    "8 | 4 | 64-128-256-256 | 3-3-3-3 | 64-10 | (2x2)x3 | SAME | 2 | 0.97 | 0.71\n",
    "9 | 2 | 64-128 | 3-3 | 64-10 | 2x2 | VALID | 2 | 0.78 | 0.69\n",
    "10 | 1 | 512 | 32 | 64-10 | None | VALID | None | 0.52 | 0.47\n",
    "11 | 1 | 32 | 1 | 64-10 | None | VALID | None | 0.5 | 0.48\n",
    "12 | 6 | 32-32-64-64-256-256 | 3-3-3-3-3-3 | 128-10 | (2x2)x3 | SAME | None | 0.96 | 0.77"
   ]
  }
 ]
}