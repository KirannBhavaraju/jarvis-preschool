{
 "nbformat": 4,
 "nbformat_minor": 0,
 "metadata": {
  "colab": {
   "name": "IDL-Assignment1-DeepNN-200425-Rev0",
   "provenance": [],
   "collapsed_sections": []
  },
  "kernelspec": {
   "name": "python3",
   "display_name": "Python 3"
  },
  "accelerator": "GPU",
  "pycharm": {
   "stem_cell": {
    "cell_type": "raw",
    "source": [],
    "metadata": {
     "collapsed": false
    }
   }
  }
 },
 "cells": [
  {
   "cell_type": "markdown",
   "metadata": {
    "id": "4VlxKn-LiBfR",
    "colab_type": "text"
   },
   "source": [
    "**Linear Models**"
   ]
  },
  {
   "cell_type": "markdown",
   "metadata": {
    "id": "3TSeFuloiN-D",
    "colab_type": "text"
   },
   "source": [
    "**Task**: Linear Model in Tensorflow for MNIST Handwriting Recognintion Data \n",
    "* Convert the model into Deep Neural Network Model          \n",
    "* Playing with Hidden Layers and other parameters            \n",
    "* Visualizing Data                      \n",
    "* NN in Tensorflow for MNIST Fashion Data\n",
    "\n"
   ]
  },
  {
   "cell_type": "markdown",
   "metadata": {
    "id": "zetsaZNtvc4q",
    "colab_type": "text"
   },
   "source": [
    "**Step 1: Loading Google Drive**"
   ]
  },
  {
   "cell_type": "code",
   "metadata": {
    "id": "HSRgBHCYvbk3",
    "colab_type": "code",
    "outputId": "11850851-d81c-45bd-9660-20b4a1eeb702",
    "colab": {
     "base_uri": "https://localhost:8080/",
     "height": 148
    }
   },
   "source": [
    "from google.colab import drive\n",
    "drive.mount('gdrive')\n",
    "%cd /content/gdrive/My\\ Drive/Study/IDL_Assignments"
   ],
   "execution_count": 0,
   "outputs": [
    {
     "output_type": "stream",
     "text": [
      "Go to this URL in a browser: https://accounts.google.com/o/oauth2/auth?client_id=947318989803-6bn6qk8qdgf4n4g3pfee6491hc0brc4i.apps.googleusercontent.com&redirect_uri=urn%3aietf%3awg%3aoauth%3a2.0%3aoob&response_type=code&scope=email%20https%3a%2f%2fwww.googleapis.com%2fauth%2fdocs.test%20https%3a%2f%2fwww.googleapis.com%2fauth%2fdrive%20https%3a%2f%2fwww.googleapis.com%2fauth%2fdrive.photos.readonly%20https%3a%2f%2fwww.googleapis.com%2fauth%2fpeopleapi.readonly\n",
      "\n",
      "Enter your authorization code:\n",
      "··········\n",
      "Mounted at gdrive\n",
      "/content/gdrive/My Drive/Study/IDL_Assignments\n"
     ],
     "name": "stdout"
    }
   ]
  },
  {
   "cell_type": "markdown",
   "metadata": {
    "id": "Yp9cQhOOkSi8",
    "colab_type": "text"
   },
   "source": [
    "**Step 2: Importing Libraries**"
   ]
  },
  {
   "cell_type": "code",
   "metadata": {
    "id": "7ZinZB2hkYif",
    "colab_type": "code",
    "colab": {}
   },
   "source": [
    "%tensorflow_version 2.x\n",
    "import numpy as np\n",
    "import tensorflow as tf\n",
    "import matplotlib.pyplot as plt\n",
    "from datasets import MNISTDataset"
   ],
   "execution_count": 0,
   "outputs": []
  },
  {
   "cell_type": "code",
   "metadata": {
    "id": "hqo8UPwAG99y",
    "colab_type": "code",
    "outputId": "7feef248-9733-46c2-ecc8-e38e1237d327",
    "colab": {
     "base_uri": "https://localhost:8080/",
     "height": 35
    }
   },
   "source": [
    "\n",
    "print(np.version.full_version)"
   ],
   "execution_count": 128,
   "outputs": [
    {
     "output_type": "stream",
     "text": [
      "1.18.3\n"
     ],
     "name": "stdout"
    }
   ]
  },
  {
   "cell_type": "markdown",
   "metadata": {
    "id": "XddWLQRnk8cm",
    "colab_type": "text"
   },
   "source": [
    "**Step 3: Loading Data** "
   ]
  },
  {
   "cell_type": "code",
   "metadata": {
    "id": "UtPdzbB-k7CX",
    "colab_type": "code",
    "colab": {}
   },
   "source": [
    "mnist = tf.keras.datasets.mnist"
   ],
   "execution_count": 0,
   "outputs": []
  },
  {
   "cell_type": "code",
   "metadata": {
    "id": "haoeQnSWk2kS",
    "colab_type": "code",
    "outputId": "899e45dc-9972-43f5-ae8c-89ea1dd79a00",
    "colab": {
     "base_uri": "https://localhost:8080/",
     "height": 54
    }
   },
   "source": [
    "(training_images, training_labels),(testing_images, testing_labels) = mnist.load_data()"
   ],
   "execution_count": 0,
   "outputs": [
    {
     "output_type": "stream",
     "text": [
      "Downloading data from https://storage.googleapis.com/tensorflow/tf-keras-datasets/mnist.npz\n",
      "11493376/11490434 [==============================] - 0s 0us/step\n"
     ],
     "name": "stdout"
    }
   ]
  },
  {
   "cell_type": "markdown",
   "metadata": {
    "id": "KMuP_Jqw2De1",
    "colab_type": "text"
   },
   "source": [
    "**Step 4: Visualizing Data** "
   ]
  },
  {
   "cell_type": "code",
   "metadata": {
    "id": "fKsFUf3q1Vro",
    "colab_type": "code",
    "outputId": "8ce2491b-9ccd-4cdb-b3c1-e60a5d439c64",
    "colab": {
     "base_uri": "https://localhost:8080/",
     "height": 283
    }
   },
   "source": [
    "plt.imshow(training_images[0])"
   ],
   "execution_count": 0,
   "outputs": [
    {
     "output_type": "execute_result",
     "data": {
      "text/plain": [
       "<matplotlib.image.AxesImage at 0x7f9a266ac128>"
      ]
     },
     "metadata": {
      "tags": []
     },
     "execution_count": 5
    },
    {
     "output_type": "display_data",
     "data": {
      "image/png": "[encoded data removed]",
      "text/plain": [
       "<Figure size 432x288 with 1 Axes>"
      ]
     },
     "metadata": {
      "tags": [],
      "needs_background": "light"
     }
    }
   ]
  },
  {
   "cell_type": "code",
   "metadata": {
    "id": "JrTV6HN59fTy",
    "colab_type": "code",
    "outputId": "edb37751-7ae4-4c19-e9b2-e1429d0c3a33",
    "colab": {
     "base_uri": "https://localhost:8080/",
     "height": 476
    }
   },
   "source": [
    "plt.figure(figsize=(10,10))\n",
    "for i in range (20):\n",
    "  plt.subplot(5,5,i+1)\n",
    "  plt.xticks([])\n",
    "  plt.yticks([])\n",
    "  plt.grid(False)\n",
    "  plt.imshow(training_images[i],cmap = plt.cm.binary)\n",
    "  plt.xlabel([training_labels[i]])"
   ],
   "execution_count": 0,
   "outputs": [
    {
     "output_type": "display_data",
     "data": {
      "image/png": "[encoded data removed]",
      "text/plain": [
       "<Figure size 720x720 with 20 Axes>"
      ]
     },
     "metadata": {
      "tags": []
     }
    }
   ]
  },
  {
   "cell_type": "code",
   "metadata": {
    "id": "Mj_oxUbg2O_S",
    "colab_type": "code",
    "colab": {}
   },
   "source": [
    "shape_of_train_data = training_images.shape\n",
    "shape_of_test_data  = testing_images.shape\n",
    "num_of_train_data   = training_images.shape[0]\n",
    "num_of_test_data    = testing_images.shape[0]\n",
    "shape_of_image_hor  = training_images.shape[1]\n",
    "shape_of_image_vert = training_images.shape[2]\n",
    "number_of_dimensions= shape_of_image_hor*shape_of_image_vert\n",
    "\n",
    "label_list =[]\n",
    "for label in training_labels:\n",
    "  if label not in label_list:\n",
    "    label_list.append(label)\n",
    "number_of_labels = len(label_list)"
   ],
   "execution_count": 0,
   "outputs": []
  },
  {
   "cell_type": "code",
   "metadata": {
    "id": "O7-9TWX-2fft",
    "colab_type": "code",
    "outputId": "0dce991d-86a7-4366-8305-2a5b84327855",
    "colab": {
     "base_uri": "https://localhost:8080/",
     "height": 165
    }
   },
   "source": [
    "print('shape of training_data: '+ str(shape_of_train_data))\n",
    "print('shape of testing_data : '+ str(shape_of_test_data))\n",
    "print('num of training data  : '+ str(num_of_train_data))\n",
    "print('num of testing data   : '+ str(num_of_test_data))\n",
    "print('shape of an image     : '+ str(shape_of_image_hor) + ' x ' + str(shape_of_image_vert) + ' pixels')\n",
    "print('Number of Dimensions  : '+ str(number_of_dimensions))\n",
    "print('labels                : '+ str(sorted(label_list)))\n",
    "print('Number of Labels      : '+ str(number_of_labels))"
   ],
   "execution_count": 0,
   "outputs": [
    {
     "output_type": "stream",
     "text": [
      "shape of training_data: (60000, 28, 28)\n",
      "shape of testing_data : (10000, 28, 28)\n",
      "num of training data  : 60000\n",
      "num of testing data   : 10000\n",
      "shape of an image     : 28 x 28 pixels\n",
      "Number of Dimensions  : 784\n",
      "labels                : [0, 1, 2, 3, 4, 5, 6, 7, 8, 9]\n",
      "Number of Labels      : 10\n"
     ],
     "name": "stdout"
    }
   ]
  },
  {
   "cell_type": "code",
   "metadata": {
    "id": "kZWLNlHo2uzw",
    "colab_type": "code",
    "outputId": "43a12a8c-0a86-4eb4-a2a0-9c5a4a3d8d37",
    "colab": {
     "base_uri": "https://localhost:8080/",
     "height": 1000
    }
   },
   "source": [
    "print('Raw image with Pixel Values: ')\n",
    "print(training_images[0])"
   ],
   "execution_count": 0,
   "outputs": [
    {
     "output_type": "stream",
     "text": [
      "Raw image with Pixel Values: \n",
      "[[  0   0   0   0   0   0   0   0   0   0   0   0   0   0   0   0   0   0\n",
      "    0   0   0   0   0   0   0   0   0   0]\n",
      " [  0   0   0   0   0   0   0   0   0   0   0   0   0   0   0   0   0   0\n",
      "    0   0   0   0   0   0   0   0   0   0]\n",
      " [  0   0   0   0   0   0   0   0   0   0   0   0   0   0   0   0   0   0\n",
      "    0   0   0   0   0   0   0   0   0   0]\n",
      " [  0   0   0   0   0   0   0   0   0   0   0   0   0   0   0   0   0   0\n",
      "    0   0   0   0   0   0   0   0   0   0]\n",
      " [  0   0   0   0   0   0   0   0   0   0   0   0   0   0   0   0   0   0\n",
      "    0   0   0   0   0   0   0   0   0   0]\n",
      " [  0   0   0   0   0   0   0   0   0   0   0   0   3  18  18  18 126 136\n",
      "  175  26 166 255 247 127   0   0   0   0]\n",
      " [  0   0   0   0   0   0   0   0  30  36  94 154 170 253 253 253 253 253\n",
      "  225 172 253 242 195  64   0   0   0   0]\n",
      " [  0   0   0   0   0   0   0  49 238 253 253 253 253 253 253 253 253 251\n",
      "   93  82  82  56  39   0   0   0   0   0]\n",
      " [  0   0   0   0   0   0   0  18 219 253 253 253 253 253 198 182 247 241\n",
      "    0   0   0   0   0   0   0   0   0   0]\n",
      " [  0   0   0   0   0   0   0   0  80 156 107 253 253 205  11   0  43 154\n",
      "    0   0   0   0   0   0   0   0   0   0]\n",
      " [  0   0   0   0   0   0   0   0   0  14   1 154 253  90   0   0   0   0\n",
      "    0   0   0   0   0   0   0   0   0   0]\n",
      " [  0   0   0   0   0   0   0   0   0   0   0 139 253 190   2   0   0   0\n",
      "    0   0   0   0   0   0   0   0   0   0]\n",
      " [  0   0   0   0   0   0   0   0   0   0   0  11 190 253  70   0   0   0\n",
      "    0   0   0   0   0   0   0   0   0   0]\n",
      " [  0   0   0   0   0   0   0   0   0   0   0   0  35 241 225 160 108   1\n",
      "    0   0   0   0   0   0   0   0   0   0]\n",
      " [  0   0   0   0   0   0   0   0   0   0   0   0   0  81 240 253 253 119\n",
      "   25   0   0   0   0   0   0   0   0   0]\n",
      " [  0   0   0   0   0   0   0   0   0   0   0   0   0   0  45 186 253 253\n",
      "  150  27   0   0   0   0   0   0   0   0]\n",
      " [  0   0   0   0   0   0   0   0   0   0   0   0   0   0   0  16  93 252\n",
      "  253 187   0   0   0   0   0   0   0   0]\n",
      " [  0   0   0   0   0   0   0   0   0   0   0   0   0   0   0   0   0 249\n",
      "  253 249  64   0   0   0   0   0   0   0]\n",
      " [  0   0   0   0   0   0   0   0   0   0   0   0   0   0  46 130 183 253\n",
      "  253 207   2   0   0   0   0   0   0   0]\n",
      " [  0   0   0   0   0   0   0   0   0   0   0   0  39 148 229 253 253 253\n",
      "  250 182   0   0   0   0   0   0   0   0]\n",
      " [  0   0   0   0   0   0   0   0   0   0  24 114 221 253 253 253 253 201\n",
      "   78   0   0   0   0   0   0   0   0   0]\n",
      " [  0   0   0   0   0   0   0   0  23  66 213 253 253 253 253 198  81   2\n",
      "    0   0   0   0   0   0   0   0   0   0]\n",
      " [  0   0   0   0   0   0  18 171 219 253 253 253 253 195  80   9   0   0\n",
      "    0   0   0   0   0   0   0   0   0   0]\n",
      " [  0   0   0   0  55 172 226 253 253 253 253 244 133  11   0   0   0   0\n",
      "    0   0   0   0   0   0   0   0   0   0]\n",
      " [  0   0   0   0 136 253 253 253 212 135 132  16   0   0   0   0   0   0\n",
      "    0   0   0   0   0   0   0   0   0   0]\n",
      " [  0   0   0   0   0   0   0   0   0   0   0   0   0   0   0   0   0   0\n",
      "    0   0   0   0   0   0   0   0   0   0]\n",
      " [  0   0   0   0   0   0   0   0   0   0   0   0   0   0   0   0   0   0\n",
      "    0   0   0   0   0   0   0   0   0   0]\n",
      " [  0   0   0   0   0   0   0   0   0   0   0   0   0   0   0   0   0   0\n",
      "    0   0   0   0   0   0   0   0   0   0]]\n"
     ],
     "name": "stdout"
    }
   ]
  },
  {
   "cell_type": "markdown",
   "metadata": {
    "id": "WuNIfNwp5S6k",
    "colab_type": "text"
   },
   "source": [
    "**Step 5: Flattening the Image**\n"
   ]
  },
  {
   "cell_type": "code",
   "metadata": {
    "id": "DcBzeq3s4aXF",
    "colab_type": "code",
    "colab": {}
   },
   "source": [
    "data = MNISTDataset(training_images.reshape([-1,number_of_dimensions]),training_labels,\n",
    "                    testing_images.reshape([-1,number_of_dimensions]),testing_labels, \n",
    "                                           batch_size=128 )\n"
   ],
   "execution_count": 0,
   "outputs": []
  },
  {
   "cell_type": "code",
   "metadata": {
    "id": "FFoq8R3c_KSE",
    "colab_type": "code",
    "outputId": "cfe68e85-0367-470e-e99d-c3c98734f502",
    "colab": {
     "base_uri": "https://localhost:8080/",
     "height": 54
    }
   },
   "source": [
    "print('New shape of Training Images: ' + str(data.train_data.shape))\n",
    "print('New shape of Testing Images : ' + str(data.test_data.shape))"
   ],
   "execution_count": 0,
   "outputs": [
    {
     "output_type": "stream",
     "text": [
      "New shape of Training Images: (60000, 784)\n",
      "New shape of Testing Images : (10000, 784)\n"
     ],
     "name": "stdout"
    }
   ]
  },
  {
   "cell_type": "markdown",
   "metadata": {
    "id": "cMmnY5b7I0nM",
    "colab_type": "text"
   },
   "source": [
    "**Step 6: Defining Hyperparameters**"
   ]
  },
  {
   "cell_type": "markdown",
   "metadata": {
    "id": "QAfkyhjJShk0",
    "colab_type": "text"
   },
   "source": [
    "Model 1:- \n",
    "________________________________________________________________________________\n",
    "* No. of Hidden Layers      = 1\n",
    "* Number of Units in Layers = 128\n",
    "* Learinng Rate             = 0.1\n",
    "* Initialization of Bias    = between -0.1 to 0.1\n",
    "* Initialization of weights = between -0.1 to 0.1\n",
    "* Hidden Layer Act. Func.   = relu\n",
    "* Output Layer Act. Func.   = softmax with cross entropy loss function\n",
    "* Input Batch Size          = 128\n",
    "* Number of Steps           = 2000\n",
    "* Standrdization of Input   = True(data/255)"
   ]
  },
  {
   "cell_type": "code",
   "metadata": {
    "id": "XyCf16KTKGDy",
    "colab_type": "code",
    "colab": {}
   },
   "source": [
    "num_of_steps = 2000\n",
    "learning_rate1 = 0.1\n",
    "number_of_units_in_layer1 = 128"
   ],
   "execution_count": 0,
   "outputs": []
  },
  {
   "cell_type": "code",
   "metadata": {
    "id": "oCgOlmVPRLNp",
    "colab_type": "code",
    "colab": {}
   },
   "source": [
    "w1 = tf.Variable(tf.random.uniform([number_of_dimensions,number_of_units_in_layer1],minval = -0.1, maxval=0.1,dtype=tf.dtypes.float32))\n",
    "b1 = tf.Variable(tf.random.uniform([number_of_units_in_layer1],minval = -0.1, maxval=0.1,dtype=tf.dtypes.float32))\n",
    "\n",
    "w2 = tf.Variable(tf.random.uniform([number_of_units_in_layer1,number_of_labels],minval = -0.1, maxval=0.1,dtype=tf.dtypes.float32))\n",
    "b2 = tf.Variable(tf.random.uniform([number_of_labels],minval = -0.1, maxval=0.1,dtype=tf.dtypes.float32))"
   ],
   "execution_count": 0,
   "outputs": []
  },
  {
   "cell_type": "code",
   "metadata": {
    "id": "yvTXI19PdM-m",
    "colab_type": "code",
    "outputId": "3d9f35f4-1f45-4f02-f861-499317f8d6f9",
    "colab": {
     "base_uri": "https://localhost:8080/",
     "height": 91
    }
   },
   "source": [
    "print('Shape of weight matrix of hidden layer \"w1\": ' + str(w1.shape))\n",
    "print('Shape of bias matrix of hidden layer \"b1\"  : ' + str(b1.shape))\n",
    "\n",
    "print('Shape of weight matrix of output layer \"w2\": ' + str(w2.shape))\n",
    "print('Shape of bias matrix of output layer \"b2\"  : ' + str(b2.shape))"
   ],
   "execution_count": 305,
   "outputs": [
    {
     "output_type": "stream",
     "text": [
      "Shape of weight matrix of hidden layer \"w1\": (784, 128)\n",
      "Shape of bias matrix of hidden layer \"b1\"  : (128,)\n",
      "Shape of weight matrix of output layer \"w2\": (128, 10)\n",
      "Shape of bias matrix of output layer \"b2\"  : (10,)\n"
     ],
     "name": "stdout"
    }
   ]
  },
  {
   "cell_type": "markdown",
   "metadata": {
    "id": "XSKcxrB_p0Uf",
    "colab_type": "text"
   },
   "source": [
    "**Step 7: Designing and Training the Model**"
   ]
  },
  {
   "cell_type": "code",
   "metadata": {
    "id": "LyutDO3Jpdbl",
    "colab_type": "code",
    "outputId": "105cc9c9-4476-4fe7-f13f-b8217d382d7e",
    "colab": {
     "base_uri": "https://localhost:8080/",
     "height": 461
    }
   },
   "source": [
    "loss_list = []\n",
    "step_list = []\n",
    "for step in range(num_of_steps):\n",
    "  image_batch,label_batch = data.next_batch()  #This will update the batch size after every steps\n",
    "  with tf.GradientTape() as tape:#for monitoring every change to tensors\n",
    "    #logits1 = tf.matmul(image_batch,w1)+b1# image_batch.shape = (128 x 784), w1.shape= (784x128), \n",
    "    # image_batch x w1 = logits1, logits1 = (128x128)\n",
    "    hidden1 = tf.nn.relu(tf.matmul(image_batch,w1)+b1)\n",
    "    logits = tf.matmul(hidden1,w2)+b2\n",
    "\n",
    "    loss = tf.reduce_mean(tf.nn.sparse_softmax_cross_entropy_with_logits(logits=logits, labels=label_batch))\n",
    "    loss_list.append(loss)\n",
    "  grads = tape.gradient(loss, [w2,b2,w1,b1])\n",
    "  w2.assign_sub(learning_rate1*grads[0])#updating weights\n",
    "  b2.assign_sub(learning_rate1*grads[1])#updating \n",
    "  w1.assign_sub(learning_rate1*grads[2])\n",
    "  b1.assign_sub(learning_rate1*grads[3])\n",
    "  \n",
    "  step_list.append(step)\n",
    "  \n",
    "\n",
    "  if not step%100:# updating after 100 steps only\n",
    "    preds = tf.argmax(logits,axis = 1, output_type = tf.int32)#selecting max value's index\n",
    "    acc   = (tf.reduce_mean(tf.cast(tf.equal(preds, label_batch),tf.float32)))*100# comparing predicted value and actual value\n",
    "    #returning a binary output. Further checking number of correct classification and calculating accuracy.\n",
    "    print(\"Loss: {}, Accuracy on Training Data: {}\".format(loss,acc))\n",
    "    \n",
    "#"
   ],
   "execution_count": 306,
   "outputs": [
    {
     "output_type": "stream",
     "text": [
      "Loss: 2.338343620300293, Accuracy on Training Data: 7.03125\n",
      "Loss: 0.4204779267311096, Accuracy on Training Data: 90.625\n",
      "Loss: 0.3185511827468872, Accuracy on Training Data: 92.96875\n",
      "Loss: 0.32119524478912354, Accuracy on Training Data: 89.0625\n",
      "Starting new epoch...\n",
      "Loss: 0.446929395198822, Accuracy on Training Data: 86.71875\n",
      "Loss: 0.3700522780418396, Accuracy on Training Data: 88.28125\n",
      "Loss: 0.2777585983276367, Accuracy on Training Data: 93.75\n",
      "Loss: 0.2765805125236511, Accuracy on Training Data: 95.3125\n",
      "Loss: 0.12582474946975708, Accuracy on Training Data: 96.09375\n",
      "Starting new epoch...\n",
      "Loss: 0.26248180866241455, Accuracy on Training Data: 93.75\n",
      "Loss: 0.16232535243034363, Accuracy on Training Data: 94.53125\n",
      "Loss: 0.2973575294017792, Accuracy on Training Data: 91.40625\n",
      "Loss: 0.18803671002388, Accuracy on Training Data: 95.3125\n",
      "Loss: 0.26079872250556946, Accuracy on Training Data: 94.53125\n",
      "Starting new epoch...\n",
      "Loss: 0.23463092744350433, Accuracy on Training Data: 92.96875\n",
      "Loss: 0.15350627899169922, Accuracy on Training Data: 96.875\n",
      "Loss: 0.2791527807712555, Accuracy on Training Data: 91.40625\n",
      "Loss: 0.1915753334760666, Accuracy on Training Data: 94.53125\n",
      "Starting new epoch...\n",
      "Loss: 0.24803407490253448, Accuracy on Training Data: 93.75\n",
      "Loss: 0.16181793808937073, Accuracy on Training Data: 97.65625\n"
     ],
     "name": "stdout"
    }
   ]
  },
  {
   "cell_type": "markdown",
   "metadata": {
    "id": "bYfcTVgCqwoA",
    "colab_type": "text"
   },
   "source": [
    "**Step 8: Accuracy on Testing Data**"
   ]
  },
  {
   "cell_type": "code",
   "metadata": {
    "id": "gQy6dd2SFAER",
    "colab_type": "code",
    "outputId": "1bc23d55-c4c9-4f8b-aa7f-1c4ad873163c",
    "colab": {
     "base_uri": "https://localhost:8080/",
     "height": 35
    }
   },
   "source": [
    "test_prediction1 = tf.nn.relu(tf.matmul(data.test_data,w1)+b1)\n",
    "test_predictions = tf.argmax(tf.matmul(test_prediction1,w2)+b2, axis = 1, output_type= tf.int32)\n",
    "acc = (tf.reduce_mean(tf.cast(tf.equal(test_predictions, data.test_labels),tf.float32)))*100\n",
    "print(' Accuracy on Testing Data: {}'.format(acc))"
   ],
   "execution_count": 307,
   "outputs": [
    {
     "output_type": "stream",
     "text": [
      " Accuracy on Testing Data: 94.81999969482422\n"
     ],
     "name": "stdout"
    }
   ]
  },
  {
   "cell_type": "code",
   "metadata": {
    "id": "YqQ9jyR4endG",
    "colab_type": "code",
    "colab": {
     "base_uri": "https://localhost:8080/",
     "height": 297
    },
    "outputId": "d23f9e67-4f8b-4806-f7ea-88f8960f33ef"
   },
   "source": [
    "plt.figure()\n",
    "plt.plot(step_list,loss_list)\n",
    "plt.xlabel('Training Steps')\n",
    "plt.ylabel('Loss')"
   ],
   "execution_count": 308,
   "outputs": [
    {
     "output_type": "execute_result",
     "data": {
      "text/plain": [
       "Text(0, 0.5, 'Loss')"
      ]
     },
     "metadata": {
      "tags": []
     },
     "execution_count": 308
    },
    {
     "output_type": "display_data",
     "data": {
      "image/png": "[encoded data removed]",
      "text/plain": [
       "<Figure size 432x288 with 1 Axes>"
      ]
     },
     "metadata": {
      "tags": [],
      "needs_background": "light"
     }
    }
   ]
  },
  {
   "cell_type": "markdown",
   "metadata": {
    "id": "f8U7suwHq_43",
    "colab_type": "text"
   },
   "source": [
    "**Step 9: Partial validation - Temporary**"
   ]
  },
  {
   "cell_type": "code",
   "metadata": {
    "id": "J5bsBIFbozLD",
    "colab_type": "code",
    "colab": {}
   },
   "source": [
    "ind1, ind2,ind3,ind4,ind5 = 5678, 8765, 6857, 85, 9"
   ],
   "execution_count": 0,
   "outputs": []
  },
  {
   "cell_type": "markdown",
   "metadata": {
    "id": "E_6MoQp_sJh0",
    "colab_type": "text"
   },
   "source": [
    "check 1:"
   ]
  },
  {
   "cell_type": "code",
   "metadata": {
    "id": "oZlfzNzYsF6g",
    "colab_type": "code",
    "outputId": "28d7b814-20ee-4e95-cbbc-7705fb13dceb",
    "colab": {
     "base_uri": "https://localhost:8080/",
     "height": 283
    }
   },
   "source": [
    "plt.imshow(testing_images[ind1])\n",
    "plt.show\n",
    "print('      Model Prediction: {}'.format(test_predictions[ind1]))"
   ],
   "execution_count": 310,
   "outputs": [
    {
     "output_type": "stream",
     "text": [
      "      Model Prediction: 8\n"
     ],
     "name": "stdout"
    },
    {
     "output_type": "display_data",
     "data": {
      "image/png": "[encoded data removed]",
      "text/plain": [
       "<Figure size 432x288 with 1 Axes>"
      ]
     },
     "metadata": {
      "tags": [],
      "needs_background": "light"
     }
    }
   ]
  },
  {
   "cell_type": "markdown",
   "metadata": {
    "id": "6W84-QXysvCM",
    "colab_type": "text"
   },
   "source": [
    "check 2:"
   ]
  },
  {
   "cell_type": "code",
   "metadata": {
    "id": "QYuezUoIoCmo",
    "colab_type": "code",
    "outputId": "baa08781-44f2-4cff-c9c0-ce59a029ff7c",
    "colab": {
     "base_uri": "https://localhost:8080/",
     "height": 283
    }
   },
   "source": [
    "plt.imshow(testing_images[ind2])\n",
    "plt.show\n",
    "print('      Model Prediction: {}'.format(test_predictions[ind2]))"
   ],
   "execution_count": 311,
   "outputs": [
    {
     "output_type": "stream",
     "text": [
      "      Model Prediction: 0\n"
     ],
     "name": "stdout"
    },
    {
     "output_type": "display_data",
     "data": {
      "image/png": "[encoded data removed]",
      "text/plain": [
       "<Figure size 432x288 with 1 Axes>"
      ]
     },
     "metadata": {
      "tags": [],
      "needs_background": "light"
     }
    }
   ]
  },
  {
   "cell_type": "markdown",
   "metadata": {
    "id": "Mri6tkuvs4mp",
    "colab_type": "text"
   },
   "source": [
    "check 3:"
   ]
  },
  {
   "cell_type": "code",
   "metadata": {
    "id": "IYYagSrqqXKE",
    "colab_type": "code",
    "outputId": "12d7261f-e035-4bcd-b6b4-424a225ac481",
    "colab": {
     "base_uri": "https://localhost:8080/",
     "height": 283
    }
   },
   "source": [
    "plt.imshow(testing_images[ind3])\n",
    "plt.show\n",
    "print('      Model Prediction: {}'.format(test_predictions[ind3]))"
   ],
   "execution_count": 312,
   "outputs": [
    {
     "output_type": "stream",
     "text": [
      "      Model Prediction: 3\n"
     ],
     "name": "stdout"
    },
    {
     "output_type": "display_data",
     "data": {
      "image/png": "[encoded data removed]",
      "text/plain": [
       "<Figure size 432x288 with 1 Axes>"
      ]
     },
     "metadata": {
      "tags": [],
      "needs_background": "light"
     }
    }
   ]
  },
  {
   "cell_type": "markdown",
   "metadata": {
    "id": "PiZBpUP9tAKX",
    "colab_type": "text"
   },
   "source": [
    "check 4:"
   ]
  },
  {
   "cell_type": "code",
   "metadata": {
    "id": "8P1vxw-2s-6a",
    "colab_type": "code",
    "outputId": "08851adf-0e2e-4241-b907-39dbf92db087",
    "colab": {
     "base_uri": "https://localhost:8080/",
     "height": 283
    }
   },
   "source": [
    "plt.imshow(testing_images[ind4])\n",
    "plt.show\n",
    "print('      Model Prediction: {}'.format(test_predictions[ind4]))"
   ],
   "execution_count": 313,
   "outputs": [
    {
     "output_type": "stream",
     "text": [
      "      Model Prediction: 4\n"
     ],
     "name": "stdout"
    },
    {
     "output_type": "display_data",
     "data": {
      "image/png": "[encoded data removed]",
      "text/plain": [
       "<Figure size 432x288 with 1 Axes>"
      ]
     },
     "metadata": {
      "tags": [],
      "needs_background": "light"
     }
    }
   ]
  },
  {
   "cell_type": "markdown",
   "metadata": {
    "id": "3bvYLiAqtF_e",
    "colab_type": "text"
   },
   "source": [
    "check 5:"
   ]
  },
  {
   "cell_type": "code",
   "metadata": {
    "id": "Db2uqfzstECx",
    "colab_type": "code",
    "outputId": "0b0e1df1-06c5-4826-c139-fc29eb3eeb91",
    "colab": {
     "base_uri": "https://localhost:8080/",
     "height": 283
    }
   },
   "source": [
    "plt.imshow(testing_images[ind5])\n",
    "plt.show\n",
    "print('      Model Prediction: {}'.format(test_predictions[ind5]))"
   ],
   "execution_count": 314,
   "outputs": [
    {
     "output_type": "stream",
     "text": [
      "      Model Prediction: 9\n"
     ],
     "name": "stdout"
    },
    {
     "output_type": "display_data",
     "data": {
      "image/png": "[encoded data removed]",
      "text/plain": [
       "<Figure size 432x288 with 1 Axes>"
      ]
     },
     "metadata": {
      "tags": [],
      "needs_background": "light"
     }
    }
   ]
  },
  {
   "cell_type": "markdown",
   "metadata": {
    "id": "kF_AKxddu2NQ",
    "colab_type": "text"
   },
   "source": [
    "Model 2:-  Changing Number of Units in Hidden Layer\n",
    "________________________________________________________________________________\n",
    "* No. of Hidden Layers      = 1\n",
    "* Number of Units in Layers = 512(changed)\n",
    "* Learinng Rate             = 0.1\n",
    "* Initialization of Bias    = between -0.1 to 0.1\n",
    "* Initialization of weights = between -0.1 to 0.1\n",
    "* Hidden Layer Act. Func.   = relu\n",
    "* Output Layer Act. Func.   = softmax with cross entropy loss function\n",
    "* Input Batch Size          = 128\n",
    "* Number of Steps           = 2000\n",
    "* Standrdization of Input   = True(data/255)"
   ]
  },
  {
   "cell_type": "code",
   "metadata": {
    "id": "TRxd49YBtMY_",
    "colab_type": "code",
    "outputId": "a81e7b87-32b6-4179-c582-81e405f96d4c",
    "colab": {
     "base_uri": "https://localhost:8080/",
     "height": 590
    }
   },
   "source": [
    "loss_list = []\n",
    "step_list = []\n",
    "num_of_steps = 2000\n",
    "learning_rate1 = 0.1\n",
    "number_of_units_in_layer1 = 512\n",
    "\n",
    "w1 = tf.Variable(tf.random.uniform([number_of_dimensions,number_of_units_in_layer1],minval = -0.1, maxval=0.1,dtype=tf.dtypes.float32))\n",
    "b1 = tf.Variable(tf.random.uniform([number_of_units_in_layer1],minval = -0.1, maxval=0.1,dtype=tf.dtypes.float32))\n",
    "\n",
    "w2 = tf.Variable(tf.random.uniform([number_of_units_in_layer1,number_of_labels],minval = -0.1, maxval=0.1,dtype=tf.dtypes.float32))\n",
    "b2 = tf.Variable(tf.random.uniform([number_of_labels],minval = -0.1, maxval=0.1,dtype=tf.dtypes.float32))\n",
    "\n",
    "print('Shape of weight matrix of hidden layer \"w1\": ' + str(w1.shape))\n",
    "print('Shape of bias matrix of hidden layer \"b1\"  : ' + str(b1.shape))\n",
    "\n",
    "print('Shape of weight matrix of output layer \"w2\": ' + str(w2.shape))\n",
    "print('Shape of bias matrix of output layer \"b2\"  : ' + str(b2.shape))\n",
    "print('- '*40)\n",
    "\n",
    "for step in range(num_of_steps):\n",
    "  image_batch,label_batch = data.next_batch()\n",
    "  #This will update the batch size after every steps\n",
    "  with tf.GradientTape() as tape:#for monitoring every change to tensors\n",
    "    #logits1 = tf.matmul(image_batch,w1)+b1# image_batch.shape = (128 x 784), w1.shape= (784x128), \n",
    "    # image_batch x w1 = logits1, logits1 = (128x128)\n",
    "    hidden1 = tf.nn.relu(tf.matmul(image_batch,w1)+b1)\n",
    "    logits = tf.matmul(hidden1,w2)+b2\n",
    "    loss = tf.reduce_mean(tf.nn.sparse_softmax_cross_entropy_with_logits(logits=logits, labels=label_batch))\n",
    "    loss_list.append(loss)\n",
    "  grads = tape.gradient(loss, [w2,b2,w1,b1])\n",
    "  w2.assign_sub(learning_rate1*grads[0])#updating weights\n",
    "  b2.assign_sub(learning_rate1*grads[1])#updating \n",
    "  w1.assign_sub(learning_rate1*grads[2])\n",
    "  b1.assign_sub(learning_rate1*grads[3])\n",
    "  step_list.append(step)\n",
    "  if not step%100:# updating after 100 steps only\n",
    "    preds = tf.argmax(logits,axis = 1, output_type = tf.int32)#selecting max value's index\n",
    "    acc   = (tf.reduce_mean(tf.cast(tf.equal(preds, label_batch),tf.float32)))*100# comparing predicted value and actual value\n",
    "    #returning a binary output. Further checking number of correct classification and calculating accuracy.\n",
    "    print(\"Loss: {}, Accuracy on Training Data: {}\".format(loss,acc))\n",
    "\n",
    "print('- '*40)\n",
    "\n",
    "test_prediction1 = tf.nn.relu(tf.matmul(data.test_data,w1)+b1)\n",
    "test_predictions = tf.argmax(tf.matmul(test_prediction1,w2)+b2, axis = 1, output_type= tf.int32)\n",
    "acc = (tf.reduce_mean(tf.cast(tf.equal(test_predictions, data.test_labels),tf.float32)))*100\n",
    "print('Accuracy on Testing Data: {}'.format(acc))"
   ],
   "execution_count": 318,
   "outputs": [
    {
     "output_type": "stream",
     "text": [
      "Shape of weight matrix of hidden layer \"w1\": (784, 512)\n",
      "Shape of bias matrix of hidden layer \"b1\"  : (512,)\n",
      "Shape of weight matrix of output layer \"w2\": (512, 10)\n",
      "Shape of bias matrix of output layer \"b2\"  : (10,)\n",
      "- - - - - - - - - - - - - - - - - - - - - - - - - - - - - - - - - - - - - - - - \n",
      "Loss: 2.4362759590148926, Accuracy on Training Data: 10.9375\n",
      "Loss: 0.6107624769210815, Accuracy on Training Data: 85.15625\n",
      "Loss: 0.29974716901779175, Accuracy on Training Data: 89.84375\n",
      "Loss: 0.4017343819141388, Accuracy on Training Data: 89.0625\n",
      "Starting new epoch...\n",
      "Loss: 0.26868200302124023, Accuracy on Training Data: 91.40625\n",
      "Loss: 0.3694860339164734, Accuracy on Training Data: 91.40625\n",
      "Loss: 0.16913478076457977, Accuracy on Training Data: 95.3125\n",
      "Loss: 0.2566157579421997, Accuracy on Training Data: 90.625\n",
      "Loss: 0.10516759008169174, Accuracy on Training Data: 96.875\n",
      "Starting new epoch...\n",
      "Loss: 0.47493821382522583, Accuracy on Training Data: 88.28125\n",
      "Loss: 0.2739260196685791, Accuracy on Training Data: 92.1875\n",
      "Loss: 0.19336923956871033, Accuracy on Training Data: 94.53125\n",
      "Loss: 0.16317591071128845, Accuracy on Training Data: 92.96875\n",
      "Starting new epoch...\n",
      "Loss: 0.24152986705303192, Accuracy on Training Data: 96.875\n",
      "Loss: 0.23681044578552246, Accuracy on Training Data: 95.3125\n",
      "Loss: 0.19803394377231598, Accuracy on Training Data: 95.3125\n",
      "Loss: 0.1958458572626114, Accuracy on Training Data: 96.09375\n",
      "Loss: 0.11476998776197433, Accuracy on Training Data: 96.875\n",
      "Starting new epoch...\n",
      "Loss: 0.04970220848917961, Accuracy on Training Data: 99.21875\n",
      "Loss: 0.16136837005615234, Accuracy on Training Data: 96.09375\n",
      "- - - - - - - - - - - - - - - - - - - - - - - - - - - - - - - - - - - - - - - - \n",
      "Accuracy on Testing Data: 95.68000030517578\n"
     ],
     "name": "stdout"
    }
   ]
  },
  {
   "cell_type": "code",
   "metadata": {
    "id": "4AwGECmDj4kQ",
    "colab_type": "code",
    "colab": {
     "base_uri": "https://localhost:8080/",
     "height": 297
    },
    "outputId": "f8e27991-bd48-441a-f42a-1faa24c1f942"
   },
   "source": [
    "plt.figure()\n",
    "plt.plot(step_list,loss_list)\n",
    "plt.xlabel('Training Steps')\n",
    "plt.ylabel('Loss')"
   ],
   "execution_count": 319,
   "outputs": [
    {
     "output_type": "execute_result",
     "data": {
      "text/plain": [
       "Text(0, 0.5, 'Loss')"
      ]
     },
     "metadata": {
      "tags": []
     },
     "execution_count": 319
    },
    {
     "output_type": "display_data",
     "data": {
      "image/png": "[encoded data removed]",
      "text/plain": [
       "<Figure size 432x288 with 1 Axes>"
      ]
     },
     "metadata": {
      "tags": [],
      "needs_background": "light"
     }
    }
   ]
  },
  {
   "cell_type": "markdown",
   "metadata": {
    "id": "LAQtaecH0VuI",
    "colab_type": "text"
   },
   "source": [
    "Model 3:- Changing Number of Units in Hidden Layer\n",
    "________________________________________________________________________________\n",
    "* No. of Hidden Layers      = 1\n",
    "* Number of Units in Layers = 1024(changed)\n",
    "* Learinng Rate             = 0.1\n",
    "* Initialization of Bias    = between -0.1 to 0.1\n",
    "* Initialization of weights = between -0.1 to 0.1\n",
    "* Hidden Layer Act. Func.   = relu\n",
    "* Output Layer Act. Func.   = softmax with cross entropy loss function\n",
    "* Input Batch Size          = 128\n",
    "* Number of Steps           = 2000\n",
    "* Standrdization of Input   = True(data/255)"
   ]
  },
  {
   "cell_type": "code",
   "metadata": {
    "id": "Rbuds90UzRAr",
    "colab_type": "code",
    "outputId": "21f93561-ef49-45a9-9653-f2559d959be6",
    "colab": {
     "base_uri": "https://localhost:8080/",
     "height": 590
    }
   },
   "source": [
    "num_of_steps = 2000\n",
    "learning_rate1 = 0.1\n",
    "number_of_units_in_layer1 = 1024\n",
    "\n",
    "w1 = tf.Variable(tf.random.uniform([number_of_dimensions,number_of_units_in_layer1],minval = -0.1, maxval=0.1,dtype=tf.dtypes.float32))\n",
    "b1 = tf.Variable(tf.random.uniform([number_of_units_in_layer1],minval = -0.1, maxval=0.1,dtype=tf.dtypes.float32))\n",
    "\n",
    "w2 = tf.Variable(tf.random.uniform([number_of_units_in_layer1,number_of_labels],minval = -0.1, maxval=0.1,dtype=tf.dtypes.float32))\n",
    "b2 = tf.Variable(tf.random.uniform([number_of_labels],minval = -0.1, maxval=0.1,dtype=tf.dtypes.float32))\n",
    "\n",
    "print('Shape of weight matrix of hidden layer \"w1\": ' + str(w1.shape))\n",
    "print('Shape of bias matrix of hidden layer \"b1\"  : ' + str(b1.shape))\n",
    "\n",
    "print('Shape of weight matrix of output layer \"w2\": ' + str(w2.shape))\n",
    "print('Shape of bias matrix of output layer \"b2\"  : ' + str(b2.shape))\n",
    "print('- '*40)\n",
    "\n",
    "for step in range(num_of_steps):\n",
    "  image_batch,label_batch = data.next_batch()\n",
    "  #This will update the batch size after every steps\n",
    "  with tf.GradientTape() as tape:#for monitoring every change to tensors\n",
    "    #logits1 = tf.matmul(image_batch,w1)+b1# image_batch.shape = (128 x 784), w1.shape= (784x128), \n",
    "    # image_batch x w1 = logits1, logits1 = (128x128)\n",
    "    hidden1 = tf.nn.relu(tf.matmul(image_batch,w1)+b1)\n",
    "    logits = tf.matmul(hidden1,w2)+b2\n",
    "    loss = tf.reduce_mean(tf.nn.sparse_softmax_cross_entropy_with_logits(logits=logits, labels=label_batch))\n",
    "  grads = tape.gradient(loss, [w2,b2,w1,b1])\n",
    "  w2.assign_sub(learning_rate1*grads[0])#updating weights\n",
    "  b2.assign_sub(learning_rate1*grads[1])#updating \n",
    "  w1.assign_sub(learning_rate1*grads[2])\n",
    "  b1.assign_sub(learning_rate1*grads[3])\n",
    "\n",
    "  if not step%100:# updating after 100 steps only\n",
    "    preds = tf.argmax(logits,axis = 1, output_type = tf.int32)#selecting max value's index\n",
    "    acc   = (tf.reduce_mean(tf.cast(tf.equal(preds, label_batch),tf.float32)))*100# comparing predicted value and actual value\n",
    "    #returning a binary output. Further checking number of correct classification and calculating accuracy.\n",
    "    print(\"Loss: {}, Accuracy on Training Data: {}\".format(loss,acc))\n",
    "\n",
    "print('- '*40)\n",
    "\n",
    "test_prediction1 = tf.nn.relu(tf.matmul(data.test_data,w1)+b1)\n",
    "test_predictions = tf.argmax(tf.matmul(test_prediction1,w2)+b2, axis = 1, output_type= tf.int32)\n",
    "acc = (tf.reduce_mean(tf.cast(tf.equal(test_predictions, data.test_labels),tf.float32)))*100\n",
    "print('Accuracy on Testing Data: {}'.format(acc))"
   ],
   "execution_count": 320,
   "outputs": [
    {
     "output_type": "stream",
     "text": [
      "Shape of weight matrix of hidden layer \"w1\": (784, 1024)\n",
      "Shape of bias matrix of hidden layer \"b1\"  : (1024,)\n",
      "Shape of weight matrix of output layer \"w2\": (1024, 10)\n",
      "Shape of bias matrix of output layer \"b2\"  : (10,)\n",
      "- - - - - - - - - - - - - - - - - - - - - - - - - - - - - - - - - - - - - - - - \n",
      "Loss: 2.514972686767578, Accuracy on Training Data: 20.3125\n",
      "Loss: 0.5453484058380127, Accuracy on Training Data: 81.25\n",
      "Loss: 0.22553180158138275, Accuracy on Training Data: 94.53125\n",
      "Starting new epoch...\n",
      "Loss: 0.4078855812549591, Accuracy on Training Data: 85.15625\n",
      "Loss: 0.35561004281044006, Accuracy on Training Data: 90.625\n",
      "Loss: 0.23094165325164795, Accuracy on Training Data: 93.75\n",
      "Loss: 0.4183497726917267, Accuracy on Training Data: 88.28125\n",
      "Loss: 0.04543521627783775, Accuracy on Training Data: 99.21875\n",
      "Starting new epoch...\n",
      "Loss: 0.1681155562400818, Accuracy on Training Data: 95.3125\n",
      "Loss: 0.24125880002975464, Accuracy on Training Data: 90.625\n",
      "Loss: 0.4346414804458618, Accuracy on Training Data: 89.0625\n",
      "Loss: 0.2653157114982605, Accuracy on Training Data: 94.53125\n",
      "Starting new epoch...\n",
      "Loss: 0.17954954504966736, Accuracy on Training Data: 93.75\n",
      "Loss: 0.2253282517194748, Accuracy on Training Data: 93.75\n",
      "Loss: 0.2638952434062958, Accuracy on Training Data: 92.96875\n",
      "Loss: 0.27011626958847046, Accuracy on Training Data: 92.1875\n",
      "Loss: 0.10276998579502106, Accuracy on Training Data: 96.09375\n",
      "Starting new epoch...\n",
      "Loss: 0.2178177386522293, Accuracy on Training Data: 95.3125\n",
      "Loss: 0.12859010696411133, Accuracy on Training Data: 96.09375\n",
      "Loss: 0.0599496066570282, Accuracy on Training Data: 98.4375\n",
      "- - - - - - - - - - - - - - - - - - - - - - - - - - - - - - - - - - - - - - - - \n",
      "Accuracy on Testing Data: 95.94000244140625\n"
     ],
     "name": "stdout"
    }
   ]
  },
  {
   "cell_type": "markdown",
   "metadata": {
    "id": "0sTQxZF60pmd",
    "colab_type": "text"
   },
   "source": [
    "Model 4:- Changing Learning Rate\n",
    "________________________________________________________________________________\n",
    "* No. of Hidden Layers      = 1\n",
    "* Number of Units in Layer1 = 128\n",
    "* Learinng Rate             = 0.05(changed)\n",
    "* Initialization of Bias    = between -0.1 to 0.1\n",
    "* Initialization of weights = between -0.1 to 0.1\n",
    "* Hidden Layer Act. Func.   = relu\n",
    "* Output Layer Act. Func.   = softmax with cross entropy loss function\n",
    "* Input Batch Size          = 128\n",
    "* Number of Steps           = 2000\n",
    "* Standrdization of Input   = True(data/255)"
   ]
  },
  {
   "cell_type": "code",
   "metadata": {
    "id": "YPosrGNr0iJ6",
    "colab_type": "code",
    "outputId": "d7e2b983-74ce-4a03-9e72-9ed207fce699",
    "colab": {
     "base_uri": "https://localhost:8080/",
     "height": 608
    }
   },
   "source": [
    "num_of_steps = 2000\n",
    "learning_rate1 = 0.05\n",
    "number_of_units_in_layer1 = 128\n",
    "\n",
    "w1 = tf.Variable(tf.random.uniform([number_of_dimensions,number_of_units_in_layer1],minval = -0.1, maxval=0.1,dtype=tf.dtypes.float32))\n",
    "b1 = tf.Variable(tf.random.uniform([number_of_units_in_layer1],minval = -0.1, maxval=0.1,dtype=tf.dtypes.float32))\n",
    "\n",
    "w2 = tf.Variable(tf.random.uniform([number_of_units_in_layer1,number_of_labels],minval = -0.1, maxval=0.1,dtype=tf.dtypes.float32))\n",
    "b2 = tf.Variable(tf.random.uniform([number_of_labels],minval = -0.1, maxval=0.1,dtype=tf.dtypes.float32))\n",
    "\n",
    "print('Shape of weight matrix of hidden layer \"w1\": ' + str(w1.shape))\n",
    "print('Shape of bias matrix of hidden layer \"b1\"  : ' + str(b1.shape))\n",
    "\n",
    "print('Shape of weight matrix of output layer \"w2\": ' + str(w2.shape))\n",
    "print('Shape of bias matrix of output layer \"b2\"  : ' + str(b2.shape))\n",
    "print('- '*40)\n",
    "\n",
    "for step in range(num_of_steps):\n",
    "  image_batch,label_batch = data.next_batch()\n",
    "  #This will update the batch size after every steps\n",
    "  with tf.GradientTape() as tape:#for monitoring every change to tensors\n",
    "    #logits1 = tf.matmul(image_batch,w1)+b1# image_batch.shape = (128 x 784), w1.shape= (784x128), \n",
    "    # image_batch x w1 = logits1, logits1 = (128x128)\n",
    "    hidden1 = tf.nn.relu(tf.matmul(image_batch,w1)+b1)\n",
    "    logits = tf.matmul(hidden1,w2)+b2\n",
    "    loss = tf.reduce_mean(tf.nn.sparse_softmax_cross_entropy_with_logits(logits=logits, labels=label_batch))\n",
    "  grads = tape.gradient(loss, [w2,b2,w1,b1])\n",
    "  w2.assign_sub(learning_rate1*grads[0])#updating weights\n",
    "  b2.assign_sub(learning_rate1*grads[1])#updating \n",
    "  w1.assign_sub(learning_rate1*grads[2])\n",
    "  b1.assign_sub(learning_rate1*grads[3])\n",
    "\n",
    "  if not step%100:# updating after 100 steps only\n",
    "    preds = tf.argmax(logits,axis = 1, output_type = tf.int32)#selecting max value's index\n",
    "    acc   = (tf.reduce_mean(tf.cast(tf.equal(preds, label_batch),tf.float32)))*100# comparing predicted value and actual value\n",
    "    #returning a binary output. Further checking number of correct classification and calculating accuracy.\n",
    "    print(\"Loss: {}, Accuracy on Training Data: {}\".format(loss,acc))\n",
    "\n",
    "print('- '*40)\n",
    "\n",
    "test_prediction1 = tf.nn.relu(tf.matmul(data.test_data,w1)+b1)\n",
    "test_predictions = tf.argmax(tf.matmul(test_prediction1,w2)+b2, axis = 1, output_type= tf.int32)\n",
    "acc = (tf.reduce_mean(tf.cast(tf.equal(test_predictions, data.test_labels),tf.float32)))*100\n",
    "print('Accuracy on Testing Data: {}'.format(acc))"
   ],
   "execution_count": 321,
   "outputs": [
    {
     "output_type": "stream",
     "text": [
      "Shape of weight matrix of hidden layer \"w1\": (784, 128)\n",
      "Shape of bias matrix of hidden layer \"b1\"  : (128,)\n",
      "Shape of weight matrix of output layer \"w2\": (128, 10)\n",
      "Shape of bias matrix of output layer \"b2\"  : (10,)\n",
      "- - - - - - - - - - - - - - - - - - - - - - - - - - - - - - - - - - - - - - - - \n",
      "Loss: 2.30680251121521, Accuracy on Training Data: 8.59375\n",
      "Loss: 0.7192384004592896, Accuracy on Training Data: 89.0625\n",
      "Starting new epoch...\n",
      "Loss: 0.43997061252593994, Accuracy on Training Data: 90.625\n",
      "Loss: 0.49477094411849976, Accuracy on Training Data: 85.9375\n",
      "Loss: 0.34231042861938477, Accuracy on Training Data: 92.1875\n",
      "Loss: 0.22628545761108398, Accuracy on Training Data: 93.75\n",
      "Starting new epoch...\n",
      "Loss: 0.26826614141464233, Accuracy on Training Data: 93.75\n",
      "Loss: 0.2741021513938904, Accuracy on Training Data: 92.96875\n",
      "Loss: 0.29379409551620483, Accuracy on Training Data: 92.96875\n",
      "Loss: 0.31605982780456543, Accuracy on Training Data: 92.1875\n",
      "Loss: 0.18059317767620087, Accuracy on Training Data: 94.53125\n",
      "Starting new epoch...\n",
      "Loss: 0.24159300327301025, Accuracy on Training Data: 94.53125\n",
      "Loss: 0.22995862364768982, Accuracy on Training Data: 95.3125\n",
      "Loss: 0.45835453271865845, Accuracy on Training Data: 86.71875\n",
      "Loss: 0.2943272292613983, Accuracy on Training Data: 92.96875\n",
      "Loss: 0.23481875658035278, Accuracy on Training Data: 92.96875\n",
      "Starting new epoch...\n",
      "Loss: 0.22336053848266602, Accuracy on Training Data: 95.3125\n",
      "Loss: 0.1766311228275299, Accuracy on Training Data: 94.53125\n",
      "Loss: 0.21032769978046417, Accuracy on Training Data: 95.3125\n",
      "Loss: 0.15629102289676666, Accuracy on Training Data: 98.4375\n",
      "Starting new epoch...\n",
      "- - - - - - - - - - - - - - - - - - - - - - - - - - - - - - - - - - - - - - - - \n",
      "Accuracy on Testing Data: 93.3499984741211\n"
     ],
     "name": "stdout"
    }
   ]
  },
  {
   "cell_type": "markdown",
   "metadata": {
    "id": "U2-diIk72zzD",
    "colab_type": "text"
   },
   "source": [
    "Model 5:- Changing Bias Initialization\n",
    "________________________________________________________________________________\n",
    "* No. of Hidden Layers      = 1\n",
    "* Number of Units in Layer1 = 128\n",
    "* Learinng Rate             = 0.1\n",
    "* Initialization of Bias    = 0(changed)\n",
    "* Initialization of weights = between -0.1 to 0.1\n",
    "* Hidden Layer Act. Func.   = relu\n",
    "* Output Layer Act. Func.   = softmax with cross entropy loss function\n",
    "* Input Batch Size          = 128\n",
    "* Number of Steps           = 2000\n",
    "* Standrdization of Input   = True(data/255)"
   ]
  },
  {
   "cell_type": "code",
   "metadata": {
    "id": "4q2B-K5n2509",
    "colab_type": "code",
    "outputId": "ebf0d616-05e7-4fe8-e970-27db17081f08",
    "colab": {
     "base_uri": "https://localhost:8080/",
     "height": 590
    }
   },
   "source": [
    "num_of_steps = 2000\n",
    "learning_rate1 = 0.1\n",
    "number_of_units_in_layer1 = 128\n",
    "\n",
    "w1 = tf.Variable(tf.random.uniform([number_of_dimensions,number_of_units_in_layer1],minval = -0.1, maxval=0.1,dtype=tf.dtypes.float32))\n",
    "b1 = tf.Variable(np.zeros(number_of_units_in_layer1, dtype=np.float32))\n",
    "\n",
    "w2 = tf.Variable(tf.random.uniform([number_of_units_in_layer1,number_of_labels],minval = -0.1, maxval=0.1,dtype=tf.dtypes.float32))\n",
    "b2 = tf.Variable(np.zeros(number_of_labels, dtype=np.float32))\n",
    "\n",
    "print('Shape of weight matrix of hidden layer \"w1\": ' + str(w1.shape))\n",
    "print('Shape of bias matrix of hidden layer \"b1\"  : ' + str(b1.shape))\n",
    "\n",
    "print('Shape of weight matrix of output layer \"w2\": ' + str(w2.shape))\n",
    "print('Shape of bias matrix of output layer \"b2\"  : ' + str(b2.shape))\n",
    "print('- '*40)\n",
    "\n",
    "for step in range(num_of_steps):\n",
    "  image_batch,label_batch = data.next_batch()\n",
    "  #This will update the batch size after every steps\n",
    "  with tf.GradientTape() as tape:#for monitoring every change to tensors\n",
    "    #logits1 = tf.matmul(image_batch,w1)+b1# image_batch.shape = (128 x 784), w1.shape= (784x128), \n",
    "    # image_batch x w1 = logits1, logits1 = (128x128)\n",
    "    hidden1 = tf.nn.relu(tf.matmul(image_batch,w1)+b1)\n",
    "    logits = tf.matmul(hidden1,w2)+b2\n",
    "    loss = tf.reduce_mean(tf.nn.sparse_softmax_cross_entropy_with_logits(logits=logits, labels=label_batch))\n",
    "  grads = tape.gradient(loss, [w2,b2,w1,b1])\n",
    "  w2.assign_sub(learning_rate1*grads[0])#updating weights\n",
    "  b2.assign_sub(learning_rate1*grads[1])#updating \n",
    "  w1.assign_sub(learning_rate1*grads[2])\n",
    "  b1.assign_sub(learning_rate1*grads[3])\n",
    "\n",
    "  if not step%100:# updating after 100 steps only\n",
    "    preds = tf.argmax(logits,axis = 1, output_type = tf.int32)#selecting max value's index\n",
    "    acc   = (tf.reduce_mean(tf.cast(tf.equal(preds, label_batch),tf.float32)))*100# comparing predicted value and actual value\n",
    "    #returning a binary output. Further checking number of correct classification and calculating accuracy.\n",
    "    print(\"Loss: {}, Accuracy on Training Data: {}\".format(loss,acc))\n",
    "\n",
    "print('- '*40)\n",
    "\n",
    "test_prediction1 = tf.nn.relu(tf.matmul(data.test_data,w1)+b1)\n",
    "test_predictions = tf.argmax(tf.matmul(test_prediction1,w2)+b2, axis = 1, output_type= tf.int32)\n",
    "acc = (tf.reduce_mean(tf.cast(tf.equal(test_predictions, data.test_labels),tf.float32)))*100\n",
    "print('Accuracy on Testing Data: {}'.format(acc))"
   ],
   "execution_count": 322,
   "outputs": [
    {
     "output_type": "stream",
     "text": [
      "Shape of weight matrix of hidden layer \"w1\": (784, 128)\n",
      "Shape of bias matrix of hidden layer \"b1\"  : (128,)\n",
      "Shape of weight matrix of output layer \"w2\": (128, 10)\n",
      "Shape of bias matrix of output layer \"b2\"  : (10,)\n",
      "- - - - - - - - - - - - - - - - - - - - - - - - - - - - - - - - - - - - - - - - \n",
      "Loss: 2.309208393096924, Accuracy on Training Data: 6.25\n",
      "Loss: 0.708155632019043, Accuracy on Training Data: 78.125\n",
      "Loss: 0.40107816457748413, Accuracy on Training Data: 89.84375\n",
      "Loss: 0.36651185154914856, Accuracy on Training Data: 88.28125\n",
      "Loss: 0.3408695459365845, Accuracy on Training Data: 91.40625\n",
      "Starting new epoch...\n",
      "Loss: 0.4237671196460724, Accuracy on Training Data: 88.28125\n",
      "Loss: 0.2294282466173172, Accuracy on Training Data: 92.96875\n",
      "Loss: 0.2883819043636322, Accuracy on Training Data: 90.625\n",
      "Loss: 0.21853917837142944, Accuracy on Training Data: 92.1875\n",
      "Loss: 0.17316365242004395, Accuracy on Training Data: 96.875\n",
      "Starting new epoch...\n",
      "Loss: 0.2613750398159027, Accuracy on Training Data: 92.96875\n",
      "Loss: 0.2422710657119751, Accuracy on Training Data: 91.40625\n",
      "Loss: 0.25850996375083923, Accuracy on Training Data: 90.625\n",
      "Loss: 0.24507826566696167, Accuracy on Training Data: 92.96875\n",
      "Starting new epoch...\n",
      "Loss: 0.12909334897994995, Accuracy on Training Data: 95.3125\n",
      "Loss: 0.26002925634384155, Accuracy on Training Data: 88.28125\n",
      "Loss: 0.13690505921840668, Accuracy on Training Data: 98.4375\n",
      "Loss: 0.19129392504692078, Accuracy on Training Data: 92.1875\n",
      "Loss: 0.1600741744041443, Accuracy on Training Data: 94.53125\n",
      "Starting new epoch...\n",
      "Loss: 0.15846344828605652, Accuracy on Training Data: 95.3125\n",
      "- - - - - - - - - - - - - - - - - - - - - - - - - - - - - - - - - - - - - - - - \n",
      "Accuracy on Testing Data: 94.91000366210938\n"
     ],
     "name": "stdout"
    }
   ]
  },
  {
   "cell_type": "markdown",
   "metadata": {
    "id": "QlDSprgs3lU6",
    "colab_type": "text"
   },
   "source": [
    "Model 6:- Changing both Bias and Weights Initialization\n",
    "________________________________________________________________________________\n",
    "* No. of Hidden Layers      = 1\n",
    "* Number of Units in Layer1 = 128\n",
    "* Learinng Rate             = 0.1\n",
    "* Initialization of Bias    = 0(changed)\n",
    "* Initialization of weights = 0(changed)\n",
    "* Hidden Layer Act. Func.   = relu\n",
    "* Output Layer Act. Func.   = softmax with cross entropy loss function\n",
    "* Input Batch Size          = 128\n",
    "* Number of Steps           = 2000\n",
    "* Standrdization of Input   = True(data/255)"
   ]
  },
  {
   "cell_type": "code",
   "metadata": {
    "id": "36gz_njS2pqw",
    "colab_type": "code",
    "outputId": "aec64c2a-665d-487e-ca6e-ab8b03cacb99",
    "colab": {
     "base_uri": "https://localhost:8080/",
     "height": 590
    }
   },
   "source": [
    "num_of_steps = 2000\n",
    "learning_rate1 = 0.1\n",
    "number_of_units_in_layer1 = 128\n",
    "\n",
    "w1 = tf.Variable(np.zeros([number_of_dimensions,number_of_units_in_layer1],dtype=np.float32))\n",
    "b1 = tf.Variable(np.zeros(number_of_units_in_layer1, dtype=np.float32))\n",
    "\n",
    "w2 = tf.Variable(np.zeros([number_of_units_in_layer1,number_of_labels],dtype=np.float32))\n",
    "b2 = tf.Variable(np.zeros(number_of_labels, dtype=np.float32))\n",
    "\n",
    "print('Shape of weight matrix of hidden layer \"w1\": ' + str(w1.shape))\n",
    "print('Shape of bias matrix of hidden layer \"b1\"  : ' + str(b1.shape))\n",
    "\n",
    "print('Shape of weight matrix of output layer \"w2\": ' + str(w2.shape))\n",
    "print('Shape of bias matrix of output layer \"b2\"  : ' + str(b2.shape))\n",
    "print('- '*40)\n",
    "\n",
    "for step in range(num_of_steps):\n",
    "  image_batch,label_batch = data.next_batch()\n",
    "  #This will update the batch size after every steps\n",
    "  with tf.GradientTape() as tape:#for monitoring every change to tensors\n",
    "    #logits1 = tf.matmul(image_batch,w1)+b1# image_batch.shape = (128 x 784), w1.shape= (784x128), \n",
    "    # image_batch x w1 = logits1, logits1 = (128x128)\n",
    "    hidden1 = tf.nn.relu(tf.matmul(image_batch,w1)+b1)\n",
    "    logits = tf.matmul(hidden1,w2)+b2\n",
    "    loss = tf.reduce_mean(tf.nn.sparse_softmax_cross_entropy_with_logits(logits=logits, labels=label_batch))\n",
    "  grads = tape.gradient(loss, [w2,b2,w1,b1])\n",
    "  w2.assign_sub(learning_rate1*grads[0])#updating weights\n",
    "  b2.assign_sub(learning_rate1*grads[1])#updating \n",
    "  w1.assign_sub(learning_rate1*grads[2])\n",
    "  b1.assign_sub(learning_rate1*grads[3])\n",
    "\n",
    "  if not step%100:# updating after 100 steps only\n",
    "    preds = tf.argmax(logits,axis = 1, output_type = tf.int32)#selecting max value's index\n",
    "    acc   = (tf.reduce_mean(tf.cast(tf.equal(preds, label_batch),tf.float32)))*100# comparing predicted value and actual value\n",
    "    #returning a binary output. Further checking number of correct classification and calculating accuracy.\n",
    "    print(\"Loss: {}, Accuracy on Training Data: {}\".format(loss,acc))\n",
    "\n",
    "print('- '*40)\n",
    "\n",
    "test_prediction1 = tf.nn.relu(tf.matmul(data.test_data,w1)+b1)\n",
    "test_predictions = tf.argmax(tf.matmul(test_prediction1,w2)+b2, axis = 1, output_type= tf.int32)\n",
    "acc = (tf.reduce_mean(tf.cast(tf.equal(test_predictions, data.test_labels),tf.float32)))*100\n",
    "print('Accuracy on Testing Data: {}'.format(acc))"
   ],
   "execution_count": 326,
   "outputs": [
    {
     "output_type": "stream",
     "text": [
      "Shape of weight matrix of hidden layer \"w1\": (784, 128)\n",
      "Shape of bias matrix of hidden layer \"b1\"  : (128,)\n",
      "Shape of weight matrix of output layer \"w2\": (128, 10)\n",
      "Shape of bias matrix of output layer \"b2\"  : (10,)\n",
      "- - - - - - - - - - - - - - - - - - - - - - - - - - - - - - - - - - - - - - - - \n",
      "Loss: 2.3025851249694824, Accuracy on Training Data: 10.15625\n",
      "Loss: 2.298942804336548, Accuracy on Training Data: 14.0625\n",
      "Loss: 2.2992215156555176, Accuracy on Training Data: 13.28125\n",
      "Loss: 2.303739547729492, Accuracy on Training Data: 9.375\n",
      "Loss: 2.305567741394043, Accuracy on Training Data: 7.8125\n",
      "Starting new epoch...\n",
      "Loss: 2.299915075302124, Accuracy on Training Data: 12.5\n",
      "Loss: 2.2965805530548096, Accuracy on Training Data: 14.84375\n",
      "Loss: 2.299590587615967, Accuracy on Training Data: 10.15625\n",
      "Loss: 2.309206962585449, Accuracy on Training Data: 9.375\n",
      "Loss: 2.300436496734619, Accuracy on Training Data: 11.71875\n",
      "Starting new epoch...\n",
      "Loss: 2.30646014213562, Accuracy on Training Data: 9.375\n",
      "Loss: 2.3004090785980225, Accuracy on Training Data: 13.28125\n",
      "Loss: 2.303459644317627, Accuracy on Training Data: 9.375\n",
      "Loss: 2.2962746620178223, Accuracy on Training Data: 11.71875\n",
      "Starting new epoch...\n",
      "Loss: 2.295567035675049, Accuracy on Training Data: 11.71875\n",
      "Loss: 2.305448055267334, Accuracy on Training Data: 8.59375\n",
      "Loss: 2.302504539489746, Accuracy on Training Data: 10.9375\n",
      "Loss: 2.2975754737854004, Accuracy on Training Data: 10.9375\n",
      "Loss: 2.303408622741699, Accuracy on Training Data: 8.59375\n",
      "Starting new epoch...\n",
      "Loss: 2.296800136566162, Accuracy on Training Data: 11.71875\n",
      "- - - - - - - - - - - - - - - - - - - - - - - - - - - - - - - - - - - - - - - - \n",
      "Accuracy on Testing Data: 11.350000381469727\n"
     ],
     "name": "stdout"
    }
   ]
  },
  {
   "cell_type": "markdown",
   "metadata": {
    "id": "P4wcYmOB4tci",
    "colab_type": "text"
   },
   "source": [
    "Model 7:- Adding one more Layer(2 Hidden Layers)\n",
    "________________________________________________________________________________\n",
    "* No. of Hidden Layers      = 2(changed)\n",
    "* Number of Units in Layer1 = 512(changed)\n",
    "* Number of Units in Layer2 = 256(changed)\n",
    "* Learinng Rate             = 0.1\n",
    "* Initialization of Bias    = between -0.1 to 0.1\n",
    "* Initialization of weights = between -0.1 to 0.1\n",
    "* Hidden Layer Act. Func.   = relu\n",
    "* Output Layer Act. Func.   = softmax with cross entropy loss function\n",
    "* Input Batch Size          = 128\n",
    "* Number of Steps           = 2000\n",
    "* Standrdization of Input   = True(data/255)"
   ]
  },
  {
   "cell_type": "code",
   "metadata": {
    "id": "4uSTdMUH4VX7",
    "colab_type": "code",
    "outputId": "ada93093-afb6-4e00-9042-df7ac558cb25",
    "colab": {
     "base_uri": "https://localhost:8080/",
     "height": 627
    }
   },
   "source": [
    "num_of_steps = 2000\n",
    "learning_rate1 = 0.1\n",
    "number_of_units_in_layer1 = 512\n",
    "number_of_units_in_layer2 = 256\n",
    "\n",
    "w1 = tf.Variable(tf.random.uniform([number_of_dimensions,number_of_units_in_layer1],minval = -0.1, maxval=0.1,dtype=tf.dtypes.float32))#w1 matrix = (784 x 256)\n",
    "b1 = tf.Variable(tf.random.uniform([number_of_units_in_layer1],minval = -0.1, maxval=0.1,dtype=tf.dtypes.float32))# b1 array = (256,)\n",
    "\n",
    "w2 = tf.Variable(tf.random.uniform([number_of_units_in_layer1,number_of_units_in_layer2],minval = -0.1, maxval=0.1,dtype=tf.dtypes.float32))#w2 matrix = (256 x 128)\n",
    "b2 = tf.Variable(tf.random.uniform([number_of_units_in_layer2],minval = -0.1, maxval=0.1,dtype=tf.dtypes.float32))# b2 array = (128,)\n",
    "\n",
    "w3 = tf.Variable(tf.random.uniform([number_of_units_in_layer2,number_of_labels],minval = -0.1, maxval=0.1,dtype=tf.dtypes.float32))# w3 matrix = (128 x 10)\n",
    "b3 = tf.Variable(tf.random.uniform([number_of_labels],minval = -0.1, maxval=0.1,dtype=tf.dtypes.float32))# b3 array = (10,)\n",
    "\n",
    "print('Shape of weight matrix of hidden layer \"w1\": ' + str(w1.shape))\n",
    "print('Shape of bias matrix of hidden layer \"b1\"  : ' + str(b1.shape))\n",
    "\n",
    "print('Shape of weight matrix of output layer \"w2\": ' + str(w2.shape))\n",
    "print('Shape of bias matrix of output layer \"b2\"  : ' + str(b2.shape))\n",
    "\n",
    "print('Shape of weight matrix of output layer \"w3\": ' + str(w3.shape))\n",
    "print('Shape of bias matrix of output layer \"b3\"  : ' + str(b3.shape))\n",
    "print('- '*40)\n",
    "\n",
    "for step in range(num_of_steps):\n",
    "  image_batch,label_batch = data.next_batch()\n",
    "  #This will update the batch size after every steps\n",
    "  with tf.GradientTape() as tape:#for monitoring every change to tensors\n",
    "    #logits1 = tf.matmul(image_batch,w1)+b1# image_batch.shape = (128 x 784), w1.shape= (784x128), \n",
    "    # image_batch x w1 = logits1, logits1 = (128x128)\n",
    "    hidden1 = tf.nn.relu(tf.matmul(image_batch,w1)+b1)\n",
    "    hidden2 = tf.nn.relu(tf.matmul(hidden1,w2)+b2)\n",
    "    logits = tf.matmul(hidden2,w3)+b3\n",
    "    loss = tf.reduce_mean(tf.nn.sparse_softmax_cross_entropy_with_logits(logits=logits, labels=label_batch))\n",
    "\n",
    "  grads = tape.gradient(loss, [w3,b3,w2,b2,w1,b1])\n",
    "  w3.assign_sub(learning_rate1*grads[0])\n",
    "  b3.assign_sub(learning_rate1*grads[1])\n",
    "  w2.assign_sub(learning_rate1*grads[2])\n",
    "  b2.assign_sub(learning_rate1*grads[3])\n",
    "  w1.assign_sub(learning_rate1*grads[4])\n",
    "  b1.assign_sub(learning_rate1*grads[5])\n",
    "\n",
    "  if not step%100:# updating after 100 steps only\n",
    "    preds = tf.argmax(logits,axis = 1, output_type = tf.int32)#selecting max value's index\n",
    "    acc   = (tf.reduce_mean(tf.cast(tf.equal(preds, label_batch),tf.float32)))*100# comparing predicted value and actual value\n",
    "    #returning a binary output. Further checking number of correct classification and calculating accuracy.\n",
    "    print(\"Loss: {}, Accuracy on Training Data: {}\".format(loss,acc))\n",
    "\n",
    "print('- '*40)\n",
    "\n",
    "test_prediction1 = tf.nn.relu(tf.matmul(data.test_data,w1)+b1)\n",
    "test_prediction2 = tf.nn.relu(tf.matmul(test_prediction1,w2)+b2)\n",
    "test_predictions = tf.argmax(tf.matmul(test_prediction2,w3)+b3, axis = 1, output_type= tf.int32)\n",
    "acc = (tf.reduce_mean(tf.cast(tf.equal(test_predictions, data.test_labels),tf.float32)))*100\n",
    "print('Accuracy on Testing Data: {}'.format(acc))"
   ],
   "execution_count": 327,
   "outputs": [
    {
     "output_type": "stream",
     "text": [
      "Shape of weight matrix of hidden layer \"w1\": (784, 512)\n",
      "Shape of bias matrix of hidden layer \"b1\"  : (512,)\n",
      "Shape of weight matrix of output layer \"w2\": (512, 256)\n",
      "Shape of bias matrix of output layer \"b2\"  : (256,)\n",
      "Shape of weight matrix of output layer \"w3\": (256, 10)\n",
      "Shape of bias matrix of output layer \"b3\"  : (10,)\n",
      "- - - - - - - - - - - - - - - - - - - - - - - - - - - - - - - - - - - - - - - - \n",
      "Loss: 2.3419597148895264, Accuracy on Training Data: 10.9375\n",
      "Loss: 0.5216265916824341, Accuracy on Training Data: 85.15625\n",
      "Loss: 0.34011155366897583, Accuracy on Training Data: 89.84375\n",
      "Loss: 0.060277312994003296, Accuracy on Training Data: 98.4375\n",
      "Starting new epoch...\n",
      "Loss: 0.40545785427093506, Accuracy on Training Data: 89.84375\n",
      "Loss: 0.26789072155952454, Accuracy on Training Data: 90.625\n",
      "Loss: 0.39508867263793945, Accuracy on Training Data: 89.0625\n",
      "Loss: 0.1701984703540802, Accuracy on Training Data: 93.75\n",
      "Starting new epoch...\n",
      "Loss: 0.09673777222633362, Accuracy on Training Data: 98.4375\n",
      "Loss: 0.14088618755340576, Accuracy on Training Data: 96.09375\n",
      "Loss: 0.1461535096168518, Accuracy on Training Data: 96.09375\n",
      "Loss: 0.24547763168811798, Accuracy on Training Data: 92.96875\n",
      "Loss: 0.092037133872509, Accuracy on Training Data: 98.4375\n",
      "Starting new epoch...\n",
      "Loss: 0.24083611369132996, Accuracy on Training Data: 95.3125\n",
      "Loss: 0.07352291792631149, Accuracy on Training Data: 96.875\n",
      "Loss: 0.1259073168039322, Accuracy on Training Data: 95.3125\n",
      "Loss: 0.10202790796756744, Accuracy on Training Data: 96.09375\n",
      "Loss: 0.08824735879898071, Accuracy on Training Data: 95.3125\n",
      "Starting new epoch...\n",
      "Loss: 0.09492562711238861, Accuracy on Training Data: 97.65625\n",
      "Loss: 0.1107793003320694, Accuracy on Training Data: 97.65625\n",
      "- - - - - - - - - - - - - - - - - - - - - - - - - - - - - - - - - - - - - - - - \n",
      "Accuracy on Testing Data: 96.61000061035156\n"
     ],
     "name": "stdout"
    }
   ]
  },
  {
   "cell_type": "markdown",
   "metadata": {
    "id": "Z9UTpsEsbor7",
    "colab_type": "text"
   },
   "source": [
    "Model 8:- Changing hidden Layer Activation Function to Softmax\n",
    "________________________________________________________________________________\n",
    "* No. of Hidden Layers      = 1\n",
    "* Number of Units in Layers = 128\n",
    "* Learinng Rate             = 0.1\n",
    "* Initialization of Bias    = between -0.1 to 0.1\n",
    "* Initialization of weights = between -0.1 to 0.1\n",
    "* Hidden Layer Act. Func.   = softmax(changed)\n",
    "* Output Layer Act. Func.   = softmax with cross entropy loss function\n",
    "* Input Batch Size          = 128\n",
    "* Number of Steps           = 2000\n",
    "* Standrdization of Input   = True(data/255)"
   ]
  },
  {
   "cell_type": "code",
   "metadata": {
    "id": "MeNmDITZb5hJ",
    "colab_type": "code",
    "outputId": "98019fde-0774-4ca0-b3f1-10535079d179",
    "colab": {
     "base_uri": "https://localhost:8080/",
     "height": 608
    }
   },
   "source": [
    "num_of_steps = 2000\n",
    "learning_rate1 = 0.1\n",
    "number_of_units_in_layer1 = 128\n",
    "\n",
    "w1 = tf.Variable(tf.random.uniform([number_of_dimensions,number_of_units_in_layer1],minval = -0.1, maxval=0.1,dtype=tf.dtypes.float32))\n",
    "b1 = tf.Variable(tf.random.uniform([number_of_units_in_layer1],minval = -0.1, maxval=0.1,dtype=tf.dtypes.float32))\n",
    "\n",
    "w2 = tf.Variable(tf.random.uniform([number_of_units_in_layer1,number_of_labels],minval = -0.1, maxval=0.1,dtype=tf.dtypes.float32))\n",
    "b2 = tf.Variable(tf.random.uniform([number_of_labels],minval = -0.1, maxval=0.1,dtype=tf.dtypes.float32))\n",
    "\n",
    "print('Shape of weight matrix of hidden layer \"w1\": ' + str(w1.shape))\n",
    "print('Shape of bias matrix of hidden layer \"b1\"  : ' + str(b1.shape))\n",
    "\n",
    "print('Shape of weight matrix of output layer \"w2\": ' + str(w2.shape))\n",
    "print('Shape of bias matrix of output layer \"b2\"  : ' + str(b2.shape))\n",
    "print('- '*40)\n",
    "\n",
    "for step in range(num_of_steps):\n",
    "  image_batch,label_batch = data.next_batch()\n",
    "  #This will update the batch size after every steps\n",
    "  with tf.GradientTape() as tape:#for monitoring every change to tensors\n",
    "    #logits1 = tf.matmul(image_batch,w1)+b1# image_batch.shape = (128 x 784), w1.shape= (784x128), \n",
    "    # image_batch x w1 = logits1, logits1 = (128x128)\n",
    "    hidden1 = tf.nn.softmax(tf.matmul(image_batch,w1)+b1)\n",
    "    logits = tf.matmul(hidden1,w2)+b2\n",
    "    loss = tf.reduce_mean(tf.nn.sparse_softmax_cross_entropy_with_logits(logits=logits, labels=label_batch))\n",
    "  grads = tape.gradient(loss, [w2,b2,w1,b1])\n",
    "  w2.assign_sub(learning_rate1*grads[0])#updating weights\n",
    "  b2.assign_sub(learning_rate1*grads[1])#updating \n",
    "  w1.assign_sub(learning_rate1*grads[2])\n",
    "  b1.assign_sub(learning_rate1*grads[3])\n",
    "\n",
    "  if not step%100:# updating after 100 steps only\n",
    "    preds = tf.argmax(logits,axis = 1, output_type = tf.int32)#selecting max value's index\n",
    "    acc   = (tf.reduce_mean(tf.cast(tf.equal(preds, label_batch),tf.float32)))*100# comparing predicted value and actual value\n",
    "    #returning a binary output. Further checking number of correct classification and calculating accuracy.\n",
    "    print(\"Loss: {}, Accuracy on Training Data: {}\".format(loss,acc))\n",
    "\n",
    "print('- '*40)\n",
    "\n",
    "test_prediction1 = tf.nn.relu(tf.matmul(data.test_data,w1)+b1)\n",
    "test_predictions = tf.argmax(tf.matmul(test_prediction1,w2)+b2, axis = 1, output_type= tf.int32)\n",
    "acc = (tf.reduce_mean(tf.cast(tf.equal(test_predictions, data.test_labels),tf.float32)))*100\n",
    "print('Accuracy on Testing Data: {}'.format(acc))"
   ],
   "execution_count": 329,
   "outputs": [
    {
     "output_type": "stream",
     "text": [
      "Shape of weight matrix of hidden layer \"w1\": (784, 128)\n",
      "Shape of bias matrix of hidden layer \"b1\"  : (128,)\n",
      "Shape of weight matrix of output layer \"w2\": (128, 10)\n",
      "Shape of bias matrix of output layer \"b2\"  : (10,)\n",
      "- - - - - - - - - - - - - - - - - - - - - - - - - - - - - - - - - - - - - - - - \n",
      "Loss: 2.3068089485168457, Accuracy on Training Data: 10.15625\n",
      "Starting new epoch...\n",
      "Loss: 2.2991223335266113, Accuracy on Training Data: 11.71875\n",
      "Loss: 2.294884204864502, Accuracy on Training Data: 14.0625\n",
      "Loss: 2.29677152633667, Accuracy on Training Data: 10.15625\n",
      "Loss: 2.3011088371276855, Accuracy on Training Data: 9.375\n",
      "Loss: 2.302393674850464, Accuracy on Training Data: 9.375\n",
      "Starting new epoch...\n",
      "Loss: 2.2898030281066895, Accuracy on Training Data: 13.28125\n",
      "Loss: 2.2855870723724365, Accuracy on Training Data: 14.84375\n",
      "Loss: 2.2367537021636963, Accuracy on Training Data: 21.875\n",
      "Loss: 2.1544852256774902, Accuracy on Training Data: 27.34375\n",
      "Starting new epoch...\n",
      "Loss: 2.152606248855591, Accuracy on Training Data: 21.09375\n",
      "Loss: 2.08393931388855, Accuracy on Training Data: 17.1875\n",
      "Loss: 1.9935075044631958, Accuracy on Training Data: 32.8125\n",
      "Loss: 1.9868606328964233, Accuracy on Training Data: 26.5625\n",
      "Loss: 1.8527843952178955, Accuracy on Training Data: 35.9375\n",
      "Starting new epoch...\n",
      "Loss: 1.7656991481781006, Accuracy on Training Data: 35.15625\n",
      "Loss: 1.7985477447509766, Accuracy on Training Data: 28.90625\n",
      "Loss: 1.6980825662612915, Accuracy on Training Data: 26.5625\n",
      "Loss: 1.685197353363037, Accuracy on Training Data: 35.15625\n",
      "Loss: 1.556650161743164, Accuracy on Training Data: 42.1875\n",
      "Starting new epoch...\n",
      "- - - - - - - - - - - - - - - - - - - - - - - - - - - - - - - - - - - - - - - - \n",
      "Accuracy on Testing Data: 29.969999313354492\n"
     ],
     "name": "stdout"
    }
   ]
  },
  {
   "cell_type": "markdown",
   "metadata": {
    "id": "zcMFk85LcVQV",
    "colab_type": "text"
   },
   "source": [
    "Model 9:- Changing Activation function of Hidden Layer to Sigmoid\n",
    "________________________________________________________________________________\n",
    "* No. of Hidden Layers      = 1\n",
    "* Number of Units in Layers = 128\n",
    "* Learinng Rate             = 0.1\n",
    "* Initialization of Bias    = between -0.1 to 0.1\n",
    "* Initialization of weights = between -0.1 to 0.1\n",
    "* Hidden Layer Act. Func.   = sigmoid(changed)\n",
    "* Output Layer Act. Func.   = softmax with cross entropy loss function\n",
    "* Input Batch Size          = 128\n",
    "* Number of Steps           = 2000\n",
    "* Standrdization of Input   = True(data/255)"
   ]
  },
  {
   "cell_type": "code",
   "metadata": {
    "id": "7pASK--Lcau9",
    "colab_type": "code",
    "outputId": "7fc1103b-0f55-439b-89e7-b6a20e9b2a89",
    "colab": {
     "base_uri": "https://localhost:8080/",
     "height": 590
    }
   },
   "source": [
    "num_of_steps = 2000\n",
    "learning_rate1 = 0.1\n",
    "number_of_units_in_layer1 = 128\n",
    "\n",
    "w1 = tf.Variable(tf.random.uniform([number_of_dimensions,number_of_units_in_layer1],minval = -0.1, maxval=0.1,dtype=tf.dtypes.float32))\n",
    "b1 = tf.Variable(tf.random.uniform([number_of_units_in_layer1],minval = -0.1, maxval=0.1,dtype=tf.dtypes.float32))\n",
    "\n",
    "w2 = tf.Variable(tf.random.uniform([number_of_units_in_layer1,number_of_labels],minval = -0.1, maxval=0.1,dtype=tf.dtypes.float32))\n",
    "b2 = tf.Variable(tf.random.uniform([number_of_labels],minval = -0.1, maxval=0.1,dtype=tf.dtypes.float32))\n",
    "\n",
    "print('Shape of weight matrix of hidden layer \"w1\": ' + str(w1.shape))\n",
    "print('Shape of bias matrix of hidden layer \"b1\"  : ' + str(b1.shape))\n",
    "\n",
    "print('Shape of weight matrix of output layer \"w2\": ' + str(w2.shape))\n",
    "print('Shape of bias matrix of output layer \"b2\"  : ' + str(b2.shape))\n",
    "print('- '*40)\n",
    "\n",
    "for step in range(num_of_steps):\n",
    "  image_batch,label_batch = data.next_batch()\n",
    "  #This will update the batch size after every steps\n",
    "  with tf.GradientTape() as tape:#for monitoring every change to tensors\n",
    "    #logits1 = tf.matmul(image_batch,w1)+b1# image_batch.shape = (128 x 784), w1.shape= (784x128), \n",
    "    # image_batch x w1 = logits1, logits1 = (128x128)\n",
    "    hidden1 = tf.nn.sigmoid(tf.matmul(image_batch,w1)+b1)\n",
    "    logits = tf.matmul(hidden1,w2)+b2\n",
    "    loss = tf.reduce_mean(tf.nn.sparse_softmax_cross_entropy_with_logits(logits=logits, labels=label_batch))\n",
    "  grads = tape.gradient(loss, [w2,b2,w1,b1])\n",
    "  w2.assign_sub(learning_rate1*grads[0])#updating weights\n",
    "  b2.assign_sub(learning_rate1*grads[1])#updating \n",
    "  w1.assign_sub(learning_rate1*grads[2])\n",
    "  b1.assign_sub(learning_rate1*grads[3])\n",
    "\n",
    "  if not step%100:# updating after 100 steps only\n",
    "    preds = tf.argmax(logits,axis = 1, output_type = tf.int32)#selecting max value's index\n",
    "    acc   = (tf.reduce_mean(tf.cast(tf.equal(preds, label_batch),tf.float32)))*100# comparing predicted value and actual value\n",
    "    #returning a binary output. Further checking number of correct classification and calculating accuracy.\n",
    "    print(\"Loss: {}, Accuracy on Training Data: {}\".format(loss,acc))\n",
    "\n",
    "print('- '*40)\n",
    "\n",
    "test_prediction1 = tf.nn.relu(tf.matmul(data.test_data,w1)+b1)\n",
    "test_predictions = tf.argmax(tf.matmul(test_prediction1,w2)+b2, axis = 1, output_type= tf.int32)\n",
    "acc = (tf.reduce_mean(tf.cast(tf.equal(test_predictions, data.test_labels),tf.float32)))*100\n",
    "print('Accuracy on Testing Data: {}'.format(acc))"
   ],
   "execution_count": 330,
   "outputs": [
    {
     "output_type": "stream",
     "text": [
      "Shape of weight matrix of hidden layer \"w1\": (784, 128)\n",
      "Shape of bias matrix of hidden layer \"b1\"  : (128,)\n",
      "Shape of weight matrix of output layer \"w2\": (128, 10)\n",
      "Shape of bias matrix of output layer \"b2\"  : (10,)\n",
      "- - - - - - - - - - - - - - - - - - - - - - - - - - - - - - - - - - - - - - - - \n",
      "Loss: 2.3073863983154297, Accuracy on Training Data: 14.0625\n",
      "Loss: 1.717108130455017, Accuracy on Training Data: 65.625\n",
      "Loss: 1.0546422004699707, Accuracy on Training Data: 80.46875\n",
      "Loss: 0.7100820541381836, Accuracy on Training Data: 85.9375\n",
      "Loss: 0.7070584297180176, Accuracy on Training Data: 83.59375\n",
      "Starting new epoch...\n",
      "Loss: 0.5071094036102295, Accuracy on Training Data: 90.625\n",
      "Loss: 0.5381547808647156, Accuracy on Training Data: 85.9375\n",
      "Loss: 0.48638176918029785, Accuracy on Training Data: 87.5\n",
      "Loss: 0.42770659923553467, Accuracy on Training Data: 89.84375\n",
      "Starting new epoch...\n",
      "Loss: 0.37607866525650024, Accuracy on Training Data: 89.0625\n",
      "Loss: 0.4929811358451843, Accuracy on Training Data: 87.5\n",
      "Loss: 0.26585882902145386, Accuracy on Training Data: 94.53125\n",
      "Loss: 0.3247445523738861, Accuracy on Training Data: 89.84375\n",
      "Loss: 0.29467469453811646, Accuracy on Training Data: 88.28125\n",
      "Starting new epoch...\n",
      "Loss: 0.4833267629146576, Accuracy on Training Data: 82.8125\n",
      "Loss: 0.4346802532672882, Accuracy on Training Data: 87.5\n",
      "Loss: 0.4146539568901062, Accuracy on Training Data: 90.625\n",
      "Loss: 0.35812175273895264, Accuracy on Training Data: 87.5\n",
      "Loss: 0.2407134771347046, Accuracy on Training Data: 92.96875\n",
      "Starting new epoch...\n",
      "Loss: 0.332841694355011, Accuracy on Training Data: 89.84375\n",
      "- - - - - - - - - - - - - - - - - - - - - - - - - - - - - - - - - - - - - - - - \n",
      "Accuracy on Testing Data: 87.30999755859375\n"
     ],
     "name": "stdout"
    }
   ]
  },
  {
   "cell_type": "markdown",
   "metadata": {
    "id": "7Q1UhWfjc2LR",
    "colab_type": "text"
   },
   "source": [
    "Model 10:- Changing Activation function of Hidden Layer to tanh\n",
    "________________________________________________________________________________\n",
    "* No. of Hidden Layers      = 1\n",
    "* Number of Units in Layers = 128\n",
    "* Learinng Rate             = 0.1\n",
    "* Initialization of Bias    = between -0.1 to 0.1\n",
    "* Initialization of weights = between -0.1 to 0.1\n",
    "* Hidden Layer Act. Func.   = tanh(changed)\n",
    "* Output Layer Act. Func.   = softmax with cross entropy loss function\n",
    "* Input Batch Size          = 128\n",
    "* Number of Steps           = 2000\n",
    "* Standrdization of Input   = True(data/255)"
   ]
  },
  {
   "cell_type": "code",
   "metadata": {
    "id": "fGSFohkych5C",
    "colab_type": "code",
    "outputId": "52dc15bc-2779-4a3d-f5f0-5c4f5c05f9a1",
    "colab": {
     "base_uri": "https://localhost:8080/",
     "height": 590
    }
   },
   "source": [
    "num_of_steps = 2000\n",
    "learning_rate1 = 0.1\n",
    "number_of_units_in_layer1 = 128\n",
    "\n",
    "w1 = tf.Variable(tf.random.uniform([number_of_dimensions,number_of_units_in_layer1],minval = -0.1, maxval=0.1,dtype=tf.dtypes.float32))\n",
    "b1 = tf.Variable(tf.random.uniform([number_of_units_in_layer1],minval = -0.1, maxval=0.1,dtype=tf.dtypes.float32))\n",
    "\n",
    "w2 = tf.Variable(tf.random.uniform([number_of_units_in_layer1,number_of_labels],minval = -0.1, maxval=0.1,dtype=tf.dtypes.float32))\n",
    "b2 = tf.Variable(tf.random.uniform([number_of_labels],minval = -0.1, maxval=0.1,dtype=tf.dtypes.float32))\n",
    "\n",
    "print('Shape of weight matrix of hidden layer \"w1\": ' + str(w1.shape))\n",
    "print('Shape of bias matrix of hidden layer \"b1\"  : ' + str(b1.shape))\n",
    "\n",
    "print('Shape of weight matrix of output layer \"w2\": ' + str(w2.shape))\n",
    "print('Shape of bias matrix of output layer \"b2\"  : ' + str(b2.shape))\n",
    "print('- '*40)\n",
    "\n",
    "for step in range(num_of_steps):\n",
    "  image_batch,label_batch = data.next_batch()\n",
    "  #This will update the batch size after every steps\n",
    "  with tf.GradientTape() as tape:#for monitoring every change to tensors\n",
    "    #logits1 = tf.matmul(image_batch,w1)+b1# image_batch.shape = (128 x 784), w1.shape= (784x128), \n",
    "    # image_batch x w1 = logits1, logits1 = (128x128)\n",
    "    hidden1 = tf.nn.tanh(tf.matmul(image_batch,w1)+b1)\n",
    "    logits = tf.matmul(hidden1,w2)+b2\n",
    "    loss = tf.reduce_mean(tf.nn.sparse_softmax_cross_entropy_with_logits(logits=logits, labels=label_batch))\n",
    "  grads = tape.gradient(loss, [w2,b2,w1,b1])\n",
    "  w2.assign_sub(learning_rate1*grads[0])#updating weights\n",
    "  b2.assign_sub(learning_rate1*grads[1])#updating \n",
    "  w1.assign_sub(learning_rate1*grads[2])\n",
    "  b1.assign_sub(learning_rate1*grads[3])\n",
    "\n",
    "  if not step%100:# updating after 100 steps only\n",
    "    preds = tf.argmax(logits,axis = 1, output_type = tf.int32)#selecting max value's index\n",
    "    acc   = (tf.reduce_mean(tf.cast(tf.equal(preds, label_batch),tf.float32)))*100# comparing predicted value and actual value\n",
    "    #returning a binary output. Further checking number of correct classification and calculating accuracy.\n",
    "    print(\"Loss: {}, Accuracy on Training Data: {}\".format(loss,acc))\n",
    "\n",
    "print('- '*40)\n",
    "\n",
    "test_prediction1 = tf.nn.relu(tf.matmul(data.test_data,w1)+b1)\n",
    "test_predictions = tf.argmax(tf.matmul(test_prediction1,w2)+b2, axis = 1, output_type= tf.int32)\n",
    "acc = (tf.reduce_mean(tf.cast(tf.equal(test_predictions, data.test_labels),tf.float32)))*100\n",
    "print('Accuracy on Testing Data: {}'.format(acc))"
   ],
   "execution_count": 335,
   "outputs": [
    {
     "output_type": "stream",
     "text": [
      "Shape of weight matrix of hidden layer \"w1\": (784, 128)\n",
      "Shape of bias matrix of hidden layer \"b1\"  : (128,)\n",
      "Shape of weight matrix of output layer \"w2\": (128, 10)\n",
      "Shape of bias matrix of output layer \"b2\"  : (10,)\n",
      "- - - - - - - - - - - - - - - - - - - - - - - - - - - - - - - - - - - - - - - - \n",
      "Loss: 2.3390355110168457, Accuracy on Training Data: 7.8125\n",
      "Loss: 0.5458412766456604, Accuracy on Training Data: 85.9375\n",
      "Loss: 0.4175414741039276, Accuracy on Training Data: 89.0625\n",
      "Loss: 0.39546820521354675, Accuracy on Training Data: 91.40625\n",
      "Starting new epoch...\n",
      "Loss: 0.38269537687301636, Accuracy on Training Data: 87.5\n",
      "Loss: 0.3144970238208771, Accuracy on Training Data: 91.40625\n",
      "Loss: 0.39050406217575073, Accuracy on Training Data: 90.625\n",
      "Loss: 0.2514244019985199, Accuracy on Training Data: 92.1875\n",
      "Loss: 0.3747287690639496, Accuracy on Training Data: 89.0625\n",
      "Starting new epoch...\n",
      "Loss: 0.16864413022994995, Accuracy on Training Data: 96.09375\n",
      "Loss: 0.317544162273407, Accuracy on Training Data: 91.40625\n",
      "Loss: 0.39297813177108765, Accuracy on Training Data: 87.5\n",
      "Loss: 0.31341055035591125, Accuracy on Training Data: 93.75\n",
      "Loss: 0.16404473781585693, Accuracy on Training Data: 94.53125\n",
      "Starting new epoch...\n",
      "Loss: 0.2397541105747223, Accuracy on Training Data: 95.3125\n",
      "Loss: 0.1936262547969818, Accuracy on Training Data: 93.75\n",
      "Loss: 0.13455191254615784, Accuracy on Training Data: 96.09375\n",
      "Loss: 0.2611527740955353, Accuracy on Training Data: 92.1875\n",
      "Starting new epoch...\n",
      "Loss: 0.1186261773109436, Accuracy on Training Data: 97.65625\n",
      "Loss: 0.2878253757953644, Accuracy on Training Data: 92.96875\n",
      "- - - - - - - - - - - - - - - - - - - - - - - - - - - - - - - - - - - - - - - - \n",
      "Accuracy on Testing Data: 81.88999938964844\n"
     ],
     "name": "stdout"
    }
   ]
  },
  {
   "cell_type": "markdown",
   "metadata": {
    "id": "TBpVJp5oXc30",
    "colab_type": "text"
   },
   "source": [
    "Model 11:- Changing Activation function of Hidden Layer to leakyRelu\n",
    "________________________________________________________________________________\n",
    "* No. of Hidden Layers      = 1\n",
    "* Number of Units in Layers = 128\n",
    "* Learinng Rate             = 0.1\n",
    "* Initialization of Bias    = between -0.1 to 0.1\n",
    "* Initialization of weights = between -0.1 to 0.1\n",
    "* Hidden Layer Act. Func.   = LeakyRelu(changed)\n",
    "* Output Layer Act. Func.   = softmax with cross entropy loss function\n",
    "* Input Batch Size          = 128\n",
    "* Number of Steps           = 2000\n",
    "* Standrdization of Input   = True(data/255)"
   ]
  },
  {
   "cell_type": "code",
   "metadata": {
    "id": "qelGgMKGXmQD",
    "colab_type": "code",
    "colab": {
     "base_uri": "https://localhost:8080/",
     "height": 608
    },
    "outputId": "80f68601-1e64-417c-b58a-89545b7001b8"
   },
   "source": [
    "num_of_steps = 2000\n",
    "learning_rate1 = 0.1\n",
    "number_of_units_in_layer1 = 128\n",
    "\n",
    "w1 = tf.Variable(tf.random.uniform([number_of_dimensions,number_of_units_in_layer1],minval = -0.1, maxval=0.1,dtype=tf.dtypes.float32))\n",
    "b1 = tf.Variable(tf.random.uniform([number_of_units_in_layer1],minval = -0.1, maxval=0.1,dtype=tf.dtypes.float32))\n",
    "\n",
    "w2 = tf.Variable(tf.random.uniform([number_of_units_in_layer1,number_of_labels],minval = -0.1, maxval=0.1,dtype=tf.dtypes.float32))\n",
    "b2 = tf.Variable(tf.random.uniform([number_of_labels],minval = -0.1, maxval=0.1,dtype=tf.dtypes.float32))\n",
    "\n",
    "print('Shape of weight matrix of hidden layer \"w1\": ' + str(w1.shape))\n",
    "print('Shape of bias matrix of hidden layer \"b1\"  : ' + str(b1.shape))\n",
    "\n",
    "print('Shape of weight matrix of output layer \"w2\": ' + str(w2.shape))\n",
    "print('Shape of bias matrix of output layer \"b2\"  : ' + str(b2.shape))\n",
    "print('- '*40)\n",
    "\n",
    "for step in range(num_of_steps):\n",
    "  image_batch,label_batch = data.next_batch()\n",
    "  #This will update the batch size after every steps\n",
    "  with tf.GradientTape() as tape:#for monitoring every change to tensors\n",
    "    #logits1 = tf.matmul(image_batch,w1)+b1# image_batch.shape = (128 x 784), w1.shape= (784x128), \n",
    "    # image_batch x w1 = logits1, logits1 = (128x128)\n",
    "    hidden1 = tf.nn.leaky_relu(tf.matmul(image_batch,w1)+b1)\n",
    "    logits = tf.matmul(hidden1,w2)+b2\n",
    "    loss = tf.reduce_mean(tf.nn.sparse_softmax_cross_entropy_with_logits(logits=logits, labels=label_batch))\n",
    "  grads = tape.gradient(loss, [w2,b2,w1,b1])\n",
    "  w2.assign_sub(learning_rate1*grads[0])#updating weights\n",
    "  b2.assign_sub(learning_rate1*grads[1])#updating \n",
    "  w1.assign_sub(learning_rate1*grads[2])\n",
    "  b1.assign_sub(learning_rate1*grads[3])\n",
    "\n",
    "  if not step%100:# updating after 100 steps only\n",
    "    preds = tf.argmax(logits,axis = 1, output_type = tf.int32)#selecting max value's index\n",
    "    acc   = (tf.reduce_mean(tf.cast(tf.equal(preds, label_batch),tf.float32)))*100# comparing predicted value and actual value\n",
    "    #returning a binary output. Further checking number of correct classification and calculating accuracy.\n",
    "    print(\"Loss: {}, Accuracy on Training Data: {}\".format(loss,acc))\n",
    "\n",
    "print('- '*40)\n",
    "\n",
    "test_prediction1 = tf.nn.relu(tf.matmul(data.test_data,w1)+b1)\n",
    "test_predictions = tf.argmax(tf.matmul(test_prediction1,w2)+b2, axis = 1, output_type= tf.int32)\n",
    "acc = (tf.reduce_mean(tf.cast(tf.equal(test_predictions, data.test_labels),tf.float32)))*100\n",
    "print('Accuracy on Testing Data: {}'.format(acc))"
   ],
   "execution_count": 338,
   "outputs": [
    {
     "output_type": "stream",
     "text": [
      "Shape of weight matrix of hidden layer \"w1\": (784, 128)\n",
      "Shape of bias matrix of hidden layer \"b1\"  : (128,)\n",
      "Shape of weight matrix of output layer \"w2\": (128, 10)\n",
      "Shape of bias matrix of output layer \"b2\"  : (10,)\n",
      "- - - - - - - - - - - - - - - - - - - - - - - - - - - - - - - - - - - - - - - - \n",
      "Loss: 2.2765285968780518, Accuracy on Training Data: 10.15625\n",
      "Starting new epoch...\n",
      "Loss: 0.48814865946769714, Accuracy on Training Data: 92.1875\n",
      "Loss: 0.557763934135437, Accuracy on Training Data: 85.15625\n",
      "Loss: 0.4458296000957489, Accuracy on Training Data: 82.8125\n",
      "Loss: 0.721009373664856, Accuracy on Training Data: 81.25\n",
      "Starting new epoch...\n",
      "Loss: 0.18944166600704193, Accuracy on Training Data: 97.65625\n",
      "Loss: 0.4274584949016571, Accuracy on Training Data: 90.625\n",
      "Loss: 0.2594453990459442, Accuracy on Training Data: 92.1875\n",
      "Loss: 0.38087642192840576, Accuracy on Training Data: 89.0625\n",
      "Loss: 0.23377716541290283, Accuracy on Training Data: 96.09375\n",
      "Starting new epoch...\n",
      "Loss: 0.23306994140148163, Accuracy on Training Data: 93.75\n",
      "Loss: 0.19347918033599854, Accuracy on Training Data: 95.3125\n",
      "Loss: 0.29737070202827454, Accuracy on Training Data: 92.96875\n",
      "Loss: 0.3743845224380493, Accuracy on Training Data: 89.0625\n",
      "Loss: 0.1093851625919342, Accuracy on Training Data: 97.65625\n",
      "Starting new epoch...\n",
      "Loss: 0.1539267897605896, Accuracy on Training Data: 95.3125\n",
      "Loss: 0.26471272110939026, Accuracy on Training Data: 90.625\n",
      "Loss: 0.11027146875858307, Accuracy on Training Data: 98.4375\n",
      "Loss: 0.36089086532592773, Accuracy on Training Data: 85.9375\n",
      "Starting new epoch...\n",
      "Loss: 0.1385607272386551, Accuracy on Training Data: 94.53125\n",
      "- - - - - - - - - - - - - - - - - - - - - - - - - - - - - - - - - - - - - - - - \n",
      "Accuracy on Testing Data: 94.25\n"
     ],
     "name": "stdout"
    }
   ]
  },
  {
   "cell_type": "markdown",
   "metadata": {
    "id": "w34Ng0qaeabT",
    "colab_type": "text"
   },
   "source": [
    "** Comparing Models**"
   ]
  },
  {
   "cell_type": "markdown",
   "metadata": {
    "id": "fQzHy_HYeiSz",
    "colab_type": "text"
   },
   "source": [
    "Comparision1 : Changing Number of Units in Hidden Layer\n",
    "\n",
    "Model | Units | Acc_on_train |Acc on Test         \n",
    "--- | --- | --- | ---\n",
    "1 | 128 | 97.65 | 94.81\n",
    "2 | 512 | 96.09 |95.68\n",
    "3 | 1024 | 98.43 |95.94\n",
    "\n",
    "Most of the time it is seen that increasing the the number of units in hidden layer increases the accuracy. This results in slower learinig. In our case the accuracy dropped in case of model 2's training. This might be the result of shuffling of input data. Although, overall the acuraccy on testing data increased.\n",
    "\n",
    "Comparision2: \n",
    "\n",
    "Model | Learning Rate | Acc_on_train |Acc on Test         \n",
    "--- | --- | --- | ---\n",
    "1 | 0.1 | 97.65 | 94.81\n",
    "4 | 0.05 | 98.43 |95.94\n",
    "\n",
    "Decreasing the learning rate results in slower learning but may give better results. This may be due to the fact that, with higher learning rate, the model might miss the global minima while reducing the loss.\n",
    "\n",
    "Comparision3: Changing the Parameter Initialization:\n",
    "\n",
    "Model | parameter | Acc_on_train |Acc on Test         \n",
    "--- | --- | --- | ---\n",
    "1 | w = b = -0.1 to 0.1 | 97.65 | 94.81\n",
    "5 | b = 0, w = -0.1 to 0.1| 95.31 |94.9\n",
    "6 | b = w = 0 | 11.71875 |11.35\n",
    "\n",
    "Initializing all the bias to 0 performs good as earlier.   \n",
    "Initializing weights to 0 leads to very poor performance.If you initialize all weights with zeros then every hidden unit will get zero independent of the input. So, when all the hidden neurons start with the zero weights, then all of them will follow the same gradient and for this reason \"it affects only the scale of the weight vector, not the direction\".\n",
    "\n",
    "Also, having zero ( or equal) weights to start with will prevent the network from learning. The errors backpropagated through the network is proportional to the value of the weights. If all the weights are the same, then the backpropagated errors will be the same, and consequently, all of the weights will be updated by the same amount. To avoid this symmetry problem, the initial weights to the network should be unequal.\n",
    "\n",
    "Comparision4: Adding additional hidden layer(Deep NN)\n",
    "\n",
    "Model | Hidden Layers | Acc_on_train |Acc on Test         \n",
    "--- | --- | --- | ---\n",
    "1 | 1- 128 Units | 97.65 | 94.81\n",
    "7 | 1- 512units,2- 256 | 97.65 |96.61\n",
    "\n",
    "Adding hidden layers improves the performance of the model. This reduces the case of Underfitting but sometimes leads to Underfitting problem. In some situations, problems like vanishing gradient, exploding gradient are also associated with more number of hidden layers.\n",
    "\n",
    "Comparision5: Model with different Activation functions\n",
    "\n",
    "Model | Func on Hidden Layer | Acc_on_train |Acc on Test         \n",
    "--- | --- | --- | ---\n",
    "1 | Relu | 97.65 | 94.81\n",
    "8 | Softmax | 42.18 |29.96\n",
    "9 | Sigmoid | 89.84 |87.30\n",
    "10 | tanh | 92.96 |81.88\n",
    "11 | leaky_relu| 94.53 |94.25\n",
    "\n",
    "Softmax in hidden layer keeps all nodes linearly dependent, this results in poor generalization. Thus we are able to see that model 8 has poor performance.\n",
    "Incase of tanh function, the difference between training and testing accuracy show that the model is overfitted.\n",
    "\n",
    "Other Observations: It was observed that many times the results were not reproducible. This was the issue of shuffling of input data.\n",
    "Also, in some cases, testing accuracy was observed to be more than training accuracy. This may be purely accidental or may be a case of underfitting. To avoid this issue, fixed seed option should be adopted.\n",
    "\n",
    "**Working on Mnist Fashion Data**"
   ]
  },
  {
   "cell_type": "markdown",
   "metadata": {
    "id": "YcATfFbW1WGB",
    "colab_type": "text"
   },
   "source": [
    "**Step 1: Loading Data**"
   ]
  },
  {
   "cell_type": "code",
   "metadata": {
    "id": "kiylZH61c_hh",
    "colab_type": "code",
    "colab": {}
   },
   "source": [
    "mnist = tf.keras.datasets.fashion_mnist"
   ],
   "execution_count": 0,
   "outputs": []
  },
  {
   "cell_type": "code",
   "metadata": {
    "id": "qKihb9iYya80",
    "colab_type": "code",
    "colab": {
     "base_uri": "https://localhost:8080/",
     "height": 165
    },
    "outputId": "5d0e6f1f-9ed4-4286-cb40-19a26fdba5dc"
   },
   "source": [
    "(training_images, training_labels),(testing_images, testing_labels) = mnist.load_data()"
   ],
   "execution_count": 340,
   "outputs": [
    {
     "output_type": "stream",
     "text": [
      "Downloading data from https://storage.googleapis.com/tensorflow/tf-keras-datasets/train-labels-idx1-ubyte.gz\n",
      "32768/29515 [=================================] - 0s 0us/step\n",
      "Downloading data from https://storage.googleapis.com/tensorflow/tf-keras-datasets/train-images-idx3-ubyte.gz\n",
      "26427392/26421880 [==============================] - 0s 0us/step\n",
      "Downloading data from https://storage.googleapis.com/tensorflow/tf-keras-datasets/t10k-labels-idx1-ubyte.gz\n",
      "8192/5148 [===============================================] - 0s 0us/step\n",
      "Downloading data from https://storage.googleapis.com/tensorflow/tf-keras-datasets/t10k-images-idx3-ubyte.gz\n",
      "4423680/4422102 [==============================] - 0s 0us/step\n"
     ],
     "name": "stdout"
    }
   ]
  },
  {
   "cell_type": "markdown",
   "metadata": {
    "id": "t4MIrZDz1jZ4",
    "colab_type": "text"
   },
   "source": [
    "**Step 2: Visualizing input data**"
   ]
  },
  {
   "cell_type": "code",
   "metadata": {
    "id": "NYT8o9O0yjvn",
    "colab_type": "code",
    "colab": {
     "base_uri": "https://localhost:8080/",
     "height": 283
    },
    "outputId": "01509f5c-d8cb-413f-c94c-9d48f49211ef"
   },
   "source": [
    "plt.imshow(training_images[0])"
   ],
   "execution_count": 341,
   "outputs": [
    {
     "output_type": "execute_result",
     "data": {
      "text/plain": [
       "<matplotlib.image.AxesImage at 0x7f99adffbe10>"
      ]
     },
     "metadata": {
      "tags": []
     },
     "execution_count": 341
    },
    {
     "output_type": "display_data",
     "data": {
      "image/png": "[encoded data removed]",
      "text/plain": [
       "<Figure size 432x288 with 1 Axes>"
      ]
     },
     "metadata": {
      "tags": [],
      "needs_background": "light"
     }
    }
   ]
  },
  {
   "cell_type": "code",
   "metadata": {
    "id": "f4EgKv-DyrrM",
    "colab_type": "code",
    "colab": {
     "base_uri": "https://localhost:8080/",
     "height": 476
    },
    "outputId": "81976939-5ca1-4797-c98b-662825a29e99"
   },
   "source": [
    "plt.figure(figsize=(10,10))\n",
    "for i in range (20):\n",
    "  plt.subplot(5,5,i+1)\n",
    "  plt.xticks([])\n",
    "  plt.yticks([])\n",
    "  plt.grid(False)\n",
    "  plt.imshow(training_images[i],cmap = plt.cm.binary)\n",
    "  plt.xlabel([training_labels[i]])"
   ],
   "execution_count": 342,
   "outputs": [
    {
     "output_type": "display_data",
     "data": {
      "image/png": "[encoded data removed]",
      "text/plain": [
       "<Figure size 720x720 with 20 Axes>"
      ]
     },
     "metadata": {
      "tags": []
     }
    }
   ]
  },
  {
   "cell_type": "code",
   "metadata": {
    "id": "GlTebqYXyv5c",
    "colab_type": "code",
    "colab": {}
   },
   "source": [
    "shape_of_train_data = training_images.shape\n",
    "shape_of_test_data  = testing_images.shape\n",
    "num_of_train_data   = training_images.shape[0]\n",
    "num_of_test_data    = testing_images.shape[0]\n",
    "shape_of_image_hor  = training_images.shape[1]\n",
    "shape_of_image_vert = training_images.shape[2]\n",
    "number_of_dimensions= shape_of_image_hor*shape_of_image_vert\n",
    "\n",
    "label_list =[]\n",
    "for label in training_labels:\n",
    "  if label not in label_list:\n",
    "    label_list.append(label)\n",
    "number_of_labels = len(label_list)"
   ],
   "execution_count": 0,
   "outputs": []
  },
  {
   "cell_type": "code",
   "metadata": {
    "id": "JsfWu-Mvy2GX",
    "colab_type": "code",
    "colab": {
     "base_uri": "https://localhost:8080/",
     "height": 165
    },
    "outputId": "7ff7ea44-e78b-4af5-cc3b-e2802e998446"
   },
   "source": [
    "print('shape of training_data: '+ str(shape_of_train_data))\n",
    "print('shape of testing_data : '+ str(shape_of_test_data))\n",
    "print('num of training data  : '+ str(num_of_train_data))\n",
    "print('num of testing data   : '+ str(num_of_test_data))\n",
    "print('shape of an image     : '+ str(shape_of_image_hor) + ' x ' + str(shape_of_image_vert) + ' pixels')\n",
    "print('Number of Dimensions  : '+ str(number_of_dimensions))\n",
    "print('labels                : '+ str(sorted(label_list)))\n",
    "print('Number of Labels      : '+ str(number_of_labels))"
   ],
   "execution_count": 344,
   "outputs": [
    {
     "output_type": "stream",
     "text": [
      "shape of training_data: (60000, 28, 28)\n",
      "shape of testing_data : (10000, 28, 28)\n",
      "num of training data  : 60000\n",
      "num of testing data   : 10000\n",
      "shape of an image     : 28 x 28 pixels\n",
      "Number of Dimensions  : 784\n",
      "labels                : [0, 1, 2, 3, 4, 5, 6, 7, 8, 9]\n",
      "Number of Labels      : 10\n"
     ],
     "name": "stdout"
    }
   ]
  },
  {
   "cell_type": "markdown",
   "metadata": {
    "id": "JRArN3wX1sNY",
    "colab_type": "text"
   },
   "source": [
    "**Step 3: Flattening Images**"
   ]
  },
  {
   "cell_type": "code",
   "metadata": {
    "id": "uAaiEDUjy7f9",
    "colab_type": "code",
    "colab": {}
   },
   "source": [
    "data = MNISTDataset(training_images.reshape([-1,number_of_dimensions]),training_labels,\n",
    "                    testing_images.reshape([-1,number_of_dimensions]),testing_labels, \n",
    "                                           batch_size=128 )\n"
   ],
   "execution_count": 0,
   "outputs": []
  },
  {
   "cell_type": "code",
   "metadata": {
    "id": "05WZvd2FzEKx",
    "colab_type": "code",
    "colab": {
     "base_uri": "https://localhost:8080/",
     "height": 54
    },
    "outputId": "b55f7992-1441-4168-ae76-346707877cdb"
   },
   "source": [
    "print('New shape of Training Images: ' + str(data.train_data.shape))\n",
    "print('New shape of Testing Images : ' + str(data.test_data.shape))"
   ],
   "execution_count": 346,
   "outputs": [
    {
     "output_type": "stream",
     "text": [
      "New shape of Training Images: (60000, 784)\n",
      "New shape of Testing Images : (10000, 784)\n"
     ],
     "name": "stdout"
    }
   ]
  },
  {
   "cell_type": "markdown",
   "metadata": {
    "id": "K8lNgX6w1zr1",
    "colab_type": "text"
   },
   "source": [
    "**Step 4: Defining and Training Model**"
   ]
  },
  {
   "cell_type": "code",
   "metadata": {
    "id": "Fp2nHinGzJuX",
    "colab_type": "code",
    "colab": {}
   },
   "source": [
    "num_of_steps = 2000\n",
    "learning_rate1 = 0.1\n",
    "number_of_units_in_layer1 = 128"
   ],
   "execution_count": 0,
   "outputs": []
  },
  {
   "cell_type": "code",
   "metadata": {
    "id": "zDdv1Yi5zZYE",
    "colab_type": "code",
    "colab": {}
   },
   "source": [
    "w1 = tf.Variable(tf.random.uniform([number_of_dimensions,number_of_units_in_layer1],minval = -0.1, maxval=0.1,dtype=tf.dtypes.float32))\n",
    "b1 = tf.Variable(tf.random.uniform([number_of_units_in_layer1],minval = -0.1, maxval=0.1,dtype=tf.dtypes.float32))\n",
    "\n",
    "w2 = tf.Variable(tf.random.uniform([number_of_units_in_layer1,number_of_labels],minval = -0.1, maxval=0.1,dtype=tf.dtypes.float32))\n",
    "b2 = tf.Variable(tf.random.uniform([number_of_labels],minval = -0.1, maxval=0.1,dtype=tf.dtypes.float32))"
   ],
   "execution_count": 0,
   "outputs": []
  },
  {
   "cell_type": "code",
   "metadata": {
    "id": "1PF-_llwzdJ_",
    "colab_type": "code",
    "colab": {
     "base_uri": "https://localhost:8080/",
     "height": 91
    },
    "outputId": "8bd10856-9adf-48b9-8cd0-2676e000f7c3"
   },
   "source": [
    "print('Shape of weight matrix of hidden layer \"w1\": ' + str(w1.shape))\n",
    "print('Shape of bias matrix of hidden layer \"b1\"  : ' + str(b1.shape))\n",
    "\n",
    "print('Shape of weight matrix of output layer \"w2\": ' + str(w2.shape))\n",
    "print('Shape of bias matrix of output layer \"b2\"  : ' + str(b2.shape))"
   ],
   "execution_count": 349,
   "outputs": [
    {
     "output_type": "stream",
     "text": [
      "Shape of weight matrix of hidden layer \"w1\": (784, 128)\n",
      "Shape of bias matrix of hidden layer \"b1\"  : (128,)\n",
      "Shape of weight matrix of output layer \"w2\": (128, 10)\n",
      "Shape of bias matrix of output layer \"b2\"  : (10,)\n"
     ],
     "name": "stdout"
    }
   ]
  },
  {
   "cell_type": "code",
   "metadata": {
    "id": "kIo_W1lczi5B",
    "colab_type": "code",
    "colab": {
     "base_uri": "https://localhost:8080/",
     "height": 461
    },
    "outputId": "645142f1-5ea8-4984-e794-ec82c63a46b2"
   },
   "source": [
    "loss_list = []\n",
    "step_list = []\n",
    "for step in range(num_of_steps):\n",
    "  image_batch,label_batch = data.next_batch()  #This will update the batch size after every steps\n",
    "  with tf.GradientTape() as tape:#for monitoring every change to tensors\n",
    "    #logits1 = tf.matmul(image_batch,w1)+b1# image_batch.shape = (128 x 784), w1.shape= (784x128), \n",
    "    # image_batch x w1 = logits1, logits1 = (128x128)\n",
    "    hidden1 = tf.nn.relu(tf.matmul(image_batch,w1)+b1)\n",
    "    logits = tf.matmul(hidden1,w2)+b2\n",
    "\n",
    "    loss = tf.reduce_mean(tf.nn.sparse_softmax_cross_entropy_with_logits(logits=logits, labels=label_batch))\n",
    "    loss_list.append(loss)\n",
    "  grads = tape.gradient(loss, [w2,b2,w1,b1])\n",
    "  w2.assign_sub(learning_rate1*grads[0])#updating weights\n",
    "  b2.assign_sub(learning_rate1*grads[1])#updating \n",
    "  w1.assign_sub(learning_rate1*grads[2])\n",
    "  b1.assign_sub(learning_rate1*grads[3])\n",
    "  \n",
    "  step_list.append(step)\n",
    "  \n",
    "\n",
    "  if not step%100:# updating after 100 steps only\n",
    "    preds = tf.argmax(logits,axis = 1, output_type = tf.int32)#selecting max value's index\n",
    "    acc   = (tf.reduce_mean(tf.cast(tf.equal(preds, label_batch),tf.float32)))*100# comparing predicted value and actual value\n",
    "    #returning a binary output. Further checking number of correct classification and calculating accuracy.\n",
    "    print(\"Loss: {}, Accuracy on Training Data: {}\".format(loss,acc))\n",
    "    "
   ],
   "execution_count": 354,
   "outputs": [
    {
     "output_type": "stream",
     "text": [
      "Loss: 0.2660481035709381, Accuracy on Training Data: 89.0625\n",
      "Loss: 0.2626510560512543, Accuracy on Training Data: 89.0625\n",
      "Loss: 0.23624131083488464, Accuracy on Training Data: 89.84375\n",
      "Starting new epoch...\n",
      "Loss: 0.2057209610939026, Accuracy on Training Data: 95.3125\n",
      "Loss: 0.3658924102783203, Accuracy on Training Data: 85.15625\n",
      "Loss: 0.3105527460575104, Accuracy on Training Data: 86.71875\n",
      "Loss: 0.3164632320404053, Accuracy on Training Data: 85.9375\n",
      "Starting new epoch...\n",
      "Loss: 0.31536561250686646, Accuracy on Training Data: 88.28125\n",
      "Loss: 0.35820892453193665, Accuracy on Training Data: 82.8125\n",
      "Loss: 0.37553414702415466, Accuracy on Training Data: 89.0625\n",
      "Loss: 0.2869904637336731, Accuracy on Training Data: 89.84375\n",
      "Loss: 0.3967123031616211, Accuracy on Training Data: 88.28125\n",
      "Starting new epoch...\n",
      "Loss: 0.4832926094532013, Accuracy on Training Data: 79.6875\n",
      "Loss: 0.2950604557991028, Accuracy on Training Data: 89.0625\n",
      "Loss: 0.3326323926448822, Accuracy on Training Data: 87.5\n",
      "Loss: 0.2467869371175766, Accuracy on Training Data: 90.625\n",
      "Loss: 0.3043610155582428, Accuracy on Training Data: 88.28125\n",
      "Starting new epoch...\n",
      "Loss: 0.2269391119480133, Accuracy on Training Data: 92.96875\n",
      "Loss: 0.32085952162742615, Accuracy on Training Data: 89.0625\n",
      "Loss: 0.32574012875556946, Accuracy on Training Data: 86.71875\n"
     ],
     "name": "stdout"
    }
   ]
  },
  {
   "cell_type": "markdown",
   "metadata": {
    "id": "ljSnY-4q2GbH",
    "colab_type": "text"
   },
   "source": [
    "**Step 5: Checking Model Performance on Testing Data**"
   ]
  },
  {
   "cell_type": "code",
   "metadata": {
    "id": "cpV2CVKbznuE",
    "colab_type": "code",
    "colab": {
     "base_uri": "https://localhost:8080/",
     "height": 35
    },
    "outputId": "d887b58b-1aff-4068-a4c1-9c017ac890bc"
   },
   "source": [
    "test_prediction1 = tf.nn.relu(tf.matmul(data.test_data,w1)+b1)\n",
    "test_predictions = tf.argmax(tf.matmul(test_prediction1,w2)+b2, axis = 1, output_type= tf.int32)\n",
    "acc = (tf.reduce_mean(tf.cast(tf.equal(test_predictions, data.test_labels),tf.float32)))*100\n",
    "print(' Accuracy on Testing Data: {}'.format(acc))"
   ],
   "execution_count": 355,
   "outputs": [
    {
     "output_type": "stream",
     "text": [
      " Accuracy on Testing Data: 86.86000061035156\n"
     ],
     "name": "stdout"
    }
   ]
  },
  {
   "cell_type": "code",
   "metadata": {
    "id": "bS0T48h1zuKA",
    "colab_type": "code",
    "colab": {
     "base_uri": "https://localhost:8080/",
     "height": 298
    },
    "outputId": "889d8840-7a80-4de0-fcc3-140816901ed8"
   },
   "source": [
    "plt.figure()\n",
    "plt.plot(step_list,loss_list)\n",
    "plt.xlabel('Training Steps')\n",
    "plt.ylabel('Loss')"
   ],
   "execution_count": 356,
   "outputs": [
    {
     "output_type": "execute_result",
     "data": {
      "text/plain": [
       "Text(0, 0.5, 'Loss')"
      ]
     },
     "metadata": {
      "tags": []
     },
     "execution_count": 356
    },
    {
     "output_type": "display_data",
     "data": {
      "image/png": "[encoded data removed]",
      "text/plain": [
       "<Figure size 432x288 with 1 Axes>"
      ]
     },
     "metadata": {
      "tags": [],
      "needs_background": "light"
     }
    }
   ]
  },
  {
   "cell_type": "markdown",
   "metadata": {
    "id": "kqo7vpZs2gFM",
    "colab_type": "text"
   },
   "source": [
    "**Step 6: Partial Validation of Model**"
   ]
  },
  {
   "cell_type": "code",
   "metadata": {
    "id": "6a7Fh4drz8d3",
    "colab_type": "code",
    "colab": {}
   },
   "source": [
    "ind1, ind2,ind3,ind4,ind5 = 5678, 8765, 6857, 85, 9"
   ],
   "execution_count": 0,
   "outputs": []
  },
  {
   "cell_type": "code",
   "metadata": {
    "id": "ytFOPerd0C7d",
    "colab_type": "code",
    "colab": {
     "base_uri": "https://localhost:8080/",
     "height": 302
    },
    "outputId": "c1a493bd-66af-451a-dab3-63a539306310"
   },
   "source": [
    "plt.imshow(testing_images[ind1])\n",
    "plt.show\n",
    "print('      Model Prediction: {}'.format(test_predictions[ind1]))\n",
    "print('      Actual Label    : {}'.format(data.test_labels[ind1]))"
   ],
   "execution_count": 359,
   "outputs": [
    {
     "output_type": "stream",
     "text": [
      "      Model Prediction: 3\n",
      "      Actual Label    : 3\n"
     ],
     "name": "stdout"
    },
    {
     "output_type": "display_data",
     "data": {
      "image/png": "[encoded data removed]",
      "text/plain": [
       "<Figure size 432x288 with 1 Axes>"
      ]
     },
     "metadata": {
      "tags": [],
      "needs_background": "light"
     }
    }
   ]
  },
  {
   "cell_type": "code",
   "metadata": {
    "id": "0NZIZP-R0H0Q",
    "colab_type": "code",
    "colab": {
     "base_uri": "https://localhost:8080/",
     "height": 302
    },
    "outputId": "7ef941b7-be9b-4708-c732-21da062d19b0"
   },
   "source": [
    "plt.imshow(testing_images[ind2])\n",
    "plt.show\n",
    "print('      Model Prediction: {}'.format(test_predictions[ind2]))\n",
    "print('      Actual Label    : {}'.format(data.test_labels[ind2]))"
   ],
   "execution_count": 360,
   "outputs": [
    {
     "output_type": "stream",
     "text": [
      "      Model Prediction: 5\n",
      "      Actual Label    : 5\n"
     ],
     "name": "stdout"
    },
    {
     "output_type": "display_data",
     "data": {
      "image/png": "[encoded data removed]",
      "text/plain": [
       "<Figure size 432x288 with 1 Axes>"
      ]
     },
     "metadata": {
      "tags": [],
      "needs_background": "light"
     }
    }
   ]
  },
  {
   "cell_type": "code",
   "metadata": {
    "id": "liHU_vLI0rjL",
    "colab_type": "code",
    "colab": {
     "base_uri": "https://localhost:8080/",
     "height": 302
    },
    "outputId": "e5f0fe5c-f64b-4190-bfc6-b64039c7119a"
   },
   "source": [
    "plt.imshow(testing_images[ind3])\n",
    "plt.show\n",
    "print('      Model Prediction: {}'.format(test_predictions[ind3]))\n",
    "print('      Actual Label    : {}'.format(data.test_labels[ind3]))"
   ],
   "execution_count": 361,
   "outputs": [
    {
     "output_type": "stream",
     "text": [
      "      Model Prediction: 7\n",
      "      Actual Label    : 7\n"
     ],
     "name": "stdout"
    },
    {
     "output_type": "display_data",
     "data": {
      "image/png": "[encoded data removed]",
      "text/plain": [
       "<Figure size 432x288 with 1 Axes>"
      ]
     },
     "metadata": {
      "tags": [],
      "needs_background": "light"
     }
    }
   ]
  },
  {
   "cell_type": "code",
   "metadata": {
    "id": "lkN9klrl0vHP",
    "colab_type": "code",
    "colab": {
     "base_uri": "https://localhost:8080/",
     "height": 302
    },
    "outputId": "681de665-3c65-4cce-d8ed-35a5b4664024"
   },
   "source": [
    "plt.imshow(testing_images[ind4])\n",
    "plt.show\n",
    "print('      Model Prediction: {}'.format(test_predictions[ind4]))\n",
    "print('      Actual Label    : {}'.format(data.test_labels[ind4]))"
   ],
   "execution_count": 362,
   "outputs": [
    {
     "output_type": "stream",
     "text": [
      "      Model Prediction: 0\n",
      "      Actual Label    : 0\n"
     ],
     "name": "stdout"
    },
    {
     "output_type": "display_data",
     "data": {
      "image/png": "[encoded data removed]",
      "text/plain": [
       "<Figure size 432x288 with 1 Axes>"
      ]
     },
     "metadata": {
      "tags": [],
      "needs_background": "light"
     }
    }
   ]
  },
  {
   "cell_type": "code",
   "metadata": {
    "id": "YIuRgnhY06-m",
    "colab_type": "code",
    "colab": {
     "base_uri": "https://localhost:8080/",
     "height": 302
    },
    "outputId": "a5cba787-b0e3-43d6-9095-1cdcbaee5e37"
   },
   "source": [
    "plt.imshow(testing_images[ind5])\n",
    "plt.show\n",
    "print('      Model Prediction: {}'.format(test_predictions[ind5]))\n",
    "print('      Actual Label    : {}'.format(data.test_labels[ind5]))"
   ],
   "execution_count": 363,
   "outputs": [
    {
     "output_type": "stream",
     "text": [
      "      Model Prediction: 7\n",
      "      Actual Label    : 7\n"
     ],
     "name": "stdout"
    },
    {
     "output_type": "display_data",
     "data": {
      "image/png": "[encoded data removed]",
      "text/plain": [
       "<Figure size 432x288 with 1 Axes>"
      ]
     },
     "metadata": {
      "tags": [],
      "needs_background": "light"
     }
    }
   ]
  },
  {
   "cell_type": "code",
   "metadata": {
    "id": "paNRT0bA0-qF",
    "colab_type": "code",
    "colab": {}
   },
   "source": [
    ""
   ],
   "execution_count": 0,
   "outputs": []
  }
 ]
}