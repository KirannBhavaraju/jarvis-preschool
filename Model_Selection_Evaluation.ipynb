{
 "nbformat": 4,
 "nbformat_minor": 0,
 "metadata": {
  "colab": {
   "name": "Assignment4.ipynb",
   "provenance": [],
   "collapsed_sections": [],
   "authorship_tag": "ABX9TyNERJqwcWFIusOlPZ82Xp8T"
  },
  "kernelspec": {
   "name": "python3",
   "display_name": "Python 3"
  },
  "pycharm": {
   "stem_cell": {
    "cell_type": "raw",
    "source": [],
    "metadata": {
     "collapsed": false
    }
   }
  }
 },
 "cells": [
  {
   "cell_type": "markdown",
   "metadata": {
    "id": "FAkTqna3q-iS",
    "colab_type": "text"
   },
   "source": [
    "**Comparing the performance of two classifiers (Logistic regression and Decision Trees) using\n",
    "Dietterich’s 5x2cv paired t-test** "
   ]
  },
  {
   "cell_type": "code",
   "metadata": {
    "id": "Idmg_-req5D0",
    "colab_type": "code",
    "colab": {
     "base_uri": "https://localhost:8080/",
     "height": 51
    },
    "outputId": "6a9b9f14-4c05-4339-955b-06023578fe2c",
    "executionInfo": {
     "status": "ok",
     "timestamp": 1589101756120,
     "user_tz": -120,
     "elapsed": 2729,
     "user": {
      "displayName": "Kirann Bhavaraju",
      "photoUrl": "https://lh3.googleusercontent.com/a-/AOh14GgI_pWRFi5Jv8F5EgfOTpUwYaz9H7FMpB7iCnTDqUQ=s64",
      "userId": "01055382253313309158"
     }
    }
   },
   "source": [
    "from mlxtend.evaluate import paired_ttest_5x2cv\n",
    "from sklearn import datasets\n",
    "from sklearn.feature_extraction.text import CountVectorizer\n",
    "from sklearn.linear_model import LogisticRegression\n",
    "from sklearn.tree import DecisionTreeClassifier\n",
    "from sklearn.model_selection import train_test_split\n",
    "\n",
    "categories = ['alt.atheism', 'talk.religion.misc','comp.graphics', 'sci.space']\n",
    "#remove = ('headers', 'footers', 'quotes') uncomment and use this to remove metadata, which will be a realistic f1 score, less overfitting \n",
    "data_train = datasets.fetch_20newsgroups(subset='train', categories=categories, shuffle=True)\n",
    "y_ = data_train.target\n",
    "\n",
    "vectorizer = CountVectorizer(analyzer='word', strip_accents=ascii,min_df=0.001, max_df=0.2, stop_words='english')\n",
    "X_ = vectorizer.fit_transform(data_train.data)\n",
    "\n",
    "clf1 = LogisticRegression(random_state=1)\n",
    "clf2 = DecisionTreeClassifier(random_state=1)\n",
    "\n",
    "X_train, X_test, y_train, y_test = train_test_split(X_, y_, test_size=0.33, random_state=1)\n",
    "\n",
    "score1 = clf1.fit(X_train, y_train).score(X_test, y_test)\n",
    "score2 = clf2.fit(X_train, y_train).score(X_test, y_test)\n",
    "\n",
    "print(\"CLF1 : %.2f%% \" %(score1*100))\n",
    "print(\"CLF2 : %.2f%% \" %(score2*100))"
   ],
   "execution_count": 15,
   "outputs": [
    {
     "output_type": "stream",
     "text": [
      "CLF1 : 93.15% \n",
      "CLF2 : 79.32% \n"
     ],
     "name": "stdout"
    }
   ]
  },
  {
   "cell_type": "code",
   "metadata": {
    "id": "JZrQZgjL150k",
    "colab_type": "code",
    "colab": {
     "base_uri": "https://localhost:8080/",
     "height": 51
    },
    "outputId": "58e73295-fb00-4ac0-ac87-cdc1341f838a",
    "executionInfo": {
     "status": "ok",
     "timestamp": 1589101770429,
     "user_tz": -120,
     "elapsed": 10688,
     "user": {
      "displayName": "Kirann Bhavaraju",
      "photoUrl": "https://lh3.googleusercontent.com/a-/AOh14GgI_pWRFi5Jv8F5EgfOTpUwYaz9H7FMpB7iCnTDqUQ=s64",
      "userId": "01055382253313309158"
     }
    }
   },
   "source": [
    "t, p = paired_ttest_5x2cv(estimator1=clf1,estimator2=clf2, X=X_, y=y_, random_seed=1)\n",
    "\n",
    "print('t statistic: %.3f' % t)\n",
    "print('p value: %.3f' % p)"
   ],
   "execution_count": 16,
   "outputs": [
    {
     "output_type": "stream",
     "text": [
      "t statistic: 6.998\n",
      "p value: 0.001\n"
     ],
     "name": "stdout"
    }
   ]
  },
  {
   "cell_type": "markdown",
   "metadata": {
    "id": "4Zf0rJFM4siv",
    "colab_type": "text"
   },
   "source": [
    "**Comparing two classifiers (Logistic regression and Naive Bayes) using learning curves.**"
   ]
  },
  {
   "cell_type": "code",
   "metadata": {
    "id": "FOmBvgHZ4rur",
    "colab_type": "code",
    "colab": {
     "base_uri": "https://localhost:8080/",
     "height": 669
    },
    "outputId": "5ac355ed-1820-4bed-d0ce-344e7aec4fbc",
    "executionInfo": {
     "status": "ok",
     "timestamp": 1589110588233,
     "user_tz": -120,
     "elapsed": 2094,
     "user": {
      "displayName": "Kirann Bhavaraju",
      "photoUrl": "https://lh3.googleusercontent.com/a-/AOh14GgI_pWRFi5Jv8F5EgfOTpUwYaz9H7FMpB7iCnTDqUQ=s64",
      "userId": "01055382253313309158"
     }
    }
   },
   "source": [
    "from sklearn.datasets import load_breast_cancer\n",
    "from sklearn.model_selection import learning_curve\n",
    "from sklearn.preprocessing import minmax_scale,MinMaxScaler, scale\n",
    "from sklearn.naive_bayes import MultinomialNB\n",
    "import numpy as np\n",
    "import matplotlib.pyplot as plt\n",
    "\n",
    "\n",
    "cancer = load_breast_cancer()\n",
    "X1_ = cancer.data\n",
    "Y1_ = cancer.target\n",
    "\n",
    "# custom_partitions = [np.floor(0.2*Y_.size), np.floor(0.4*Y_.size), np.floor(0.6*Y_.size), np.floor(0.8*Y_.size),np.floor(1*Y_.size)]\n",
    "# custom_partitions = np.array(minmax_scale(custom_partitions,feature_range=(0,1)), dtype=int)\n",
    "\n",
    "mmc = MaxAbsScaler()\n",
    "x1_scaled = mmc.fit_transform(X_)\n",
    "\n",
    "partitions ,train_score ,test_score = learning_curve(LogisticRegression(), X1_scaled, Y1_,n_jobs=-1,cv=5, scoring='neg_mean_squared_error', train_sizes=[79, 159, 238, 318,398])\n",
    "#plt.plot(partitions , np.mean(train_score, axis = 1) , label = 'LR - Training' )\n",
    "plt.plot(train_sizes , np.mean(test_score, axis = 1), label = 'LR -Testing')\n",
    "\n",
    "print(train_score)\n",
    "print(test_score)\n",
    "print(\"--------------------------------------\")\n",
    "\n",
    "partitions1, train_score1, test_score1 = learning_curve(MultinomialNB(),X1_scaled, Y1_,n_jobs=-1,cv=5, scoring='neg_mean_squared_error',train_sizes = [79, 159, 238, 318,398])\n",
    "#plt.plot(partitions1 , np.mean(train_score1, axis = 1) , label = 'NB - Training' )\n",
    "plt.plot(partitions1 , np.mean(test_score1, axis = 1), label = 'NB - Testing')\n",
    "plt.title('Learning curve')\n",
    "plt.xlabel('training size')\n",
    "plt.ylabel('error')\n",
    "plt.legend()\n",
    "plt.show()\n",
    "print(train_score1)\n",
    "print(test_score1)\n",
    "print(\"--------------------------------------\")"
   ],
   "execution_count": 75,
   "outputs": [
    {
     "output_type": "stream",
     "text": [
      "[[0.96202532 0.93670886 0.96202532 0.96202532 0.96202532]\n",
      " [0.96855346 0.96855346 0.95597484 0.95597484 0.95597484]\n",
      " [0.97058824 0.97058824 0.97058824 0.96638655 0.96638655]\n",
      " [0.97169811 0.97169811 0.97169811 0.97484277 0.96540881]\n",
      " [0.97236181 0.96984925 0.96984925 0.98241206 0.97236181]]\n",
      "[[0.85964912 0.96491228 0.92105263 0.85087719 0.82300885]\n",
      " [0.9122807  0.96491228 0.99122807 0.96491228 0.99115044]\n",
      " [0.93859649 0.97368421 0.98245614 0.96491228 0.99115044]\n",
      " [0.95614035 0.96491228 0.98245614 0.96491228 0.98230088]\n",
      " [0.94736842 0.98245614 0.97368421 0.96491228 0.98230088]]\n",
      "--------------------------------------\n"
     ],
     "name": "stdout"
    },
    {
     "output_type": "display_data",
     "data": {
      "image/png": "[encoded data removed]",
      "text/plain": [
       "<Figure size 432x288 with 1 Axes>"
      ]
     },
     "metadata": {
      "tags": [],
      "needs_background": "light"
     }
    },
    {
     "output_type": "stream",
     "text": [
      "[[0.7721519  0.82278481 0.75949367 0.75949367 0.75949367]\n",
      " [0.71698113 0.79245283 0.83647799 0.83647799 0.83647799]\n",
      " [0.88235294 0.86134454 0.84033613 0.84453782 0.84453782]\n",
      " [0.86477987 0.86792453 0.8490566  0.83647799 0.87735849]\n",
      " [0.85175879 0.84673367 0.83417085 0.83417085 0.85427136]]\n",
      "[[0.46491228 0.70175439 0.40350877 0.40350877 0.44247788]\n",
      " [0.63157895 0.69298246 0.73684211 0.73684211 0.77876106]\n",
      " [0.86842105 0.84210526 0.90350877 0.79824561 0.78761062]\n",
      " [0.79824561 0.83333333 0.9122807  0.90350877 0.89380531]\n",
      " [0.77192982 0.79824561 0.86842105 0.88596491 0.92035398]]\n",
      "--------------------------------------\n"
     ],
     "name": "stdout"
    }
   ]
  }
 ]
}